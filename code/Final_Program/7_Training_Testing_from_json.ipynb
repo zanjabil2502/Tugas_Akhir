{
 "cells": [
  {
   "cell_type": "markdown",
   "id": "f29d2d10",
   "metadata": {},
   "source": [
    "## Downloading Pre-Trained Model"
   ]
  },
  {
   "cell_type": "code",
   "execution_count": null,
   "id": "e1ac6cf6",
   "metadata": {},
   "outputs": [],
   "source": [
    "!wget https://zenodo.org/record/3987831/files/ResNet22_mAP%3D0.430.pth"
   ]
  },
  {
   "cell_type": "markdown",
   "id": "30da0dfa",
   "metadata": {},
   "source": [
    "## Training from Json"
   ]
  },
  {
   "cell_type": "code",
   "execution_count": null,
   "id": "bb1cf3fb",
   "metadata": {},
   "outputs": [],
   "source": [
    "import json\n",
    "import os"
   ]
  },
  {
   "cell_type": "markdown",
   "id": "edb74d25",
   "metadata": {},
   "source": [
    "#### Change file_path with file path of json"
   ]
  },
  {
   "cell_type": "code",
   "execution_count": null,
   "id": "1c1edb03",
   "metadata": {},
   "outputs": [],
   "source": [
    "file_path = 'json/variety-dataset/exp-1.json'"
   ]
  },
  {
   "cell_type": "code",
   "execution_count": null,
   "id": "203cdd7d",
   "metadata": {},
   "outputs": [],
   "source": [
    "with open(file_path, 'r') as f:\n",
    "    data = json.load(f)\n",
    "    csv_train = data['dataset']['train_csv'] \n",
    "    csv_devel = data['dataset']['eval_csv']\n",
    "    csv_test = data['dataset']['test_csv'] \n",
    "    dir_input = data['dataset']['train_data_root_path']\n",
    "    dir_output = data['train_config']['logs_path']"
   ]
  },
  {
   "cell_type": "code",
   "execution_count": null,
   "id": "8eb0ee00",
   "metadata": {},
   "outputs": [],
   "source": [
    "split_folder = dir_output.split('/')\n",
    "path_save = ['']\n",
    "for i in range(len(split_folder)):\n",
    "    path_folder = os.path.join(path_save[i],split_folder[i])\n",
    "    path_save.append(path_folder)\n",
    "    if not os.path.exists(path_folder):\n",
    "        os.mkdir(path_folder)\n",
    "        print('created folder namely ', path_folder)"
   ]
  },
  {
   "cell_type": "code",
   "execution_count": null,
   "id": "abe139d2",
   "metadata": {},
   "outputs": [],
   "source": [
    "config = file_path\n",
    "seeds = [42]\n",
    "for seed in seeds:\n",
    "    command = f\"python script/train.py -c {config} -s {seed}\"\n",
    "    os.system(command)"
   ]
  },
  {
   "cell_type": "code",
   "execution_count": null,
   "id": "fcf88264",
   "metadata": {},
   "outputs": [],
   "source": [
    "data = csv_test\n",
    "folder = dir_input\n",
    "experiment_dir = dir_output\n",
    "musan = 'dataset/Musan-Data'\n",
    "command = f\"python script/test_all_seeds.py -t {data} -r {folder} --experiment_dir {experiment_dir}\"\n",
    "os.system(command)"
   ]
  },
  {
   "cell_type": "code",
   "execution_count": null,
   "id": "e60ee803",
   "metadata": {},
   "outputs": [],
   "source": [
    "import glob\n",
    "\n",
    "files = glob.glob(os.path.join(dir_output,'*/*/*.pt'))\n",
    "\n",
    "for file in files:\n",
    "    filename = file.split('/')[-1]\n",
    "    if filename.split('_')[0] == 'checkpoint':\n",
    "        os.remove(file)"
   ]
  }
 ],
 "metadata": {
  "kernelspec": {
   "display_name": "Python 3 (ipykernel)",
   "language": "python",
   "name": "python3"
  },
  "language_info": {
   "codemirror_mode": {
    "name": "ipython",
    "version": 3
   },
   "file_extension": ".py",
   "mimetype": "text/x-python",
   "name": "python",
   "nbconvert_exporter": "python",
   "pygments_lexer": "ipython3",
   "version": "3.10.5"
  }
 },
 "nbformat": 4,
 "nbformat_minor": 5
}
