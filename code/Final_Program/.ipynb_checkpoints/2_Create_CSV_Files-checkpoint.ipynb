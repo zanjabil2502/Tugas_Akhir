{
 "cells": [
  {
   "cell_type": "code",
   "execution_count": 1,
   "id": "4548a8e3",
   "metadata": {},
   "outputs": [],
   "source": [
    "from tqdm import tqdm\n",
    "import pandas as pd\n",
    "import numpy as np\n",
    "import os\n",
    "from collections import OrderedDict"
   ]
  },
  {
   "cell_type": "code",
   "execution_count": 17,
   "id": "ba4723dc",
   "metadata": {},
   "outputs": [],
   "source": [
    "if os.path.exists('csv_files')==False:\n",
    "    os.mkdir('csv_files')"
   ]
  },
  {
   "cell_type": "markdown",
   "id": "8a597b91",
   "metadata": {},
   "source": [
    "## Create Coswara's CSV File "
   ]
  },
  {
   "cell_type": "code",
   "execution_count": 18,
   "id": "9a5879b0",
   "metadata": {
    "scrolled": true
   },
   "outputs": [
    {
     "name": "stderr",
     "output_type": "stream",
     "text": [
      "100%|██████████████████████████████████████████████████████████████████████████████████████████████████████████████████████████████████████████████████████████████████████████████████████████████████████████████████████████████████████| 2745/2745 [00:14<00:00, 189.11it/s]\n"
     ]
    },
    {
     "data": {
      "text/html": [
       "<div>\n",
       "<style scoped>\n",
       "    .dataframe tbody tr th:only-of-type {\n",
       "        vertical-align: middle;\n",
       "    }\n",
       "\n",
       "    .dataframe tbody tr th {\n",
       "        vertical-align: top;\n",
       "    }\n",
       "\n",
       "    .dataframe thead th {\n",
       "        text-align: right;\n",
       "    }\n",
       "</style>\n",
       "<table border=\"1\" class=\"dataframe\">\n",
       "  <thead>\n",
       "    <tr style=\"text-align: right;\">\n",
       "      <th></th>\n",
       "      <th>ID</th>\n",
       "      <th>STATUS</th>\n",
       "      <th>DIR</th>\n",
       "      <th>DataSet</th>\n",
       "    </tr>\n",
       "  </thead>\n",
       "  <tbody>\n",
       "    <tr>\n",
       "      <th>0</th>\n",
       "      <td>4KISxr5Elsd5AtONZ380AtOuGbb2</td>\n",
       "      <td>healthy</td>\n",
       "      <td>dataset/Coswara-Data/20220224/4KISxr5Elsd5AtON...</td>\n",
       "      <td>coswara</td>\n",
       "    </tr>\n",
       "    <tr>\n",
       "      <th>1</th>\n",
       "      <td>Hfg15JKnNAcFGwh4AX9sFN9L1G83</td>\n",
       "      <td>recovered_full</td>\n",
       "      <td>dataset/Coswara-Data/20220224/Hfg15JKnNAcFGwh4...</td>\n",
       "      <td>coswara</td>\n",
       "    </tr>\n",
       "    <tr>\n",
       "      <th>2</th>\n",
       "      <td>IBZq01pmKeQaDwQrGq5oZ6ZbYuH3</td>\n",
       "      <td>no_resp_illness_exposed</td>\n",
       "      <td>dataset/Coswara-Data/20220224/IBZq01pmKeQaDwQr...</td>\n",
       "      <td>coswara</td>\n",
       "    </tr>\n",
       "    <tr>\n",
       "      <th>3</th>\n",
       "      <td>jbsPh0qE8Odkgiq5QSFkul82Vwo2</td>\n",
       "      <td>positive_mild</td>\n",
       "      <td>dataset/Coswara-Data/20220116/jbsPh0qE8Odkgiq5...</td>\n",
       "      <td>coswara</td>\n",
       "    </tr>\n",
       "    <tr>\n",
       "      <th>4</th>\n",
       "      <td>UVQq2N47Evgc5SlcS36RGiidwE53</td>\n",
       "      <td>positive_mild</td>\n",
       "      <td>dataset/Coswara-Data/20220224/UVQq2N47Evgc5Slc...</td>\n",
       "      <td>coswara</td>\n",
       "    </tr>\n",
       "  </tbody>\n",
       "</table>\n",
       "</div>"
      ],
      "text/plain": [
       "                             ID                   STATUS  \\\n",
       "0  4KISxr5Elsd5AtONZ380AtOuGbb2                  healthy   \n",
       "1  Hfg15JKnNAcFGwh4AX9sFN9L1G83           recovered_full   \n",
       "2  IBZq01pmKeQaDwQrGq5oZ6ZbYuH3  no_resp_illness_exposed   \n",
       "3  jbsPh0qE8Odkgiq5QSFkul82Vwo2            positive_mild   \n",
       "4  UVQq2N47Evgc5SlcS36RGiidwE53            positive_mild   \n",
       "\n",
       "                                                 DIR  DataSet  \n",
       "0  dataset/Coswara-Data/20220224/4KISxr5Elsd5AtON...  coswara  \n",
       "1  dataset/Coswara-Data/20220224/Hfg15JKnNAcFGwh4...  coswara  \n",
       "2  dataset/Coswara-Data/20220224/IBZq01pmKeQaDwQr...  coswara  \n",
       "3  dataset/Coswara-Data/20220116/jbsPh0qE8Odkgiq5...  coswara  \n",
       "4  dataset/Coswara-Data/20220224/UVQq2N47Evgc5Slc...  coswara  "
      ]
     },
     "execution_count": 18,
     "metadata": {},
     "output_type": "execute_result"
    }
   ],
   "source": [
    "names   = ['ID','STATUS','DIR','DataSet']\n",
    "join_by = pd.read_csv('dataset/Coswara-Data/combined_data.csv')\n",
    "\n",
    "import glob\n",
    "df_list = []\n",
    "for path in tqdm(glob.glob('dataset/Coswara-Data/*/*/cough-shallow.wav')):\n",
    "    temp = pd.DataFrame(columns=['id','DIR'])\n",
    "    temp['id'] = [path.split('/')[-2]]\n",
    "    temp['DIR'] = [path]\n",
    "    temp = pd.merge(left=temp,right=join_by,on='id',how='inner')\n",
    "    temp = temp[['id','covid_status','DIR']]\n",
    "    df_list.append(temp.rename(columns={'id':'ID','covid_status':'STATUS','DIR':'DIR'}))\n",
    "CosData=pd.concat(df_list)\n",
    "CosData['DataSet'] = 'coswara'\n",
    "CosData   = CosData.sample(frac=1).reset_index(drop=True)\n",
    "CosData.to_csv('csv_files/Coswara_shallow_dataset.csv', index=False)\n",
    "CosData.head()"
   ]
  },
  {
   "cell_type": "code",
   "execution_count": 19,
   "id": "fbb3acb7",
   "metadata": {},
   "outputs": [
    {
     "name": "stderr",
     "output_type": "stream",
     "text": [
      "100%|██████████████████████████████████████████████████████████████████████████████████████████████████████████████████████████████████████████████████████████████████████████████████████████████████████████████████████████████████████| 2746/2746 [00:14<00:00, 187.09it/s]\n"
     ]
    },
    {
     "data": {
      "text/html": [
       "<div>\n",
       "<style scoped>\n",
       "    .dataframe tbody tr th:only-of-type {\n",
       "        vertical-align: middle;\n",
       "    }\n",
       "\n",
       "    .dataframe tbody tr th {\n",
       "        vertical-align: top;\n",
       "    }\n",
       "\n",
       "    .dataframe thead th {\n",
       "        text-align: right;\n",
       "    }\n",
       "</style>\n",
       "<table border=\"1\" class=\"dataframe\">\n",
       "  <thead>\n",
       "    <tr style=\"text-align: right;\">\n",
       "      <th></th>\n",
       "      <th>ID</th>\n",
       "      <th>STATUS</th>\n",
       "      <th>DIR</th>\n",
       "      <th>DataSet</th>\n",
       "    </tr>\n",
       "  </thead>\n",
       "  <tbody>\n",
       "    <tr>\n",
       "      <th>0</th>\n",
       "      <td>QFxGVP17oxZUKUsuaW0O32qFdoT2</td>\n",
       "      <td>positive_mild</td>\n",
       "      <td>dataset/Coswara-Data/20210426/QFxGVP17oxZUKUsu...</td>\n",
       "      <td>coswara</td>\n",
       "    </tr>\n",
       "    <tr>\n",
       "      <th>1</th>\n",
       "      <td>6elrfW5mHEfZgdKic3J2EQ4Mn902</td>\n",
       "      <td>no_resp_illness_exposed</td>\n",
       "      <td>dataset/Coswara-Data/20220116/6elrfW5mHEfZgdKi...</td>\n",
       "      <td>coswara</td>\n",
       "    </tr>\n",
       "    <tr>\n",
       "      <th>2</th>\n",
       "      <td>6nUulJemkddThm7rsaNw4z31Ntu2</td>\n",
       "      <td>healthy</td>\n",
       "      <td>dataset/Coswara-Data/20201031/6nUulJemkddThm7r...</td>\n",
       "      <td>coswara</td>\n",
       "    </tr>\n",
       "    <tr>\n",
       "      <th>3</th>\n",
       "      <td>ePaI9geAOLYTcCjN0bI0vvbHAyR2</td>\n",
       "      <td>healthy</td>\n",
       "      <td>dataset/Coswara-Data/20200814/ePaI9geAOLYTcCjN...</td>\n",
       "      <td>coswara</td>\n",
       "    </tr>\n",
       "    <tr>\n",
       "      <th>4</th>\n",
       "      <td>0kFnp420ZNR1jLp0JWCjMGDzvXo2</td>\n",
       "      <td>positive_moderate</td>\n",
       "      <td>dataset/Coswara-Data/20220116/0kFnp420ZNR1jLp0...</td>\n",
       "      <td>coswara</td>\n",
       "    </tr>\n",
       "  </tbody>\n",
       "</table>\n",
       "</div>"
      ],
      "text/plain": [
       "                             ID                   STATUS  \\\n",
       "0  QFxGVP17oxZUKUsuaW0O32qFdoT2            positive_mild   \n",
       "1  6elrfW5mHEfZgdKic3J2EQ4Mn902  no_resp_illness_exposed   \n",
       "2  6nUulJemkddThm7rsaNw4z31Ntu2                  healthy   \n",
       "3  ePaI9geAOLYTcCjN0bI0vvbHAyR2                  healthy   \n",
       "4  0kFnp420ZNR1jLp0JWCjMGDzvXo2        positive_moderate   \n",
       "\n",
       "                                                 DIR  DataSet  \n",
       "0  dataset/Coswara-Data/20210426/QFxGVP17oxZUKUsu...  coswara  \n",
       "1  dataset/Coswara-Data/20220116/6elrfW5mHEfZgdKi...  coswara  \n",
       "2  dataset/Coswara-Data/20201031/6nUulJemkddThm7r...  coswara  \n",
       "3  dataset/Coswara-Data/20200814/ePaI9geAOLYTcCjN...  coswara  \n",
       "4  dataset/Coswara-Data/20220116/0kFnp420ZNR1jLp0...  coswara  "
      ]
     },
     "execution_count": 19,
     "metadata": {},
     "output_type": "execute_result"
    }
   ],
   "source": [
    "names   = ['ID','STATUS','DIR','DataSet']\n",
    "join_by = pd.read_csv('dataset/Coswara-Data/combined_data.csv')\n",
    "\n",
    "import glob\n",
    "df_list = []\n",
    "for path in tqdm(glob.glob('dataset/Coswara-Data/*/*/cough-heavy.wav')):\n",
    "    temp = pd.DataFrame(columns=['id','DIR'])\n",
    "    temp['id'] = [path.split('/')[-2]]\n",
    "    temp['DIR'] = [path]\n",
    "    temp = pd.merge(left=temp,right=join_by,on='id',how='inner')\n",
    "    temp = temp[['id','covid_status','DIR']]\n",
    "    df_list.append(temp.rename(columns={'id':'ID','covid_status':'STATUS','DIR':'DIR'}))\n",
    "HevData=pd.concat(df_list)\n",
    "HevData['DataSet'] = 'coswara'\n",
    "HevData   = HevData.sample(frac=1).reset_index(drop=True)\n",
    "HevData.to_csv('csv_files/Coswara_heavy_dataset.csv', index=False)\n",
    "HevData.head()"
   ]
  },
  {
   "cell_type": "markdown",
   "id": "c8628da3",
   "metadata": {},
   "source": [
    "## Create Coughvid's CSV File"
   ]
  },
  {
   "cell_type": "code",
   "execution_count": 21,
   "id": "837c3462",
   "metadata": {},
   "outputs": [
    {
     "data": {
      "text/html": [
       "<div>\n",
       "<style scoped>\n",
       "    .dataframe tbody tr th:only-of-type {\n",
       "        vertical-align: middle;\n",
       "    }\n",
       "\n",
       "    .dataframe tbody tr th {\n",
       "        vertical-align: top;\n",
       "    }\n",
       "\n",
       "    .dataframe thead th {\n",
       "        text-align: right;\n",
       "    }\n",
       "</style>\n",
       "<table border=\"1\" class=\"dataframe\">\n",
       "  <thead>\n",
       "    <tr style=\"text-align: right;\">\n",
       "      <th></th>\n",
       "      <th>ID</th>\n",
       "      <th>STATUS</th>\n",
       "      <th>DIR</th>\n",
       "      <th>DataSet</th>\n",
       "    </tr>\n",
       "  </thead>\n",
       "  <tbody>\n",
       "    <tr>\n",
       "      <th>0</th>\n",
       "      <td>9831d8fd-411e-4d5c-ae69-efc1c46dbb3c</td>\n",
       "      <td>COVID-19</td>\n",
       "      <td>dataset/Coughvid-Data/public_dataset/9831d8fd-...</td>\n",
       "      <td>coughvid</td>\n",
       "    </tr>\n",
       "    <tr>\n",
       "      <th>1</th>\n",
       "      <td>f878fe55-b1b5-4d00-a66b-f8b2e5f739a4</td>\n",
       "      <td>healthy</td>\n",
       "      <td>dataset/Coughvid-Data/public_dataset/f878fe55-...</td>\n",
       "      <td>coughvid</td>\n",
       "    </tr>\n",
       "    <tr>\n",
       "      <th>2</th>\n",
       "      <td>d3fa0181-3d96-447a-9010-54df36ebc9cc</td>\n",
       "      <td>healthy</td>\n",
       "      <td>dataset/Coughvid-Data/public_dataset/d3fa0181-...</td>\n",
       "      <td>coughvid</td>\n",
       "    </tr>\n",
       "    <tr>\n",
       "      <th>3</th>\n",
       "      <td>4a7033fa-b742-4f20-802f-60f4cce923b9</td>\n",
       "      <td>healthy</td>\n",
       "      <td>dataset/Coughvid-Data/public_dataset/4a7033fa-...</td>\n",
       "      <td>coughvid</td>\n",
       "    </tr>\n",
       "    <tr>\n",
       "      <th>4</th>\n",
       "      <td>5feb6a4a-a30d-4963-98e3-005d71448357</td>\n",
       "      <td>healthy</td>\n",
       "      <td>dataset/Coughvid-Data/public_dataset/5feb6a4a-...</td>\n",
       "      <td>coughvid</td>\n",
       "    </tr>\n",
       "  </tbody>\n",
       "</table>\n",
       "</div>"
      ],
      "text/plain": [
       "                                     ID    STATUS  \\\n",
       "0  9831d8fd-411e-4d5c-ae69-efc1c46dbb3c  COVID-19   \n",
       "1  f878fe55-b1b5-4d00-a66b-f8b2e5f739a4   healthy   \n",
       "2  d3fa0181-3d96-447a-9010-54df36ebc9cc   healthy   \n",
       "3  4a7033fa-b742-4f20-802f-60f4cce923b9   healthy   \n",
       "4  5feb6a4a-a30d-4963-98e3-005d71448357   healthy   \n",
       "\n",
       "                                                 DIR   DataSet  \n",
       "0  dataset/Coughvid-Data/public_dataset/9831d8fd-...  coughvid  \n",
       "1  dataset/Coughvid-Data/public_dataset/f878fe55-...  coughvid  \n",
       "2  dataset/Coughvid-Data/public_dataset/d3fa0181-...  coughvid  \n",
       "3  dataset/Coughvid-Data/public_dataset/4a7033fa-...  coughvid  \n",
       "4  dataset/Coughvid-Data/public_dataset/5feb6a4a-...  coughvid  "
      ]
     },
     "execution_count": 21,
     "metadata": {},
     "output_type": "execute_result"
    }
   ],
   "source": [
    "coughvid  = 'dataset/Coughvid-Data/public_dataset/'\n",
    "\n",
    "VidData   = pd.read_csv(os.path.join(coughvid,'metadata_compiled.csv'),header=0)\n",
    "VidData   = VidData.loc[VidData['cough_detected'] >= 0.0][['uuid','status']]\n",
    "VidData.dropna(inplace=True)\n",
    "\n",
    "extradata = VidData.loc[VidData['status']=='COVID-19']\n",
    "notradata = VidData.loc[VidData['status']!='COVID-19']\n",
    "\n",
    "VidData   = pd.concat([extradata,notradata],ignore_index= True)\n",
    "VidData['DIR'] = coughvid + VidData['uuid'] + '.webm'\n",
    "VidData['DataSet'] = 'coughvid'\n",
    "VidData.rename(columns={'uuid': 'ID', 'status': 'STATUS'}, inplace=True)\n",
    "VidData   = VidData.sample(frac=1).reset_index(drop=True)\n",
    "VidData.to_csv('csv_files/Coughvid_dataset.csv', index=False)\n",
    "VidData.head()"
   ]
  },
  {
   "cell_type": "markdown",
   "id": "6f409a40",
   "metadata": {},
   "source": [
    "## Create Compare's CSV File"
   ]
  },
  {
   "cell_type": "code",
   "execution_count": 22,
   "id": "0dacd4bb",
   "metadata": {},
   "outputs": [
    {
     "name": "stderr",
     "output_type": "stream",
     "text": [
      "725it [00:01, 644.45it/s]\n"
     ]
    },
    {
     "data": {
      "text/html": [
       "<div>\n",
       "<style scoped>\n",
       "    .dataframe tbody tr th:only-of-type {\n",
       "        vertical-align: middle;\n",
       "    }\n",
       "\n",
       "    .dataframe tbody tr th {\n",
       "        vertical-align: top;\n",
       "    }\n",
       "\n",
       "    .dataframe thead th {\n",
       "        text-align: right;\n",
       "    }\n",
       "</style>\n",
       "<table border=\"1\" class=\"dataframe\">\n",
       "  <thead>\n",
       "    <tr style=\"text-align: right;\">\n",
       "      <th></th>\n",
       "      <th>ID</th>\n",
       "      <th>STATUS</th>\n",
       "      <th>DIR</th>\n",
       "      <th>DataSet</th>\n",
       "    </tr>\n",
       "  </thead>\n",
       "  <tbody>\n",
       "    <tr>\n",
       "      <th>0</th>\n",
       "      <td>ChZ56JFWqW</td>\n",
       "      <td>negative</td>\n",
       "      <td>dataset/Compare-Data/dist/wav/devel_198.wav</td>\n",
       "      <td>compare</td>\n",
       "    </tr>\n",
       "    <tr>\n",
       "      <th>1</th>\n",
       "      <td>CNz7PwFNQz</td>\n",
       "      <td>positive</td>\n",
       "      <td>dataset/Compare-Data/dist/wav/train_277.wav</td>\n",
       "      <td>compare</td>\n",
       "    </tr>\n",
       "    <tr>\n",
       "      <th>2</th>\n",
       "      <td>QhD1rJu56r</td>\n",
       "      <td>positive</td>\n",
       "      <td>dataset/Compare-Data/dist/wav/train_249.wav</td>\n",
       "      <td>compare</td>\n",
       "    </tr>\n",
       "    <tr>\n",
       "      <th>3</th>\n",
       "      <td>2020-04-07-21_18_44_580900</td>\n",
       "      <td>positive</td>\n",
       "      <td>dataset/Compare-Data/dist/wav/train_253.wav</td>\n",
       "      <td>compare</td>\n",
       "    </tr>\n",
       "    <tr>\n",
       "      <th>4</th>\n",
       "      <td>mCkMX2Pc6C</td>\n",
       "      <td>negative</td>\n",
       "      <td>dataset/Compare-Data/dist/wav/train_155.wav</td>\n",
       "      <td>compare</td>\n",
       "    </tr>\n",
       "  </tbody>\n",
       "</table>\n",
       "</div>"
      ],
      "text/plain": [
       "                           ID    STATUS  \\\n",
       "0                  ChZ56JFWqW  negative   \n",
       "1                  CNz7PwFNQz  positive   \n",
       "2                  QhD1rJu56r  positive   \n",
       "3  2020-04-07-21_18_44_580900  positive   \n",
       "4                  mCkMX2Pc6C  negative   \n",
       "\n",
       "                                           DIR  DataSet  \n",
       "0  dataset/Compare-Data/dist/wav/devel_198.wav  compare  \n",
       "1  dataset/Compare-Data/dist/wav/train_277.wav  compare  \n",
       "2  dataset/Compare-Data/dist/wav/train_249.wav  compare  \n",
       "3  dataset/Compare-Data/dist/wav/train_253.wav  compare  \n",
       "4  dataset/Compare-Data/dist/wav/train_155.wav  compare  "
      ]
     },
     "execution_count": 22,
     "metadata": {},
     "output_type": "execute_result"
    }
   ],
   "source": [
    "compare = 'dataset/Compare-Data/dist/wav'\n",
    "df = pd.read_csv('dataset/Compare-Data/metaData_CCS.csv')\n",
    "df_list = []\n",
    "for index,row in tqdm(df.iterrows()):\n",
    "    temp = pd.DataFrame(columns=['ID','STATUS','DIR','DataSet'])\n",
    "    temp['ID'] = [row['Uid']]\n",
    "    temp['STATUS'] = [row['label']]\n",
    "    fn = row['filename']\n",
    "    temp['DIR'] = [os.path.join(compare,fn)]\n",
    "    temp['DataSet'] = ['compare']\n",
    "    df_list.append(temp)\n",
    "CompData = pd.concat(df_list)\n",
    "CompData = CompData.sample(frac=1).reset_index(drop=True)\n",
    "CompData.to_csv('csv_files/Compare_dataset.csv', index=False)\n",
    "CompData.head()\n",
    "    "
   ]
  },
  {
   "cell_type": "markdown",
   "id": "b74ecdca",
   "metadata": {},
   "source": [
    "## Merge CSV "
   ]
  },
  {
   "cell_type": "code",
   "execution_count": 2,
   "id": "042e30ac",
   "metadata": {},
   "outputs": [],
   "source": [
    "CosData = pd.read_csv('csv_files/Coswara_shallow_dataset.csv')\n",
    "HevData = pd.read_csv('csv_files/Coswara_heavy_dataset.csv')\n",
    "VidData = pd.read_csv('csv_files/Coughvid_dataset.csv')\n",
    "CompData = pd.read_csv('csv_files/Compare_dataset.csv')"
   ]
  },
  {
   "cell_type": "code",
   "execution_count": 3,
   "id": "26f20481",
   "metadata": {},
   "outputs": [
    {
     "name": "stderr",
     "output_type": "stream",
     "text": [
      "22440it [00:34, 657.87it/s]\n"
     ]
    },
    {
     "data": {
      "text/html": [
       "<div>\n",
       "<style scoped>\n",
       "    .dataframe tbody tr th:only-of-type {\n",
       "        vertical-align: middle;\n",
       "    }\n",
       "\n",
       "    .dataframe tbody tr th {\n",
       "        vertical-align: top;\n",
       "    }\n",
       "\n",
       "    .dataframe thead th {\n",
       "        text-align: right;\n",
       "    }\n",
       "</style>\n",
       "<table border=\"1\" class=\"dataframe\">\n",
       "  <thead>\n",
       "    <tr style=\"text-align: right;\">\n",
       "      <th></th>\n",
       "      <th>ID</th>\n",
       "      <th>STATUS</th>\n",
       "      <th>DIR</th>\n",
       "      <th>DataSet</th>\n",
       "    </tr>\n",
       "  </thead>\n",
       "  <tbody>\n",
       "    <tr>\n",
       "      <th>0</th>\n",
       "      <td>d56c0ae6-f451-4034-b1be-346501090361</td>\n",
       "      <td>negative</td>\n",
       "      <td>dataset/Coughvid-Data/public_dataset/d56c0ae6-...</td>\n",
       "      <td>coughvid</td>\n",
       "    </tr>\n",
       "    <tr>\n",
       "      <th>1</th>\n",
       "      <td>3cb7b8de-3b4a-451c-92ba-bc19dc26ce8d</td>\n",
       "      <td>negative</td>\n",
       "      <td>dataset/Coughvid-Data/public_dataset/3cb7b8de-...</td>\n",
       "      <td>coughvid</td>\n",
       "    </tr>\n",
       "    <tr>\n",
       "      <th>2</th>\n",
       "      <td>1cc4f496-320e-41c3-8d81-4b4dfaa55489</td>\n",
       "      <td>negative</td>\n",
       "      <td>dataset/Coughvid-Data/public_dataset/1cc4f496-...</td>\n",
       "      <td>coughvid</td>\n",
       "    </tr>\n",
       "    <tr>\n",
       "      <th>3</th>\n",
       "      <td>2d46ffd8-4f17-426d-af12-bafbf7dac732</td>\n",
       "      <td>negative</td>\n",
       "      <td>dataset/Coughvid-Data/public_dataset/2d46ffd8-...</td>\n",
       "      <td>coughvid</td>\n",
       "    </tr>\n",
       "    <tr>\n",
       "      <th>4</th>\n",
       "      <td>a3303d3c-a4ee-4898-bbd6-3f50d918b6e7</td>\n",
       "      <td>negative</td>\n",
       "      <td>dataset/Coughvid-Data/public_dataset/a3303d3c-...</td>\n",
       "      <td>coughvid</td>\n",
       "    </tr>\n",
       "  </tbody>\n",
       "</table>\n",
       "</div>"
      ],
      "text/plain": [
       "                                     ID    STATUS  \\\n",
       "0  d56c0ae6-f451-4034-b1be-346501090361  negative   \n",
       "1  3cb7b8de-3b4a-451c-92ba-bc19dc26ce8d  negative   \n",
       "2  1cc4f496-320e-41c3-8d81-4b4dfaa55489  negative   \n",
       "3  2d46ffd8-4f17-426d-af12-bafbf7dac732  negative   \n",
       "4  a3303d3c-a4ee-4898-bbd6-3f50d918b6e7  negative   \n",
       "\n",
       "                                                 DIR   DataSet  \n",
       "0  dataset/Coughvid-Data/public_dataset/d56c0ae6-...  coughvid  \n",
       "1  dataset/Coughvid-Data/public_dataset/3cb7b8de-...  coughvid  \n",
       "2  dataset/Coughvid-Data/public_dataset/1cc4f496-...  coughvid  \n",
       "3  dataset/Coughvid-Data/public_dataset/2d46ffd8-...  coughvid  \n",
       "4  dataset/Coughvid-Data/public_dataset/a3303d3c-...  coughvid  "
      ]
     },
     "execution_count": 3,
     "metadata": {},
     "output_type": "execute_result"
    }
   ],
   "source": [
    "MergeData = pd.concat([CosData, HevData, VidData, CompData])\n",
    "MergeData   = MergeData.sample(frac=1).reset_index(drop=True)\n",
    "df_list = []\n",
    "for index,row in tqdm(MergeData.iterrows()):\n",
    "    temp = pd.DataFrame(columns=['ID','STATUS','DIR','DataSet'])\n",
    "    diagnose = row['STATUS']\n",
    "    if diagnose == 'healthy' or diagnose == 'negative':\n",
    "        status = 'negative'\n",
    "        temp['ID'] = [row['ID']]\n",
    "        temp['STATUS'] = [status]\n",
    "        temp['DIR'] = [row['DIR']]\n",
    "        temp['DataSet'] = [row['DataSet']] \n",
    "    elif diagnose == 'positive_moderate' or diagnose == 'positive_mild' or diagnose == 'positive_asymp' or diagnose == 'positive' or diagnose == 'COVID-19':\n",
    "        status = 'positive'\n",
    "        temp['ID'] = [row['ID']]\n",
    "        temp['STATUS'] = [status]\n",
    "        temp['DIR'] = [row['DIR']]\n",
    "        temp['DataSet'] = [row['DataSet']]\n",
    "    df_list.append(temp)\n",
    "MergeData = pd.concat(df_list)\n",
    "MergeData = MergeData.sample(frac=1).reset_index(drop=True)\n",
    "MergeData.to_csv('csv_files/Merge_dataset.csv', index=False)\n",
    "MergeData.head()"
   ]
  },
  {
   "cell_type": "code",
   "execution_count": 4,
   "id": "14d2f228",
   "metadata": {},
   "outputs": [
    {
     "data": {
      "text/plain": [
       "18586"
      ]
     },
     "execution_count": 4,
     "metadata": {},
     "output_type": "execute_result"
    }
   ],
   "source": [
    "len(MergeData)"
   ]
  },
  {
   "cell_type": "code",
   "execution_count": 5,
   "id": "573781ef",
   "metadata": {
    "scrolled": false
   },
   "outputs": [
    {
     "name": "stderr",
     "output_type": "stream",
     "text": [
      "18586it [00:17, 1070.85it/s]\n"
     ]
    },
    {
     "data": {
      "text/html": [
       "<div>\n",
       "<style scoped>\n",
       "    .dataframe tbody tr th:only-of-type {\n",
       "        vertical-align: middle;\n",
       "    }\n",
       "\n",
       "    .dataframe tbody tr th {\n",
       "        vertical-align: top;\n",
       "    }\n",
       "\n",
       "    .dataframe thead th {\n",
       "        text-align: right;\n",
       "    }\n",
       "</style>\n",
       "<table border=\"1\" class=\"dataframe\">\n",
       "  <thead>\n",
       "    <tr style=\"text-align: right;\">\n",
       "      <th></th>\n",
       "      <th>ID</th>\n",
       "      <th>STATUS</th>\n",
       "      <th>DIR</th>\n",
       "      <th>DataSet</th>\n",
       "    </tr>\n",
       "  </thead>\n",
       "  <tbody>\n",
       "    <tr>\n",
       "      <th>0</th>\n",
       "      <td>pWFMPFBys1bBerYz5Si4Gb8brGn1</td>\n",
       "      <td>positive</td>\n",
       "      <td>dataset/Coswara-Data/20210406/pWFMPFBys1bBerYz...</td>\n",
       "      <td>coswara</td>\n",
       "    </tr>\n",
       "    <tr>\n",
       "      <th>1</th>\n",
       "      <td>VPZ9JFB5p6Sp4aM4wR55ljbLFat2</td>\n",
       "      <td>positive</td>\n",
       "      <td>dataset/Coswara-Data/20220116/VPZ9JFB5p6Sp4aM4...</td>\n",
       "      <td>coswara</td>\n",
       "    </tr>\n",
       "    <tr>\n",
       "      <th>2</th>\n",
       "      <td>FxH3P9BpP0fmb5Ks4yRmkKOqqEO2</td>\n",
       "      <td>positive</td>\n",
       "      <td>dataset/Coswara-Data/20220224/FxH3P9BpP0fmb5Ks...</td>\n",
       "      <td>coswara</td>\n",
       "    </tr>\n",
       "    <tr>\n",
       "      <th>3</th>\n",
       "      <td>xYCukI9rgMeslwjIYWheFtyZ6zk1</td>\n",
       "      <td>positive</td>\n",
       "      <td>dataset/Coswara-Data/20200824/xYCukI9rgMeslwjI...</td>\n",
       "      <td>coswara</td>\n",
       "    </tr>\n",
       "    <tr>\n",
       "      <th>4</th>\n",
       "      <td>BfkSf0P6WcOlQW1jfLuLKEPusF82</td>\n",
       "      <td>positive</td>\n",
       "      <td>dataset/Coswara-Data/20210406/BfkSf0P6WcOlQW1j...</td>\n",
       "      <td>coswara</td>\n",
       "    </tr>\n",
       "  </tbody>\n",
       "</table>\n",
       "</div>"
      ],
      "text/plain": [
       "                             ID    STATUS  \\\n",
       "0  pWFMPFBys1bBerYz5Si4Gb8brGn1  positive   \n",
       "1  VPZ9JFB5p6Sp4aM4wR55ljbLFat2  positive   \n",
       "2  FxH3P9BpP0fmb5Ks4yRmkKOqqEO2  positive   \n",
       "3  xYCukI9rgMeslwjIYWheFtyZ6zk1  positive   \n",
       "4  BfkSf0P6WcOlQW1jfLuLKEPusF82  positive   \n",
       "\n",
       "                                                 DIR  DataSet  \n",
       "0  dataset/Coswara-Data/20210406/pWFMPFBys1bBerYz...  coswara  \n",
       "1  dataset/Coswara-Data/20220116/VPZ9JFB5p6Sp4aM4...  coswara  \n",
       "2  dataset/Coswara-Data/20220224/FxH3P9BpP0fmb5Ks...  coswara  \n",
       "3  dataset/Coswara-Data/20200824/xYCukI9rgMeslwjI...  coswara  \n",
       "4  dataset/Coswara-Data/20210406/BfkSf0P6WcOlQW1j...  coswara  "
      ]
     },
     "execution_count": 5,
     "metadata": {},
     "output_type": "execute_result"
    }
   ],
   "source": [
    "df = pd.read_csv('csv_files/Merge_dataset.csv')\n",
    "df_list = []\n",
    "for index,row in tqdm(df.iterrows()):\n",
    "    temp = pd.DataFrame(columns=['ID','STATUS','DIR','DataSet'])\n",
    "    diagnose = row['STATUS']\n",
    "    dataset = row['DataSet']\n",
    "    paths = row['DIR']\n",
    "    if dataset == 'coswara':\n",
    "        if diagnose == 'positive':\n",
    "            temp['ID'] = [row['ID']]\n",
    "            temp['STATUS'] = [diagnose]\n",
    "            temp['DIR'] = [paths]\n",
    "            temp['DataSet'] = [row['DataSet']] \n",
    "\n",
    "    df_list.append(temp)\n",
    "PosData = pd.concat(df_list)\n",
    "PosData = PosData.sample(frac=1).reset_index(drop=True)\n",
    "PosData.to_csv('csv_files/Coswara_positive_dataset.csv', index=False)\n",
    "PosData.head()"
   ]
  },
  {
   "cell_type": "code",
   "execution_count": 6,
   "id": "c6d6540c",
   "metadata": {},
   "outputs": [
    {
     "data": {
      "text/plain": [
       "1362"
      ]
     },
     "execution_count": 6,
     "metadata": {},
     "output_type": "execute_result"
    }
   ],
   "source": [
    "len(PosData)"
   ]
  },
  {
   "cell_type": "code",
   "execution_count": 7,
   "id": "4d6990dc",
   "metadata": {},
   "outputs": [
    {
     "name": "stderr",
     "output_type": "stream",
     "text": [
      "18586it [00:18, 1025.57it/s]\n"
     ]
    },
    {
     "data": {
      "text/html": [
       "<div>\n",
       "<style scoped>\n",
       "    .dataframe tbody tr th:only-of-type {\n",
       "        vertical-align: middle;\n",
       "    }\n",
       "\n",
       "    .dataframe tbody tr th {\n",
       "        vertical-align: top;\n",
       "    }\n",
       "\n",
       "    .dataframe thead th {\n",
       "        text-align: right;\n",
       "    }\n",
       "</style>\n",
       "<table border=\"1\" class=\"dataframe\">\n",
       "  <thead>\n",
       "    <tr style=\"text-align: right;\">\n",
       "      <th></th>\n",
       "      <th>ID</th>\n",
       "      <th>STATUS</th>\n",
       "      <th>DIR</th>\n",
       "      <th>DataSet</th>\n",
       "    </tr>\n",
       "  </thead>\n",
       "  <tbody>\n",
       "    <tr>\n",
       "      <th>0</th>\n",
       "      <td>OatFCKWJSXcyyGHHGozArF6mCVU2</td>\n",
       "      <td>negative</td>\n",
       "      <td>dataset/Coswara-Data/20200416/OatFCKWJSXcyyGHH...</td>\n",
       "      <td>coswara</td>\n",
       "    </tr>\n",
       "    <tr>\n",
       "      <th>1</th>\n",
       "      <td>P8Qw2Prg2BRb7H72PbY3Dftp9Rv2</td>\n",
       "      <td>negative</td>\n",
       "      <td>dataset/Coswara-Data/20200415/P8Qw2Prg2BRb7H72...</td>\n",
       "      <td>coswara</td>\n",
       "    </tr>\n",
       "    <tr>\n",
       "      <th>2</th>\n",
       "      <td>hqzMroQpC0QHDRI78EvbdmhgksU2</td>\n",
       "      <td>negative</td>\n",
       "      <td>dataset/Coswara-Data/20200416/hqzMroQpC0QHDRI7...</td>\n",
       "      <td>coswara</td>\n",
       "    </tr>\n",
       "    <tr>\n",
       "      <th>3</th>\n",
       "      <td>G3iIP9QRHPTItOsK6lpEMd6IQKw1</td>\n",
       "      <td>negative</td>\n",
       "      <td>dataset/Coswara-Data/20200413/G3iIP9QRHPTItOsK...</td>\n",
       "      <td>coswara</td>\n",
       "    </tr>\n",
       "    <tr>\n",
       "      <th>4</th>\n",
       "      <td>kbznHTdWBpXO5FWTxPmJHRhgW8J3</td>\n",
       "      <td>negative</td>\n",
       "      <td>dataset/Coswara-Data/20210603/kbznHTdWBpXO5FWT...</td>\n",
       "      <td>coswara</td>\n",
       "    </tr>\n",
       "  </tbody>\n",
       "</table>\n",
       "</div>"
      ],
      "text/plain": [
       "                             ID    STATUS  \\\n",
       "0  OatFCKWJSXcyyGHHGozArF6mCVU2  negative   \n",
       "1  P8Qw2Prg2BRb7H72PbY3Dftp9Rv2  negative   \n",
       "2  hqzMroQpC0QHDRI78EvbdmhgksU2  negative   \n",
       "3  G3iIP9QRHPTItOsK6lpEMd6IQKw1  negative   \n",
       "4  kbznHTdWBpXO5FWTxPmJHRhgW8J3  negative   \n",
       "\n",
       "                                                 DIR  DataSet  \n",
       "0  dataset/Coswara-Data/20200416/OatFCKWJSXcyyGHH...  coswara  \n",
       "1  dataset/Coswara-Data/20200415/P8Qw2Prg2BRb7H72...  coswara  \n",
       "2  dataset/Coswara-Data/20200416/hqzMroQpC0QHDRI7...  coswara  \n",
       "3  dataset/Coswara-Data/20200413/G3iIP9QRHPTItOsK...  coswara  \n",
       "4  dataset/Coswara-Data/20210603/kbznHTdWBpXO5FWT...  coswara  "
      ]
     },
     "execution_count": 7,
     "metadata": {},
     "output_type": "execute_result"
    }
   ],
   "source": [
    "df = pd.read_csv('csv_files/Merge_dataset.csv')\n",
    "df_list = []\n",
    "for index,row in tqdm(df.iterrows()):\n",
    "    temp = pd.DataFrame(columns=['ID','STATUS','DIR','DataSet'])\n",
    "    diagnose = row['STATUS']\n",
    "    dataset = row['DataSet']\n",
    "    paths = row['DIR']\n",
    "    if dataset == 'coswara':\n",
    "        if diagnose == 'negative':\n",
    "            temp['ID'] = [row['ID']]\n",
    "            temp['STATUS'] = [diagnose]\n",
    "            temp['DIR'] = [paths]\n",
    "            temp['DataSet'] = [row['DataSet']] \n",
    "\n",
    "    df_list.append(temp)\n",
    "PosData = pd.concat(df_list)\n",
    "PosData = PosData.sample(frac=1).reset_index(drop=True)\n",
    "PosData.to_csv('csv_files/Coswara_negative_dataset.csv', index=False)\n",
    "PosData.head()"
   ]
  },
  {
   "cell_type": "code",
   "execution_count": 8,
   "id": "99fe02e5",
   "metadata": {},
   "outputs": [
    {
     "data": {
      "text/plain": [
       "2865"
      ]
     },
     "execution_count": 8,
     "metadata": {},
     "output_type": "execute_result"
    }
   ],
   "source": [
    "len(PosData)"
   ]
  },
  {
   "cell_type": "code",
   "execution_count": 9,
   "id": "d0e9cd50",
   "metadata": {},
   "outputs": [
    {
     "name": "stderr",
     "output_type": "stream",
     "text": [
      "18586it [00:18, 1030.82it/s]\n"
     ]
    },
    {
     "data": {
      "text/html": [
       "<div>\n",
       "<style scoped>\n",
       "    .dataframe tbody tr th:only-of-type {\n",
       "        vertical-align: middle;\n",
       "    }\n",
       "\n",
       "    .dataframe tbody tr th {\n",
       "        vertical-align: top;\n",
       "    }\n",
       "\n",
       "    .dataframe thead th {\n",
       "        text-align: right;\n",
       "    }\n",
       "</style>\n",
       "<table border=\"1\" class=\"dataframe\">\n",
       "  <thead>\n",
       "    <tr style=\"text-align: right;\">\n",
       "      <th></th>\n",
       "      <th>ID</th>\n",
       "      <th>STATUS</th>\n",
       "      <th>DIR</th>\n",
       "      <th>DataSet</th>\n",
       "    </tr>\n",
       "  </thead>\n",
       "  <tbody>\n",
       "    <tr>\n",
       "      <th>0</th>\n",
       "      <td>491018d6-fe1e-4b24-9c42-70971ec93615</td>\n",
       "      <td>positive</td>\n",
       "      <td>dataset/Coughvid-Data/public_dataset/491018d6-...</td>\n",
       "      <td>coughvid</td>\n",
       "    </tr>\n",
       "    <tr>\n",
       "      <th>1</th>\n",
       "      <td>9c36ce7d-dc4f-4046-85a9-5b9cf5e2e80b</td>\n",
       "      <td>positive</td>\n",
       "      <td>dataset/Coughvid-Data/public_dataset/9c36ce7d-...</td>\n",
       "      <td>coughvid</td>\n",
       "    </tr>\n",
       "    <tr>\n",
       "      <th>2</th>\n",
       "      <td>563a6cd6-55b0-4895-af02-87de034ae948</td>\n",
       "      <td>positive</td>\n",
       "      <td>dataset/Coughvid-Data/public_dataset/563a6cd6-...</td>\n",
       "      <td>coughvid</td>\n",
       "    </tr>\n",
       "    <tr>\n",
       "      <th>3</th>\n",
       "      <td>5a783d35-fd85-43d7-9ae7-22db4f523269</td>\n",
       "      <td>positive</td>\n",
       "      <td>dataset/Coughvid-Data/public_dataset/5a783d35-...</td>\n",
       "      <td>coughvid</td>\n",
       "    </tr>\n",
       "    <tr>\n",
       "      <th>4</th>\n",
       "      <td>4fa54167-06c6-485a-a7b5-4b3696aa1393</td>\n",
       "      <td>positive</td>\n",
       "      <td>dataset/Coughvid-Data/public_dataset/4fa54167-...</td>\n",
       "      <td>coughvid</td>\n",
       "    </tr>\n",
       "  </tbody>\n",
       "</table>\n",
       "</div>"
      ],
      "text/plain": [
       "                                     ID    STATUS  \\\n",
       "0  491018d6-fe1e-4b24-9c42-70971ec93615  positive   \n",
       "1  9c36ce7d-dc4f-4046-85a9-5b9cf5e2e80b  positive   \n",
       "2  563a6cd6-55b0-4895-af02-87de034ae948  positive   \n",
       "3  5a783d35-fd85-43d7-9ae7-22db4f523269  positive   \n",
       "4  4fa54167-06c6-485a-a7b5-4b3696aa1393  positive   \n",
       "\n",
       "                                                 DIR   DataSet  \n",
       "0  dataset/Coughvid-Data/public_dataset/491018d6-...  coughvid  \n",
       "1  dataset/Coughvid-Data/public_dataset/9c36ce7d-...  coughvid  \n",
       "2  dataset/Coughvid-Data/public_dataset/563a6cd6-...  coughvid  \n",
       "3  dataset/Coughvid-Data/public_dataset/5a783d35-...  coughvid  \n",
       "4  dataset/Coughvid-Data/public_dataset/4fa54167-...  coughvid  "
      ]
     },
     "execution_count": 9,
     "metadata": {},
     "output_type": "execute_result"
    }
   ],
   "source": [
    "df = pd.read_csv('csv_files/Merge_dataset.csv')\n",
    "df_list = []\n",
    "for index,row in tqdm(df.iterrows()):\n",
    "    temp = pd.DataFrame(columns=['ID','STATUS','DIR','DataSet'])\n",
    "    diagnose = row['STATUS']\n",
    "    dataset = row['DataSet']\n",
    "    dirs  = row['DIR']\n",
    "    if dataset == 'coughvid':\n",
    "        if diagnose == 'positive':\n",
    "            temp['ID'] = [row['ID']]\n",
    "            temp['STATUS'] = [diagnose]\n",
    "            temp['DIR'] = [dirs]\n",
    "            temp['DataSet'] = [row['DataSet']] \n",
    "    df_list.append(temp)\n",
    "Posvid_Data = pd.concat(df_list)\n",
    "Posvid_Data = Posvid_Data.sample(frac=1).reset_index(drop=True)\n",
    "Posvid_Data.to_csv('csv_files/Coughvid_positive_dataset.csv', index=False)\n",
    "Posvid_Data.head()"
   ]
  },
  {
   "cell_type": "code",
   "execution_count": 10,
   "id": "cfb5706e",
   "metadata": {},
   "outputs": [
    {
     "data": {
      "text/plain": [
       "1155"
      ]
     },
     "execution_count": 10,
     "metadata": {},
     "output_type": "execute_result"
    }
   ],
   "source": [
    "len(Posvid_Data)"
   ]
  },
  {
   "cell_type": "code",
   "execution_count": 11,
   "id": "8de8c07c",
   "metadata": {},
   "outputs": [
    {
     "name": "stderr",
     "output_type": "stream",
     "text": [
      "18586it [00:26, 692.78it/s]\n"
     ]
    },
    {
     "data": {
      "text/html": [
       "<div>\n",
       "<style scoped>\n",
       "    .dataframe tbody tr th:only-of-type {\n",
       "        vertical-align: middle;\n",
       "    }\n",
       "\n",
       "    .dataframe tbody tr th {\n",
       "        vertical-align: top;\n",
       "    }\n",
       "\n",
       "    .dataframe thead th {\n",
       "        text-align: right;\n",
       "    }\n",
       "</style>\n",
       "<table border=\"1\" class=\"dataframe\">\n",
       "  <thead>\n",
       "    <tr style=\"text-align: right;\">\n",
       "      <th></th>\n",
       "      <th>ID</th>\n",
       "      <th>STATUS</th>\n",
       "      <th>DIR</th>\n",
       "      <th>DataSet</th>\n",
       "    </tr>\n",
       "  </thead>\n",
       "  <tbody>\n",
       "    <tr>\n",
       "      <th>0</th>\n",
       "      <td>78dd1905-47b1-49b6-93cb-b8df43324f95</td>\n",
       "      <td>negative</td>\n",
       "      <td>dataset/Coughvid-Data/public_dataset/78dd1905-...</td>\n",
       "      <td>coughvid</td>\n",
       "    </tr>\n",
       "    <tr>\n",
       "      <th>1</th>\n",
       "      <td>defe2926-9ed9-4ca9-a09e-7f936825e100</td>\n",
       "      <td>negative</td>\n",
       "      <td>dataset/Coughvid-Data/public_dataset/defe2926-...</td>\n",
       "      <td>coughvid</td>\n",
       "    </tr>\n",
       "    <tr>\n",
       "      <th>2</th>\n",
       "      <td>1558d92a-0e13-4888-bf81-0359db3ddd3b</td>\n",
       "      <td>negative</td>\n",
       "      <td>dataset/Coughvid-Data/public_dataset/1558d92a-...</td>\n",
       "      <td>coughvid</td>\n",
       "    </tr>\n",
       "    <tr>\n",
       "      <th>3</th>\n",
       "      <td>9e5c158b-d4a3-4d3e-9fe0-92efb67e4b22</td>\n",
       "      <td>negative</td>\n",
       "      <td>dataset/Coughvid-Data/public_dataset/9e5c158b-...</td>\n",
       "      <td>coughvid</td>\n",
       "    </tr>\n",
       "    <tr>\n",
       "      <th>4</th>\n",
       "      <td>f5afa857-e4c0-4f97-afdf-ee9ecd3a099c</td>\n",
       "      <td>negative</td>\n",
       "      <td>dataset/Coughvid-Data/public_dataset/f5afa857-...</td>\n",
       "      <td>coughvid</td>\n",
       "    </tr>\n",
       "  </tbody>\n",
       "</table>\n",
       "</div>"
      ],
      "text/plain": [
       "                                     ID    STATUS  \\\n",
       "0  78dd1905-47b1-49b6-93cb-b8df43324f95  negative   \n",
       "1  defe2926-9ed9-4ca9-a09e-7f936825e100  negative   \n",
       "2  1558d92a-0e13-4888-bf81-0359db3ddd3b  negative   \n",
       "3  9e5c158b-d4a3-4d3e-9fe0-92efb67e4b22  negative   \n",
       "4  f5afa857-e4c0-4f97-afdf-ee9ecd3a099c  negative   \n",
       "\n",
       "                                                 DIR   DataSet  \n",
       "0  dataset/Coughvid-Data/public_dataset/78dd1905-...  coughvid  \n",
       "1  dataset/Coughvid-Data/public_dataset/defe2926-...  coughvid  \n",
       "2  dataset/Coughvid-Data/public_dataset/1558d92a-...  coughvid  \n",
       "3  dataset/Coughvid-Data/public_dataset/9e5c158b-...  coughvid  \n",
       "4  dataset/Coughvid-Data/public_dataset/f5afa857-...  coughvid  "
      ]
     },
     "execution_count": 11,
     "metadata": {},
     "output_type": "execute_result"
    }
   ],
   "source": [
    "df = pd.read_csv('csv_files/Merge_dataset.csv')\n",
    "df_list = []\n",
    "for index,row in tqdm(df.iterrows()):\n",
    "    temp = pd.DataFrame(columns=['ID','STATUS','DIR','DataSet'])\n",
    "    diagnose = row['STATUS']\n",
    "    dataset = row['DataSet']\n",
    "    dirs  = row['DIR']\n",
    "    if dataset == 'coughvid':\n",
    "        if diagnose == 'negative':\n",
    "            temp['ID'] = [row['ID']]\n",
    "            temp['STATUS'] = [diagnose]\n",
    "            temp['DIR'] = [dirs]\n",
    "            temp['DataSet'] = [row['DataSet']] \n",
    "    df_list.append(temp)\n",
    "Posvid_Data = pd.concat(df_list)\n",
    "Posvid_Data = Posvid_Data.sample(frac=1).reset_index(drop=True)\n",
    "Posvid_Data.to_csv('csv_files/Coughvid_negative_dataset.csv', index=False)\n",
    "Posvid_Data.head()"
   ]
  },
  {
   "cell_type": "code",
   "execution_count": 12,
   "id": "d17ce337",
   "metadata": {},
   "outputs": [
    {
     "data": {
      "text/plain": [
       "12479"
      ]
     },
     "execution_count": 12,
     "metadata": {},
     "output_type": "execute_result"
    }
   ],
   "source": [
    "len(Posvid_Data)"
   ]
  },
  {
   "cell_type": "code",
   "execution_count": 13,
   "id": "309bbd37",
   "metadata": {},
   "outputs": [
    {
     "name": "stderr",
     "output_type": "stream",
     "text": [
      "18586it [00:18, 1029.12it/s]\n"
     ]
    },
    {
     "data": {
      "text/html": [
       "<div>\n",
       "<style scoped>\n",
       "    .dataframe tbody tr th:only-of-type {\n",
       "        vertical-align: middle;\n",
       "    }\n",
       "\n",
       "    .dataframe tbody tr th {\n",
       "        vertical-align: top;\n",
       "    }\n",
       "\n",
       "    .dataframe thead th {\n",
       "        text-align: right;\n",
       "    }\n",
       "</style>\n",
       "<table border=\"1\" class=\"dataframe\">\n",
       "  <thead>\n",
       "    <tr style=\"text-align: right;\">\n",
       "      <th></th>\n",
       "      <th>ID</th>\n",
       "      <th>STATUS</th>\n",
       "      <th>DIR</th>\n",
       "      <th>DataSet</th>\n",
       "    </tr>\n",
       "  </thead>\n",
       "  <tbody>\n",
       "    <tr>\n",
       "      <th>0</th>\n",
       "      <td>qoIaAEbVnw1H</td>\n",
       "      <td>negative</td>\n",
       "      <td>dataset/Compare-Data/dist/wav/devel_158.wav</td>\n",
       "      <td>compare</td>\n",
       "    </tr>\n",
       "    <tr>\n",
       "      <th>1</th>\n",
       "      <td>CIG586uAOR7P</td>\n",
       "      <td>negative</td>\n",
       "      <td>dataset/Compare-Data/dist/wav/test_205.wav</td>\n",
       "      <td>compare</td>\n",
       "    </tr>\n",
       "    <tr>\n",
       "      <th>2</th>\n",
       "      <td>ZzqgwKoZ0o</td>\n",
       "      <td>negative</td>\n",
       "      <td>dataset/Compare-Data/dist/wav/devel_146.wav</td>\n",
       "      <td>compare</td>\n",
       "    </tr>\n",
       "    <tr>\n",
       "      <th>3</th>\n",
       "      <td>mCkMX2Pc6C</td>\n",
       "      <td>negative</td>\n",
       "      <td>dataset/Compare-Data/dist/wav/train_165.wav</td>\n",
       "      <td>compare</td>\n",
       "    </tr>\n",
       "    <tr>\n",
       "      <th>4</th>\n",
       "      <td>qoIaAEbVnw1H</td>\n",
       "      <td>negative</td>\n",
       "      <td>dataset/Compare-Data/dist/wav/devel_187.wav</td>\n",
       "      <td>compare</td>\n",
       "    </tr>\n",
       "  </tbody>\n",
       "</table>\n",
       "</div>"
      ],
      "text/plain": [
       "             ID    STATUS                                          DIR  \\\n",
       "0  qoIaAEbVnw1H  negative  dataset/Compare-Data/dist/wav/devel_158.wav   \n",
       "1  CIG586uAOR7P  negative   dataset/Compare-Data/dist/wav/test_205.wav   \n",
       "2    ZzqgwKoZ0o  negative  dataset/Compare-Data/dist/wav/devel_146.wav   \n",
       "3    mCkMX2Pc6C  negative  dataset/Compare-Data/dist/wav/train_165.wav   \n",
       "4  qoIaAEbVnw1H  negative  dataset/Compare-Data/dist/wav/devel_187.wav   \n",
       "\n",
       "   DataSet  \n",
       "0  compare  \n",
       "1  compare  \n",
       "2  compare  \n",
       "3  compare  \n",
       "4  compare  "
      ]
     },
     "execution_count": 13,
     "metadata": {},
     "output_type": "execute_result"
    }
   ],
   "source": [
    "df = pd.read_csv('csv_files/Merge_dataset.csv')\n",
    "df_list = []\n",
    "for index,row in tqdm(df.iterrows()):\n",
    "    temp = pd.DataFrame(columns=['ID','STATUS','DIR','DataSet'])\n",
    "    diagnose = row['STATUS']\n",
    "    dataset = row['DataSet']\n",
    "    dirs  = row['DIR']\n",
    "    if dataset == 'compare':\n",
    "        if diagnose == 'negative':\n",
    "            temp['ID'] = [row['ID']]\n",
    "            temp['STATUS'] = [diagnose]\n",
    "            temp['DIR'] = [dirs]\n",
    "            temp['DataSet'] = [row['DataSet']] \n",
    "    df_list.append(temp)\n",
    "Posvid_Data = pd.concat(df_list)\n",
    "Posvid_Data = Posvid_Data.sample(frac=1).reset_index(drop=True)\n",
    "Posvid_Data.to_csv('csv_files/Compare_negative_dataset.csv', index=False)\n",
    "Posvid_Data.head()"
   ]
  },
  {
   "cell_type": "code",
   "execution_count": 14,
   "id": "aafdc0ed",
   "metadata": {},
   "outputs": [
    {
     "data": {
      "text/plain": [
       "567"
      ]
     },
     "execution_count": 14,
     "metadata": {},
     "output_type": "execute_result"
    }
   ],
   "source": [
    "len(Posvid_Data)"
   ]
  },
  {
   "cell_type": "code",
   "execution_count": 15,
   "id": "9dcf21a1",
   "metadata": {},
   "outputs": [
    {
     "name": "stderr",
     "output_type": "stream",
     "text": [
      "18586it [00:16, 1105.51it/s]\n"
     ]
    },
    {
     "data": {
      "text/html": [
       "<div>\n",
       "<style scoped>\n",
       "    .dataframe tbody tr th:only-of-type {\n",
       "        vertical-align: middle;\n",
       "    }\n",
       "\n",
       "    .dataframe tbody tr th {\n",
       "        vertical-align: top;\n",
       "    }\n",
       "\n",
       "    .dataframe thead th {\n",
       "        text-align: right;\n",
       "    }\n",
       "</style>\n",
       "<table border=\"1\" class=\"dataframe\">\n",
       "  <thead>\n",
       "    <tr style=\"text-align: right;\">\n",
       "      <th></th>\n",
       "      <th>ID</th>\n",
       "      <th>STATUS</th>\n",
       "      <th>DIR</th>\n",
       "      <th>DataSet</th>\n",
       "    </tr>\n",
       "  </thead>\n",
       "  <tbody>\n",
       "    <tr>\n",
       "      <th>0</th>\n",
       "      <td>2020-04-17-07_27_36_683349</td>\n",
       "      <td>positive</td>\n",
       "      <td>dataset/Compare-Data/dist/wav/devel_084.wav</td>\n",
       "      <td>compare</td>\n",
       "    </tr>\n",
       "    <tr>\n",
       "      <th>1</th>\n",
       "      <td>K3QOxH0OS7</td>\n",
       "      <td>positive</td>\n",
       "      <td>dataset/Compare-Data/dist/wav/train_118.wav</td>\n",
       "      <td>compare</td>\n",
       "    </tr>\n",
       "    <tr>\n",
       "      <th>2</th>\n",
       "      <td>CNz7PwFNQz</td>\n",
       "      <td>positive</td>\n",
       "      <td>dataset/Compare-Data/dist/wav/train_142.wav</td>\n",
       "      <td>compare</td>\n",
       "    </tr>\n",
       "    <tr>\n",
       "      <th>3</th>\n",
       "      <td>Dir6AWH2bs</td>\n",
       "      <td>positive</td>\n",
       "      <td>dataset/Compare-Data/dist/wav/devel_029.wav</td>\n",
       "      <td>compare</td>\n",
       "    </tr>\n",
       "    <tr>\n",
       "      <th>4</th>\n",
       "      <td>pIs0irifZL</td>\n",
       "      <td>positive</td>\n",
       "      <td>dataset/Compare-Data/dist/wav/train_079.wav</td>\n",
       "      <td>compare</td>\n",
       "    </tr>\n",
       "  </tbody>\n",
       "</table>\n",
       "</div>"
      ],
      "text/plain": [
       "                           ID    STATUS  \\\n",
       "0  2020-04-17-07_27_36_683349  positive   \n",
       "1                  K3QOxH0OS7  positive   \n",
       "2                  CNz7PwFNQz  positive   \n",
       "3                  Dir6AWH2bs  positive   \n",
       "4                  pIs0irifZL  positive   \n",
       "\n",
       "                                           DIR  DataSet  \n",
       "0  dataset/Compare-Data/dist/wav/devel_084.wav  compare  \n",
       "1  dataset/Compare-Data/dist/wav/train_118.wav  compare  \n",
       "2  dataset/Compare-Data/dist/wav/train_142.wav  compare  \n",
       "3  dataset/Compare-Data/dist/wav/devel_029.wav  compare  \n",
       "4  dataset/Compare-Data/dist/wav/train_079.wav  compare  "
      ]
     },
     "execution_count": 15,
     "metadata": {},
     "output_type": "execute_result"
    }
   ],
   "source": [
    "df = pd.read_csv('csv_files/Merge_dataset.csv')\n",
    "df_list = []\n",
    "for index,row in tqdm(df.iterrows()):\n",
    "    temp = pd.DataFrame(columns=['ID','STATUS','DIR','DataSet'])\n",
    "    diagnose = row['STATUS']\n",
    "    dataset = row['DataSet']\n",
    "    dirs  = row['DIR']\n",
    "    if dataset == 'compare':\n",
    "        if diagnose == 'positive':\n",
    "            temp['ID'] = [row['ID']]\n",
    "            temp['STATUS'] = [diagnose]\n",
    "            temp['DIR'] = [dirs]\n",
    "            temp['DataSet'] = [row['DataSet']] \n",
    "    df_list.append(temp)\n",
    "Posvid_Data = pd.concat(df_list)\n",
    "Posvid_Data = Posvid_Data.sample(frac=1).reset_index(drop=True)\n",
    "Posvid_Data.to_csv('csv_files/Compare_positive_dataset.csv', index=False)\n",
    "Posvid_Data.head()"
   ]
  },
  {
   "cell_type": "code",
   "execution_count": 16,
   "id": "cde197e3",
   "metadata": {},
   "outputs": [
    {
     "data": {
      "text/plain": [
       "158"
      ]
     },
     "execution_count": 16,
     "metadata": {},
     "output_type": "execute_result"
    }
   ],
   "source": [
    "len(Posvid_Data)"
   ]
  },
  {
   "cell_type": "code",
   "execution_count": null,
   "id": "d68f29ad",
   "metadata": {},
   "outputs": [],
   "source": []
  }
 ],
 "metadata": {
  "kernelspec": {
   "display_name": "Python 3 (ipykernel)",
   "language": "python",
   "name": "python3"
  },
  "language_info": {
   "codemirror_mode": {
    "name": "ipython",
    "version": 3
   },
   "file_extension": ".py",
   "mimetype": "text/x-python",
   "name": "python",
   "nbconvert_exporter": "python",
   "pygments_lexer": "ipython3",
   "version": "3.9.8"
  }
 },
 "nbformat": 4,
 "nbformat_minor": 5
}
