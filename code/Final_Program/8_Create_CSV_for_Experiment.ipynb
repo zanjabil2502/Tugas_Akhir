{
 "cells": [
  {
   "cell_type": "code",
   "execution_count": 1,
   "id": "989b891b",
   "metadata": {},
   "outputs": [],
   "source": [
    "import pandas as pd\n",
    "import os"
   ]
  },
  {
   "cell_type": "code",
   "execution_count": 47,
   "id": "6cbb59da",
   "metadata": {},
   "outputs": [],
   "source": [
    "folder = 'csv_files/threshold_detection/90_persen'\n",
    "coughvid_pos = pd.read_csv(os.path.join(folder,'Coughvid_positive_dataset.csv'))\n",
    "coswara_pos = pd.read_csv(os.path.join(folder,'Coswara_positive_dataset.csv'))\n",
    "coughvid_neg = pd.read_csv(os.path.join(folder,'Coughvid_negative_dataset.csv'))\n",
    "coswara_neg = pd.read_csv(os.path.join(folder,'Coswara_negative_dataset.csv'))\n",
    "compare = pd.read_csv(os.path.join(folder,'Compare_dataset.csv'))"
   ]
  },
  {
   "cell_type": "code",
   "execution_count": 48,
   "id": "5eb24a45",
   "metadata": {},
   "outputs": [],
   "source": [
    "coughvid_neg = coughvid_neg[0:len(coughvid_pos)]\n",
    "coswara_neg = coswara_neg[0:len(coswara_pos)]"
   ]
  },
  {
   "cell_type": "code",
   "execution_count": 49,
   "id": "89800e94",
   "metadata": {},
   "outputs": [],
   "source": [
    "partisi = 0.2"
   ]
  },
  {
   "cell_type": "code",
   "execution_count": 50,
   "id": "c1b2c52f",
   "metadata": {},
   "outputs": [],
   "source": [
    "df_list = []\n",
    "for index, row in coughvid_pos.iterrows():\n",
    "    temp = pd.DataFrame(columns=['filename','label'])\n",
    "    fn = row['filename']\n",
    "    temp['filename'] = [fn]\n",
    "    temp['label'] = [row['label']]\n",
    "    df_list.append(temp)\n",
    "num = int(partisi*len(df_list))\n",
    "\n",
    "VidPosDevData = pd.concat(df_list[0:num])\n",
    "VidPosDevData.to_csv(os.path.join(folder,'coughvid_pos_devel.csv'), index=False)\n",
    "\n",
    "VidPosTrainData = pd.concat(df_list[num:])\n",
    "VidPosTrainData.to_csv(os.path.join(folder,'coughvid_pos_train.csv'), index=False)"
   ]
  },
  {
   "cell_type": "code",
   "execution_count": 51,
   "id": "dcc64a75",
   "metadata": {},
   "outputs": [],
   "source": [
    "df_list = []\n",
    "for index, row in coughvid_neg.iterrows():\n",
    "    temp = pd.DataFrame(columns=['filename','label'])\n",
    "    fn = row['filename']\n",
    "    temp['filename'] = [fn]\n",
    "    temp['label'] = [row['label']]\n",
    "    df_list.append(temp)\n",
    "num = int(partisi*len(df_list))\n",
    "\n",
    "VidNegDevData = pd.concat(df_list[0:num])\n",
    "VidNegDevData.to_csv(os.path.join(folder,'coughvid_neg_devel.csv'), index=False)\n",
    "\n",
    "VidNegTrainData = pd.concat(df_list[num:])\n",
    "VidNegTrainData.to_csv(os.path.join(folder,'coughvid_neg_train.csv'), index=False)"
   ]
  },
  {
   "cell_type": "code",
   "execution_count": 52,
   "id": "66613730",
   "metadata": {},
   "outputs": [],
   "source": [
    "df_list = []\n",
    "for index, row in coswara_pos.iterrows():\n",
    "    temp = pd.DataFrame(columns=['filename','label'])\n",
    "    fn = row['filename']\n",
    "    temp['filename'] = [fn]\n",
    "    temp['label'] = [row['label']]\n",
    "    df_list.append(temp)\n",
    "num = int(partisi*len(df_list))\n",
    "\n",
    "CosPosDevData = pd.concat(df_list[0:num])\n",
    "CosPosDevData.to_csv(os.path.join(folder,'coswara_pos_devel.csv'), index=False)\n",
    "\n",
    "CosPosTrainData = pd.concat(df_list[num:])\n",
    "CosPosTrainData.to_csv(os.path.join(folder,'coswara_pos_train.csv'), index=False)"
   ]
  },
  {
   "cell_type": "code",
   "execution_count": 53,
   "id": "50196037",
   "metadata": {},
   "outputs": [],
   "source": [
    "df_list = []\n",
    "for index, row in coswara_neg.iterrows():\n",
    "    temp = pd.DataFrame(columns=['filename','label'])\n",
    "    fn = row['filename']\n",
    "    temp['filename'] = [fn]\n",
    "    temp['label'] = [row['label']]\n",
    "    df_list.append(temp)\n",
    "num = int(partisi*len(df_list))\n",
    "\n",
    "CosNegDevData = pd.concat(df_list[0:num])\n",
    "CosNegDevData.to_csv(os.path.join(folder,'coswara_neg_devel.csv'), index=False)\n",
    "\n",
    "CosNegTrainData = pd.concat(df_list[num:])\n",
    "CosNegTrainData.to_csv(os.path.join(folder,'coswara_neg_train.csv'), index=False)"
   ]
  },
  {
   "cell_type": "code",
   "execution_count": 54,
   "id": "071d0b34",
   "metadata": {},
   "outputs": [
    {
     "data": {
      "text/html": [
       "<div>\n",
       "<style scoped>\n",
       "    .dataframe tbody tr th:only-of-type {\n",
       "        vertical-align: middle;\n",
       "    }\n",
       "\n",
       "    .dataframe tbody tr th {\n",
       "        vertical-align: top;\n",
       "    }\n",
       "\n",
       "    .dataframe thead th {\n",
       "        text-align: right;\n",
       "    }\n",
       "</style>\n",
       "<table border=\"1\" class=\"dataframe\">\n",
       "  <thead>\n",
       "    <tr style=\"text-align: right;\">\n",
       "      <th></th>\n",
       "      <th>filename</th>\n",
       "      <th>label</th>\n",
       "    </tr>\n",
       "  </thead>\n",
       "  <tbody>\n",
       "    <tr>\n",
       "      <th>0</th>\n",
       "      <td>devel_124.wav</td>\n",
       "      <td>negative</td>\n",
       "    </tr>\n",
       "    <tr>\n",
       "      <th>0</th>\n",
       "      <td>devel_219.wav</td>\n",
       "      <td>negative</td>\n",
       "    </tr>\n",
       "    <tr>\n",
       "      <th>0</th>\n",
       "      <td>devel_161.wav</td>\n",
       "      <td>negative</td>\n",
       "    </tr>\n",
       "    <tr>\n",
       "      <th>0</th>\n",
       "      <td>devel_182.wav</td>\n",
       "      <td>positive</td>\n",
       "    </tr>\n",
       "    <tr>\n",
       "      <th>0</th>\n",
       "      <td>devel_107.wav</td>\n",
       "      <td>negative</td>\n",
       "    </tr>\n",
       "  </tbody>\n",
       "</table>\n",
       "</div>"
      ],
      "text/plain": [
       "        filename     label\n",
       "0  devel_124.wav  negative\n",
       "0  devel_219.wav  negative\n",
       "0  devel_161.wav  negative\n",
       "0  devel_182.wav  positive\n",
       "0  devel_107.wav  negative"
      ]
     },
     "execution_count": 54,
     "metadata": {},
     "output_type": "execute_result"
    }
   ],
   "source": [
    "df_list = []\n",
    "for index,row in compare.iterrows():\n",
    "    temp = pd.DataFrame(columns=['filename','label'])\n",
    "    fn = row['filename']\n",
    "    name = fn.split('.')[0].split('_')[0]\n",
    "    if name == 'devel':\n",
    "        temp['filename'] = [fn]\n",
    "        temp['label'] = [row['label']]\n",
    "    df_list.append(temp)\n",
    "ComDevData = pd.concat(df_list)\n",
    "ComDevData.to_csv(os.path.join(folder,'compare_devel.csv'), index=False)\n",
    "ComDevData.head()"
   ]
  },
  {
   "cell_type": "code",
   "execution_count": 55,
   "id": "3280fbc2",
   "metadata": {},
   "outputs": [
    {
     "data": {
      "text/html": [
       "<div>\n",
       "<style scoped>\n",
       "    .dataframe tbody tr th:only-of-type {\n",
       "        vertical-align: middle;\n",
       "    }\n",
       "\n",
       "    .dataframe tbody tr th {\n",
       "        vertical-align: top;\n",
       "    }\n",
       "\n",
       "    .dataframe thead th {\n",
       "        text-align: right;\n",
       "    }\n",
       "</style>\n",
       "<table border=\"1\" class=\"dataframe\">\n",
       "  <thead>\n",
       "    <tr style=\"text-align: right;\">\n",
       "      <th></th>\n",
       "      <th>filename</th>\n",
       "      <th>label</th>\n",
       "    </tr>\n",
       "  </thead>\n",
       "  <tbody>\n",
       "    <tr>\n",
       "      <th>0</th>\n",
       "      <td>test_044.wav</td>\n",
       "      <td>positive</td>\n",
       "    </tr>\n",
       "    <tr>\n",
       "      <th>1</th>\n",
       "      <td>test_012.wav</td>\n",
       "      <td>negative</td>\n",
       "    </tr>\n",
       "    <tr>\n",
       "      <th>2</th>\n",
       "      <td>test_063.wav</td>\n",
       "      <td>negative</td>\n",
       "    </tr>\n",
       "    <tr>\n",
       "      <th>3</th>\n",
       "      <td>test_140.wav</td>\n",
       "      <td>negative</td>\n",
       "    </tr>\n",
       "    <tr>\n",
       "      <th>4</th>\n",
       "      <td>test_024.wav</td>\n",
       "      <td>negative</td>\n",
       "    </tr>\n",
       "  </tbody>\n",
       "</table>\n",
       "</div>"
      ],
      "text/plain": [
       "       filename     label\n",
       "0  test_044.wav  positive\n",
       "1  test_012.wav  negative\n",
       "2  test_063.wav  negative\n",
       "3  test_140.wav  negative\n",
       "4  test_024.wav  negative"
      ]
     },
     "execution_count": 55,
     "metadata": {},
     "output_type": "execute_result"
    }
   ],
   "source": [
    "df_list = []\n",
    "for index,row in compare.iterrows():\n",
    "    temp = pd.DataFrame(columns=['filename','label'])\n",
    "    fn = row['filename']\n",
    "    name = fn.split('.')[0].split('_')[0]\n",
    "    if name == 'test':\n",
    "        temp['filename'] = [fn]\n",
    "        temp['label'] = [row['label']]\n",
    "    df_list.append(temp)\n",
    "TestData = pd.concat(df_list)\n",
    "TestData = TestData.sample(frac=1).reset_index(drop=True)\n",
    "TestData.to_csv(os.path.join(folder,'Compare_test.csv'), index=False)\n",
    "TestData.head()"
   ]
  },
  {
   "cell_type": "code",
   "execution_count": 56,
   "id": "335cc323",
   "metadata": {},
   "outputs": [
    {
     "data": {
      "text/html": [
       "<div>\n",
       "<style scoped>\n",
       "    .dataframe tbody tr th:only-of-type {\n",
       "        vertical-align: middle;\n",
       "    }\n",
       "\n",
       "    .dataframe tbody tr th {\n",
       "        vertical-align: top;\n",
       "    }\n",
       "\n",
       "    .dataframe thead th {\n",
       "        text-align: right;\n",
       "    }\n",
       "</style>\n",
       "<table border=\"1\" class=\"dataframe\">\n",
       "  <thead>\n",
       "    <tr style=\"text-align: right;\">\n",
       "      <th></th>\n",
       "      <th>filename</th>\n",
       "      <th>label</th>\n",
       "    </tr>\n",
       "  </thead>\n",
       "  <tbody>\n",
       "    <tr>\n",
       "      <th>0</th>\n",
       "      <td>train_148.wav</td>\n",
       "      <td>negative</td>\n",
       "    </tr>\n",
       "    <tr>\n",
       "      <th>0</th>\n",
       "      <td>train_192.wav</td>\n",
       "      <td>negative</td>\n",
       "    </tr>\n",
       "    <tr>\n",
       "      <th>0</th>\n",
       "      <td>train_061.wav</td>\n",
       "      <td>positive</td>\n",
       "    </tr>\n",
       "    <tr>\n",
       "      <th>0</th>\n",
       "      <td>train_131.wav</td>\n",
       "      <td>negative</td>\n",
       "    </tr>\n",
       "    <tr>\n",
       "      <th>0</th>\n",
       "      <td>train_256.wav</td>\n",
       "      <td>negative</td>\n",
       "    </tr>\n",
       "  </tbody>\n",
       "</table>\n",
       "</div>"
      ],
      "text/plain": [
       "        filename     label\n",
       "0  train_148.wav  negative\n",
       "0  train_192.wav  negative\n",
       "0  train_061.wav  positive\n",
       "0  train_131.wav  negative\n",
       "0  train_256.wav  negative"
      ]
     },
     "execution_count": 56,
     "metadata": {},
     "output_type": "execute_result"
    }
   ],
   "source": [
    "df_list = []\n",
    "for index,row in compare.iterrows():\n",
    "    temp = pd.DataFrame(columns=['filename','label'])\n",
    "    fn = row['filename']\n",
    "    name = fn.split('.')[0].split('_')[0]\n",
    "    if name == 'train':\n",
    "        temp['filename'] = [fn]\n",
    "        temp['label'] = [row['label']]\n",
    "    df_list.append(temp)\n",
    "ComTrainData = pd.concat(df_list)\n",
    "ComTrainData.to_csv(os.path.join(folder,'compare_train.csv'), index=False)\n",
    "ComTrainData.head()"
   ]
  },
  {
   "cell_type": "code",
   "execution_count": 57,
   "id": "a97d7536",
   "metadata": {},
   "outputs": [],
   "source": [
    "folder = 'csv_files/threshold_detection/90_persen/data_01'\n",
    "\n",
    "if os.path.exists(folder)==False:\n",
    "    os.mkdir(folder)"
   ]
  },
  {
   "cell_type": "code",
   "execution_count": 58,
   "id": "03895928",
   "metadata": {},
   "outputs": [],
   "source": [
    "DevConcat = [ComDevData,VidPosDevData,CosPosDevData]\n",
    "DevData = pd.concat(DevConcat)\n",
    "DevData.to_csv(os.path.join(folder,'devel.csv'), index=False)"
   ]
  },
  {
   "cell_type": "code",
   "execution_count": 59,
   "id": "33c12104",
   "metadata": {},
   "outputs": [],
   "source": [
    "TrainConcat = [ComTrainData,VidPosTrainData,CosPosTrainData]\n",
    "TrainData = pd.concat(TrainConcat)\n",
    "TrainData.to_csv(os.path.join(folder,'train.csv'), index=False)"
   ]
  },
  {
   "cell_type": "code",
   "execution_count": 60,
   "id": "a9d99660",
   "metadata": {},
   "outputs": [],
   "source": [
    "TestData = pd.concat([TestData])\n",
    "TestData.to_csv(os.path.join(folder,'test.csv'), index=False)"
   ]
  },
  {
   "cell_type": "code",
   "execution_count": 61,
   "id": "80932c64",
   "metadata": {},
   "outputs": [],
   "source": [
    "cat_train = {str(ComTrainData):'Compare Train',str(CosNegTrainData):'Coswara Negative Train',str(CosPosTrainData):'Coswara Positive Train',str(VidNegTrainData):'Coughvid Negative Train',str(VidPosTrainData):'Coughvid Positive Train'}\n",
    "#cat_dev = {str(ComDevData):'Compare Devel'}\n",
    "\n",
    "cat_dev = {str(ComDevData):'Compare Devel',str(CosNegDevData):'Coswara Negative Devel',str(CosPosDevData):'Coswara Positive Devel',str(VidNegDevData):'Coughvid Negative Devel',str(VidPosDevData):'Coughvid Positive Devel'}\n",
    "\n",
    "with open(os.path.join(folder,'readme.txt'), 'w') as f:\n",
    "    f.write('This File is CSV for Train, Devel, and Test')\n",
    "    f.write('\\nTrain Data: ')\n",
    "    for i in TrainConcat:\n",
    "        name = cat_train[str(i)]\n",
    "        f.write('\\n--'+str(name))\n",
    "        \n",
    "    f.write('\\n\\nDevel Data: ')\n",
    "    for i in DevConcat:\n",
    "        name = cat_dev[str(i)]\n",
    "        f.write('\\n--'+str(name))\n",
    "        \n",
    "    f.write('\\n\\nDevel Partision: '+str(partisi*100)+'%')"
   ]
  },
  {
   "cell_type": "code",
   "execution_count": null,
   "id": "b9aac989",
   "metadata": {},
   "outputs": [],
   "source": []
  },
  {
   "cell_type": "code",
   "execution_count": null,
   "id": "0f1bac7d",
   "metadata": {},
   "outputs": [],
   "source": []
  }
 ],
 "metadata": {
  "kernelspec": {
   "display_name": "Python 3 (ipykernel)",
   "language": "python",
   "name": "python3"
  },
  "language_info": {
   "codemirror_mode": {
    "name": "ipython",
    "version": 3
   },
   "file_extension": ".py",
   "mimetype": "text/x-python",
   "name": "python",
   "nbconvert_exporter": "python",
   "pygments_lexer": "ipython3",
   "version": "3.9.7"
  }
 },
 "nbformat": 4,
 "nbformat_minor": 5
}
