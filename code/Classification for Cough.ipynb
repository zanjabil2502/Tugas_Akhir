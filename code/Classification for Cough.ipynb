{
 "cells": [
  {
   "cell_type": "code",
   "execution_count": 16,
   "id": "14361fd2",
   "metadata": {},
   "outputs": [],
   "source": [
    "import os\n",
    "import librosa as lb\n",
    "from sklearn.preprocessing import MinMaxScaler\n",
    "import numpy as np\n",
    "from sklearn.cluster import KMeans\n",
    "from sklearn.mixture import GaussianMixture\n",
    "import shutil\n",
    "import pandas as pd\n",
    "import soundfile as sf\n",
    "import matplotlib.pyplot as plt\n",
    "import seaborn as sns\n",
    "from tensorflow.keras.utils import to_categorical\n",
    "import pickle"
   ]
  },
  {
   "cell_type": "code",
   "execution_count": 3,
   "id": "47f42db1",
   "metadata": {},
   "outputs": [],
   "source": [
    "Scaler = MinMaxScaler(feature_range=(0,1))"
   ]
  },
  {
   "cell_type": "code",
   "execution_count": 5,
   "id": "cd19eb02",
   "metadata": {},
   "outputs": [
    {
     "name": "stdout",
     "output_type": "stream",
     "text": [
      "9.92\n"
     ]
    }
   ],
   "source": [
    "duration = []\n",
    "for i in os.listdir('Segmentation'):\n",
    "    folder = os.path.join('Segmentation',i)\n",
    "    for j in os.listdir(folder):\n",
    "        filename = os.path.join(folder,j)\n",
    "        wav,sr = lb.load(filename,sr=None)\n",
    "        len_duration = lb.get_duration(wav,sr=sr)\n",
    "        duration.append(len_duration)\n",
    "\n",
    "print (max(duration))"
   ]
  },
  {
   "cell_type": "code",
   "execution_count": 7,
   "id": "23fc3d47",
   "metadata": {},
   "outputs": [],
   "source": [
    "train = []\n",
    "for i in os.listdir('Segmentation'):\n",
    "    folder = os.path.join('Segmentation',i)\n",
    "    for j in os.listdir(folder):\n",
    "        filename = os.path.join(folder,j)\n",
    "        wav,sr = lb.load(filename,sr=None)\n",
    "        pad = lb.util.pad_center(wav,sr*10)\n",
    "        rms = lb.feature.rms(y=pad)\n",
    "        rms = rms.reshape(rms.shape[1],rms.shape[0])\n",
    "        rms_norm = Scaler.fit_transform(rms)\n",
    "\n",
    "        train.append(rms_norm)\n",
    "            \n",
    "train = np.array(train)\n",
    "train = train.reshape(train.shape[0],train.shape[1])"
   ]
  },
  {
   "cell_type": "code",
   "execution_count": 8,
   "id": "395ee1a3",
   "metadata": {},
   "outputs": [],
   "source": [
    "np.save('train.npy',train)\n",
    "train = np.load('train.npy')"
   ]
  },
  {
   "cell_type": "code",
   "execution_count": 9,
   "id": "cf2ebbd3",
   "metadata": {},
   "outputs": [],
   "source": [
    "test = []\n",
    "label = []\n",
    "\n",
    "category = {'neg':1,'pos':0}\n",
    "\n",
    "for folder in os.listdir('audio_test'):\n",
    "    paths = os.path.join('audio_test',folder)\n",
    "    for file in os.listdir(paths):\n",
    "        filename = os.path.join(paths,file)\n",
    "        #print(filename)\n",
    "        wav,sr = lb.load(filename,sr=None)\n",
    "        pad = lb.util.pad_center(wav,sr*10)\n",
    "        rms = lb.feature.rms(y=pad)\n",
    "        rms = rms.reshape(rms.shape[1],rms.shape[0])\n",
    "        rms_norm = Scaler.fit_transform(rms)\n",
    "         \n",
    "        test.append(rms_norm)\n",
    "        label.append(category[folder])\n",
    "        \n",
    "test = np.array(test)\n",
    "test = test.reshape(test.shape[0],test.shape[1])\n",
    "label = to_categorical(label)"
   ]
  },
  {
   "cell_type": "code",
   "execution_count": 10,
   "id": "2597e841",
   "metadata": {},
   "outputs": [],
   "source": [
    "np.save('test.npy',test)\n",
    "np.save('label.npy',label)\n",
    "\n",
    "test = np.load('test.npy')\n",
    "label = np.load('label.npy')"
   ]
  },
  {
   "cell_type": "code",
   "execution_count": 11,
   "id": "20669b24",
   "metadata": {},
   "outputs": [],
   "source": [
    "gm = GaussianMixture(n_components=2, random_state=0).fit(train)"
   ]
  },
  {
   "cell_type": "code",
   "execution_count": 17,
   "id": "1f970a0d",
   "metadata": {},
   "outputs": [],
   "source": [
    "filename = 'model.sav'\n",
    "pickle.dump(gm, open(filename, 'wb'))"
   ]
  },
  {
   "cell_type": "code",
   "execution_count": 20,
   "id": "3a295477",
   "metadata": {},
   "outputs": [],
   "source": [
    "gm = pickle.load(open(filename, 'rb'))"
   ]
  },
  {
   "cell_type": "code",
   "execution_count": 22,
   "id": "5d07cae4",
   "metadata": {},
   "outputs": [
    {
     "name": "stdout",
     "output_type": "stream",
     "text": [
      "UAR:  0.6867469879518072\n"
     ]
    },
    {
     "data": {
      "image/png": "[encoded data removed]",
      "text/plain": [
       "<Figure size 720x504 with 2 Axes>"
      ]
     },
     "metadata": {
      "needs_background": "light"
     },
     "output_type": "display_data"
    }
   ],
   "source": [
    "from sklearn.metrics import roc_auc_score, classification_report, confusion_matrix, recall_score\n",
    "matrix_index = ['positive', 'negative']\n",
    "\n",
    "classpreds = gm.predict(test)\n",
    "#classpreds = np.argmax(preds, axis=1) # predicted classes \n",
    "y_testclass = np.argmax(label, axis=1) # true classes\n",
    "\n",
    "cm = confusion_matrix(y_testclass, classpreds)\n",
    "\n",
    "recall = recall_score(y_testclass, classpreds, average ='macro')\n",
    "print('UAR: ',recall)\n",
    "#print(classification_report(y_testclass, classpreds, target_names=matrix_index))\n",
    "\n",
    "# Get percentage value for each element of the matrix\n",
    "cm_sum = np.sum(cm, axis=1, keepdims=True)\n",
    "cm_perc = cm / cm_sum.astype(float) * 100\n",
    "annot = np.empty_like(cm).astype(str)\n",
    "nrows, ncols = cm.shape\n",
    "for i in range(nrows):\n",
    "    for j in range(ncols):\n",
    "        c = cm[i, j]\n",
    "        p = cm_perc[i, j]\n",
    "        if i == j:\n",
    "            s = cm_sum[i]\n",
    "            annot[i, j] = '%.1f%%\\n%d/%d' % (p, c, s)\n",
    "        elif c == 0:\n",
    "            annot[i, j] = ''\n",
    "        else:\n",
    "            annot[i, j] = '%.1f%%\\n%d' % (p, c)\n",
    "\n",
    "\n",
    "# Display confusion matrix \n",
    "df_cm = pd.DataFrame(cm, index = matrix_index, columns = matrix_index)\n",
    "df_cm.index.name = 'Actual'\n",
    "df_cm.columns.name = 'Predicted'\n",
    "fig, ax = plt.subplots(figsize=(10,7))\n",
    "sns.heatmap(df_cm, annot=annot, fmt='')\n",
    "plt.savefig(\"Confusion_Matrix.jpg\")"
   ]
  },
  {
   "cell_type": "code",
   "execution_count": null,
   "id": "c4d3c820",
   "metadata": {},
   "outputs": [],
   "source": []
  }
 ],
 "metadata": {
  "kernelspec": {
   "display_name": "Python 3 (ipykernel)",
   "language": "python",
   "name": "python3"
  },
  "language_info": {
   "codemirror_mode": {
    "name": "ipython",
    "version": 3
   },
   "file_extension": ".py",
   "mimetype": "text/x-python",
   "name": "python",
   "nbconvert_exporter": "python",
   "pygments_lexer": "ipython3",
   "version": "3.9.8"
  }
 },
 "nbformat": 4,
 "nbformat_minor": 5
}
