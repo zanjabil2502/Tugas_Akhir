{
 "cells": [
  {
   "cell_type": "code",
   "execution_count": 3,
   "id": "14361fd2",
   "metadata": {},
   "outputs": [],
   "source": [
    "import os\n",
    "import librosa as lb\n",
    "from sklearn.preprocessing import MinMaxScaler\n",
    "import numpy as np\n",
    "from sklearn.cluster import KMeans, AgglomerativeClustering\n",
    "from sklearn.mixture import GaussianMixture, BayesianGaussianMixture\n",
    "import shutil\n",
    "import pandas as pd\n",
    "import soundfile as sf\n",
    "import matplotlib.pyplot as plt\n",
    "import seaborn as sns\n",
    "from tensorflow.keras.utils import to_categorical\n",
    "import pickle"
   ]
  },
  {
   "cell_type": "code",
   "execution_count": 4,
   "id": "47f42db1",
   "metadata": {},
   "outputs": [],
   "source": [
    "Scaler = MinMaxScaler(feature_range=(0,1))"
   ]
  },
  {
   "cell_type": "code",
   "execution_count": 5,
   "id": "cd19eb02",
   "metadata": {},
   "outputs": [
    {
     "name": "stdout",
     "output_type": "stream",
     "text": [
      "2.976\n"
     ]
    }
   ],
   "source": [
    "duration = []\n",
    "for i in os.listdir('Uji'):\n",
    "    folder = os.path.join('Uji',i)\n",
    "    for j in os.listdir(folder):\n",
    "        filename = os.path.join(folder,j)\n",
    "        wav,sr = lb.load(filename,sr=None)\n",
    "        len_duration = lb.get_duration(wav,sr=sr)\n",
    "        duration.append(len_duration)\n",
    "\n",
    "print (max(duration))"
   ]
  },
  {
   "cell_type": "code",
   "execution_count": 41,
   "id": "23fc3d47",
   "metadata": {},
   "outputs": [],
   "source": [
    "train = []\n",
    "for i in os.listdir('Uji'):\n",
    "    folder = os.path.join('Uji',i)\n",
    "    for j in os.listdir(folder):\n",
    "        filename = os.path.join(folder,j)\n",
    "        wav,sr = lb.load(filename,sr=None)\n",
    "        pad = lb.util.pad_center(wav,sr*3)\n",
    "        rms = lb.feature.rms(y=pad)\n",
    "        rms = rms.reshape(rms.shape[1],rms.shape[0])\n",
    "        rms_norm = Scaler.fit_transform(rms)\n",
    "        #rms_norm = rms.reshape(1,rms.shape[0])\n",
    "\n",
    "        train.append(rms_norm)\n",
    "            \n",
    "train = np.array(train)\n",
    "train = train.reshape(train.shape[0],train.shape[1])"
   ]
  },
  {
   "cell_type": "code",
   "execution_count": 47,
   "id": "cf2ebbd3",
   "metadata": {
    "scrolled": true
   },
   "outputs": [
    {
     "name": "stdout",
     "output_type": "stream",
     "text": [
      "audio_test\\neg\\devel_004-3.wav [1] 0.48\n",
      "audio_test\\neg\\devel_004-7.wav [1] 0.256\n",
      "audio_test\\neg\\devel_008-1.wav [1] 0.288\n",
      "audio_test\\neg\\devel_008-4.wav [1] 0.224\n",
      "audio_test\\neg\\devel_008-5.wav [1] 0.288\n",
      "audio_test\\neg\\devel_010-2.wav [1] 0.32\n",
      "audio_test\\neg\\devel_015-0.wav [1] 0.192\n",
      "audio_test\\neg\\devel_016-0.wav [1] 0.0\n",
      "audio_test\\neg\\devel_017-2.wav [1] 0.288\n",
      "audio_test\\neg\\test_006-4.wav [1] 0.352\n",
      "audio_test\\neg\\test_007-1.wav [1] 0.288\n",
      "audio_test\\neg\\test_008-2.wav [1] 0.224\n",
      "audio_test\\neg\\test_011-2.wav [1] 0.288\n",
      "audio_test\\neg\\test_013-0.wav [1] 0.288\n",
      "audio_test\\neg\\test_013-1.wav [1] 0.288\n",
      "audio_test\\neg\\test_013-3.wav [1] 0.288\n",
      "audio_test\\neg\\test_018-0.wav [1] 0.416\n",
      "audio_test\\neg\\test_029-2.wav [1] 0.224\n",
      "audio_test\\neg\\train_001-0.wav [1] 0.224\n",
      "audio_test\\neg\\train_001-1.wav [1] 0.32\n",
      "audio_test\\neg\\train_006-0.wav [1] 0.352\n",
      "audio_test\\neg\\train_006-2.wav [1] 0.32\n",
      "audio_test\\neg\\train_013-0.wav [1] 0.288\n",
      "audio_test\\neg\\train_017-1.wav [1] 0.352\n",
      "audio_test\\neg\\train_019-0.wav [1] 0.288\n",
      "audio_test\\neg\\train_020-2.wav [1] 0.352\n",
      "audio_test\\neg\\train_024-6.wav [1] 0.128\n",
      "audio_test\\neg\\train_028-0.wav [1] 0.224\n",
      "audio_test\\neg\\train_029-0.wav [1] 0.192\n"
     ]
    }
   ],
   "source": [
    "test = []\n",
    "label = []\n",
    "\n",
    "category = {'neg':0,'pos':1}\n",
    "\n",
    "for folder in os.listdir('audio_test'):\n",
    "    if folder == 'neg':\n",
    "        paths = os.path.join('audio_test',folder)\n",
    "        for file in os.listdir(paths):\n",
    "            filename = os.path.join(paths,file)\n",
    "            #print(filename)\n",
    "            wav,sr = lb.load(filename,sr=None)\n",
    "            dur = lb.get_duration(wav,sr)\n",
    "            pad = lb.util.pad_center(wav,sr*3)\n",
    "            rms = lb.feature.rms(y=pad)\n",
    "            rms = rms.reshape(rms.shape[1],rms.shape[0])\n",
    "            rms_norm = Scaler.fit_transform(rms)\n",
    "            rms_norm = rms.reshape(1,rms.shape[0])\n",
    "\n",
    "            pred = gm.predict(rms_norm)\n",
    "            if pred == 1:\n",
    "                print(filename,pred,dur)\n",
    "\n",
    "            #test.append(rms_norm)\n",
    "            #label.append(category[folder])\n",
    "        \n",
    "#test = np.array(test)\n",
    "#test = test.reshape(test.shape[0],test.shape[1])\n",
    "#label = to_categorical(label)"
   ]
  },
  {
   "cell_type": "code",
   "execution_count": 48,
   "id": "f7544360",
   "metadata": {},
   "outputs": [],
   "source": [
    "test = []\n",
    "label = []\n",
    "\n",
    "category = {'other':1,'cough':2,'repeat':0}\n",
    "\n",
    "for folder in os.listdir('testing'):\n",
    "    #if folder == 'neg':\n",
    "    paths = os.path.join('testing',folder)\n",
    "    for file in os.listdir(paths):\n",
    "        filename = os.path.join(paths,file)\n",
    "        #print(filename)\n",
    "        wav,sr = lb.load(filename,sr=None)\n",
    "        pad = lb.util.pad_center(wav,sr*3)\n",
    "        rms = lb.feature.rms(y=pad)\n",
    "        rms = rms.reshape(rms.shape[1],rms.shape[0])\n",
    "        rms_norm = Scaler.fit_transform(rms)\n",
    "        #rms_norm = rms.reshape(1,rms.shape[0])\n",
    "\n",
    "        #pred = gm.predict(rms_norm)\n",
    "        #if pred == 1:\n",
    "            #print(filename,pred)\n",
    "\n",
    "        test.append(rms_norm)\n",
    "        label.append(category[folder])\n",
    "\n",
    "test = np.array(test)\n",
    "test = test.reshape(test.shape[0],test.shape[1])\n",
    "label = to_categorical(label)"
   ]
  },
  {
   "cell_type": "code",
   "execution_count": 42,
   "id": "20669b24",
   "metadata": {},
   "outputs": [],
   "source": [
    "gm = GaussianMixture(n_components=3, random_state=42).fit(train)"
   ]
  },
  {
   "cell_type": "code",
   "execution_count": 43,
   "id": "3eac6903",
   "metadata": {},
   "outputs": [],
   "source": [
    "filename = 'model_gm.sav'"
   ]
  },
  {
   "cell_type": "code",
   "execution_count": 44,
   "id": "cb76791b",
   "metadata": {},
   "outputs": [],
   "source": [
    "pickle.dump(gm, open(filename, 'wb'))"
   ]
  },
  {
   "cell_type": "code",
   "execution_count": 45,
   "id": "6ba35104",
   "metadata": {},
   "outputs": [],
   "source": [
    "gm = pickle.load(open(filename, 'rb'))"
   ]
  },
  {
   "cell_type": "code",
   "execution_count": 50,
   "id": "5d07cae4",
   "metadata": {},
   "outputs": [
    {
     "name": "stdout",
     "output_type": "stream",
     "text": [
      "UAR:  0.8222222222222223\n",
      "Accuracy:  0.9157894736842105\n",
      "Cohen Kappa Score:  0.8591839255568823\n",
      "========================================\n",
      "              precision    recall  f1-score   support\n",
      "\n",
      "      repeat       1.00      0.47      0.64        45\n",
      "       other       1.00      1.00      1.00       119\n",
      "       cough       0.83      1.00      0.91       121\n",
      "\n",
      "    accuracy                           0.92       285\n",
      "   macro avg       0.94      0.82      0.85       285\n",
      "weighted avg       0.93      0.92      0.90       285\n",
      "\n"
     ]
    },
    {
     "data": {
      "image/png": "[encoded data removed]",
      "text/plain": [
       "<Figure size 720x504 with 2 Axes>"
      ]
     },
     "metadata": {
      "needs_background": "light"
     },
     "output_type": "display_data"
    }
   ],
   "source": [
    "from sklearn.metrics import roc_auc_score, classification_report, confusion_matrix, balanced_accuracy_score, accuracy_score, cohen_kappa_score\n",
    "matrix_index = ['repeat', 'other','cough']\n",
    "\n",
    "classpreds = gm.predict(test)\n",
    "#classpreds = np.argmax(preds, axis=1) # predicted classes \n",
    "y_testclass = np.argmax(label, axis=1) # true classes\n",
    "\n",
    "cm = confusion_matrix(y_testclass, classpreds)\n",
    "\n",
    "UAR = balanced_accuracy_score(y_testclass, classpreds)\n",
    "accuracy = accuracy_score(y_testclass,classpreds)\n",
    "#roc_auc = roc_auc_score(y_testclass,classpreds,average ='macro')\n",
    "kappa = cohen_kappa_score(classpreds,y_testclass)\n",
    "\n",
    "print('UAR: ', UAR)\n",
    "print('Accuracy: ', accuracy)\n",
    "#print('ROC AUC Score: ', roc_auc)\n",
    "print('Cohen Kappa Score: ', kappa)\n",
    "print('='*40)\n",
    "print(classification_report(y_testclass, classpreds, target_names=matrix_index))\n",
    "\n",
    "# Get percentage value for each element of the matrix\n",
    "cm_sum = np.sum(cm, axis=1, keepdims=True)\n",
    "cm_perc = cm / cm_sum.astype(float) * 100\n",
    "annot = np.empty_like(cm).astype(str)\n",
    "nrows, ncols = cm.shape\n",
    "for i in range(nrows):\n",
    "    for j in range(ncols):\n",
    "        c = cm[i, j]\n",
    "        p = cm_perc[i, j]\n",
    "        if i == j:\n",
    "            s = cm_sum[i]\n",
    "            annot[i, j] = '%.1f%%\\n%d/%d' % (p, c, s)\n",
    "        elif c == 0:\n",
    "            annot[i, j] = ''\n",
    "        else:\n",
    "            annot[i, j] = '%.1f%%\\n%d' % (p, c)\n",
    "\n",
    "\n",
    "# Display confusion matrix \n",
    "df_cm = pd.DataFrame(cm, index = matrix_index, columns = matrix_index)\n",
    "df_cm.index.name = 'Actual'\n",
    "df_cm.columns.name = 'Predicted'\n",
    "fig, ax = plt.subplots(figsize=(10,7))\n",
    "sns.heatmap(df_cm, annot=annot, fmt='')\n",
    "plt.savefig(\"Confusion_Matrix.jpg\")"
   ]
  },
  {
   "cell_type": "code",
   "execution_count": null,
   "id": "c4d3c820",
   "metadata": {},
   "outputs": [],
   "source": []
  }
 ],
 "metadata": {
  "kernelspec": {
   "display_name": "Python 3 (ipykernel)",
   "language": "python",
   "name": "python3"
  },
  "language_info": {
   "codemirror_mode": {
    "name": "ipython",
    "version": 3
   },
   "file_extension": ".py",
   "mimetype": "text/x-python",
   "name": "python",
   "nbconvert_exporter": "python",
   "pygments_lexer": "ipython3",
   "version": "3.9.8"
  }
 },
 "nbformat": 4,
 "nbformat_minor": 5
}
