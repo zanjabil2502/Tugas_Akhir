{
 "cells": [
  {
   "cell_type": "markdown",
   "id": "b15e59b1",
   "metadata": {},
   "source": [
    "## Testing 5 Seed"
   ]
  },
  {
   "cell_type": "code",
   "execution_count": 23,
   "id": "b67ea186",
   "metadata": {
    "scrolled": true
   },
   "outputs": [
    {
     "name": "stdout",
     "output_type": "stream",
     "text": [
      "DEBUG: 1\n",
      "Not K-Fold Experiment\n",
      "Return Potential: False\n",
      "Loading checkpoint: result/exp-79/42/panns/best_checkpoint.pt\n",
      "Model Sucessful Load !\n",
      "++++++++++++++++++++++++++++++++++++++++\n",
      "Control Files Classified incorrectly:\n",
      "Num. Files: 15\n",
      "['test_203.wav' 'test_029.wav' 'test_033.wav' 'test_001.wav'\n",
      " 'test_172.wav' 'test_026.wav' 'test_192.wav' 'test_179.wav'\n",
      " 'test_110.wav' 'test_081.wav' 'test_168.wav' 'test_122.wav'\n",
      " 'test_060.wav' 'test_054.wav' 'test_008.wav']\n",
      "++++++++++++++++++++++++++++++++++++++++\n",
      "----------------------------------------\n",
      "Patient Files Classified incorrectly:\n",
      "Num. Files: 27\n",
      "['test_064.wav' 'test_085.wav' 'test_067.wav' 'test_124.wav'\n",
      " 'test_197.wav' 'test_041.wav' 'test_106.wav' 'test_074.wav'\n",
      " 'test_102.wav' 'test_188.wav' 'test_127.wav' 'test_058.wav'\n",
      " 'test_103.wav' 'test_062.wav' 'test_039.wav' 'test_043.wav'\n",
      " 'test_092.wav' 'test_052.wav' 'test_107.wav' 'test_159.wav'\n",
      " 'test_206.wav' 'test_093.wav' 'test_135.wav' 'test_155.wav'\n",
      " 'test_156.wav' 'test_046.wav' 'test_056.wav']\n",
      "----------------------------------------\n",
      "======== Confusion Matrix ==========\n",
      "Predicted  0.0  1.0  All\n",
      "Target                  \n",
      "0          154   15  169\n",
      "1           27   12   39\n",
      "All        181   27  208\n",
      "Test\n",
      "  Acurracy:  0.7980769230769231 Acurracy Control:  0.9112426035502958 Acurracy Patient:  0.3076923076923077\n",
      "F1: 0.3636363636363637 UAR: 0.6094674556213018\n"
     ]
    },
    {
     "data": {
      "text/plain": [
       "0"
      ]
     },
     "execution_count": 23,
     "metadata": {},
     "output_type": "execute_result"
    }
   ],
   "source": [
    "import os\n",
    "\n",
    "data = 'csv_files/experiment_data/test.csv'\n",
    "folder = 'dataset/Merge-Data/'\n",
    "experiment_dir = 'result/exp-79/'\n",
    "command = f\"python script/test_all_seeds.py -t {data} -r {folder} --experiment_dir {experiment_dir}\"\n",
    "os.system(command)"
   ]
  },
  {
   "cell_type": "code",
   "execution_count": 24,
   "id": "40cd5d5e",
   "metadata": {},
   "outputs": [
    {
     "name": "stdout",
     "output_type": "stream",
     "text": [
      "DEBUG: 1\n",
      "Not K-Fold Experiment\n",
      "Return Potential: False\n",
      "Loading checkpoint: result/exp-79/42/panns/best_checkpoint.pt\n",
      "Model Sucessful Load !\n",
      "++++++++++++++++++++++++++++++++++++++++\n",
      "Control Files Classified incorrectly:\n",
      "Num. Files: 12\n",
      "['devel_113.wav' 'devel_217.wav' 'devel_112.wav' 'devel_229.wav'\n",
      " 'devel_002.wav' 'devel_090.wav' 'devel_142.wav' 'devel_199.wav'\n",
      " 'devel_179.wav' 'devel_162.wav' 'devel_057.wav' 'devel_224.wav']\n",
      "++++++++++++++++++++++++++++++++++++++++\n",
      "----------------------------------------\n",
      "Patient Files Classified incorrectly:\n",
      "Num. Files: 80\n",
      "['ZzKpUtFGzsVEK7E1wsVGRftKdx93.wav' 'cd57GKgW74bBSqmusnCkc8bXujs2.wav'\n",
      " '4qLi2eWkYGasKhmmPPiyFAGUqBr2_heavy.wav'\n",
      " 'Y635Ri3QFMcOKC0ckXgW2r0xJ422_heavy.wav'\n",
      " 'MBFsLtO6sIf2SGCEfNT2K91gLcy1_heavy.wav'\n",
      " 'dDvHec65MWh2REqq5mABZJvmlXI3.wav'\n",
      " 'LF7wSEDpWafkz5bwtxnFuho9iWz1_heavy.wav'\n",
      " '0drfnqVwccT6UmgVLQEuyVglDC23_heavy.wav'\n",
      " '6kMlitGRc3XF2Nt13Wl3LOs4wMl1_heavy.wav'\n",
      " 'ptuwF1pj4ibIoVuZmt4nKb5naiZ2.wav' 'ZaeW7vuikQgf7984JVqXYOtUQMs2.wav'\n",
      " 'BfkSf0P6WcOlQW1jfLuLKEPusF82_heavy.wav'\n",
      " 'x89c2X4Q5LdiRvU9XWVkU1XXLE13.wav' 'YHHZYBxPHsUWYITjtMRAixs3DX42.wav'\n",
      " '3e0fc549-5b05-4405-bfd4-051e7fba7d17.wav'\n",
      " 'f99a8315-236c-483b-8222-449dea88604a.wav'\n",
      " '7a710fd5-e0af-4a11-a761-7e38d3fa5fc6.wav'\n",
      " '899e1600-d6dd-4afc-bb36-df672dc75c6f.wav'\n",
      " '906c93d3-6615-478b-a7a1-803a5a15d360.wav'\n",
      " '0f8d80f9-700e-4069-924d-e15f29d7c19a.wav'\n",
      " '105d18a9-f281-4e4c-bb7d-1ad9885696c9.wav'\n",
      " '1d9490a3-155d-4eb5-a34d-acef154740ed.wav'\n",
      " '507d85c8-ee5b-43af-be00-354159f46eaf.wav'\n",
      " '88bec0f2-8dbd-44d5-a6c2-de1cf0646737.wav'\n",
      " 'ae20ca3f-5853-4e28-ad4a-b0e7ca114c57.wav'\n",
      " '70dbb19c-8c7a-45d4-9d2a-cd2272cc7ccb.wav'\n",
      " '9d36ff56-6dbe-46ca-9d0d-c407e26436b7.wav'\n",
      " '36090427-bc31-487b-ae27-1b7105ce39ca.wav'\n",
      " '9be1e899-f29b-4c88-871a-b71fd2b8f34a.wav'\n",
      " '3330de48-799b-45f9-b13d-0bfe97622003.wav'\n",
      " '29633954-458e-4af1-b4a7-b775ef9ce11e.wav'\n",
      " '17b54f0d-2f96-4f6d-ae52-ac2e31bcc692.wav'\n",
      " '26c85178-d112-4398-b77c-e2be741ca1d1.wav'\n",
      " 'f30009b9-aeca-4e75-ba3e-66e7a83f4ffb.wav'\n",
      " '9d03d2b0-dde8-4a31-b4a8-7bb87e98750f.wav'\n",
      " '1e5944a9-49aa-46aa-8066-dd6cc82c9e28.wav'\n",
      " '3e831e76-b1de-4c66-aab4-1386b2b8c8a4.wav'\n",
      " '49360aab-6070-4492-a204-34ee2abe6a40.wav'\n",
      " '7bff1a51-ef9b-461d-9d5f-4538d74b0fd9.wav'\n",
      " '1d6f3f96-fb43-49e6-8c38-70586a9dc52f.wav'\n",
      " '3ff2bbaa-b561-46f2-b908-5f9b72758311.wav'\n",
      " '5fdfbf5f-b4db-42ad-8971-275b616bcc72.wav'\n",
      " '4c86e76d-0476-4016-b26d-00e3b8a0dc01.wav'\n",
      " '1853c64d-a058-471d-8409-84fd2afb5edd.wav' 'devel_118.wav'\n",
      " 'devel_211.wav' 'devel_047.wav' 'devel_068.wav' 'devel_114.wav'\n",
      " 'devel_123.wav' 'devel_230.wav' 'devel_194.wav' 'devel_145.wav'\n",
      " 'devel_110.wav' 'devel_098.wav' 'devel_029.wav' 'devel_225.wav'\n",
      " 'devel_190.wav' 'devel_099.wav' 'devel_085.wav' 'devel_017.wav'\n",
      " 'devel_072.wav' 'devel_045.wav' 'devel_167.wav' 'devel_037.wav'\n",
      " 'devel_213.wav' 'devel_174.wav' 'devel_014.wav' 'devel_136.wav'\n",
      " 'devel_070.wav' 'devel_197.wav' 'devel_143.wav' 'devel_221.wav'\n",
      " 'devel_226.wav' 'devel_222.wav' 'devel_051.wav' 'devel_141.wav'\n",
      " 'devel_025.wav' 'devel_049.wav' 'devel_182.wav']\n",
      "----------------------------------------\n",
      "======== Confusion Matrix ==========\n",
      "Predicted  0.0  1.0  All\n",
      "Target                  \n",
      "0          171   12  183\n",
      "1           80  521  601\n",
      "All        251  533  784\n",
      "Test\n",
      "  Acurracy:  0.8826530612244898 Acurracy Control:  0.9344262295081968 Acurracy Patient:  0.8668885191347754\n",
      "F1: 0.9188712522045857 UAR: 0.9006573743214861\n"
     ]
    },
    {
     "data": {
      "text/plain": [
       "0"
      ]
     },
     "execution_count": 24,
     "metadata": {},
     "output_type": "execute_result"
    }
   ],
   "source": [
    "import os\n",
    "\n",
    "data = 'csv_files/experiment_data/devel.csv'\n",
    "folder = 'dataset/Merge-Data/'\n",
    "experiment_dir = 'result/exp-79/'\n",
    "command = f\"python script/eval_all_seeds.py -t {data} -r {folder} --experiment_dir {experiment_dir}\"\n",
    "os.system(command)"
   ]
  },
  {
   "cell_type": "code",
   "execution_count": 12,
   "id": "7d9d9aad",
   "metadata": {
    "scrolled": false
   },
   "outputs": [
    {
     "name": "stdout",
     "output_type": "stream",
     "text": [
      "DEBUG: 1\n",
      "Not K-Fold Experiment\n",
      "Return Potential: False\n",
      "Loading checkpoint: result/exp-30/42/panns/best_checkpoint.pt\n",
      "Model Sucessful Load !\n",
      "++++++++++++++++++++++++++++++++++++++++\n",
      "Control Files Classified incorrectly:\n",
      "Num. Files: 18\n",
      "['test_005.wav' 'test_003.wav' 'test_060.wav' 'test_142.wav'\n",
      " 'test_027.wav' 'test_126.wav' 'test_100.wav' 'test_198.wav'\n",
      " 'test_038.wav' 'test_007.wav' 'test_033.wav' 'test_004.wav'\n",
      " 'test_054.wav' 'test_168.wav' 'test_061.wav' 'test_008.wav'\n",
      " 'test_017.wav' 'test_185.wav']\n",
      "++++++++++++++++++++++++++++++++++++++++\n",
      "----------------------------------------\n",
      "Patient Files Classified incorrectly:\n",
      "Num. Files: 15\n",
      "['test_124.wav' 'test_102.wav' 'test_046.wav' 'test_156.wav'\n",
      " 'test_093.wav' 'test_085.wav' 'test_107.wav' 'test_011.wav'\n",
      " 'test_058.wav' 'test_135.wav' 'test_039.wav' 'test_206.wav'\n",
      " 'test_056.wav' 'test_067.wav' 'test_155.wav']\n",
      "----------------------------------------\n",
      "======== Confusion Matrix ==========\n",
      "Predicted  0.0  1.0  All\n",
      "Target                  \n",
      "0          151   18  169\n",
      "1           15   24   39\n",
      "All        166   42  208\n",
      "Test\n",
      "  Acurracy:  0.8413461538461539 Acurracy Control:  0.893491124260355 Acurracy Patient:  0.6153846153846154\n",
      "F1: 0.5925925925925927 UAR: 0.7544378698224852\n"
     ]
    },
    {
     "data": {
      "text/plain": [
       "0"
      ]
     },
     "execution_count": 12,
     "metadata": {},
     "output_type": "execute_result"
    }
   ],
   "source": [
    "import os\n",
    "\n",
    "data = 'csv_files/experiment_data/test.csv'\n",
    "folder = 'dataset/Merge-Data/'\n",
    "experiment_dir = 'result/exp-30/'\n",
    "command = f\"python script/test_all_seeds.py -t {data} -r {folder} --experiment_dir {experiment_dir}\"\n",
    "os.system(command)"
   ]
  },
  {
   "cell_type": "code",
   "execution_count": 14,
   "id": "f700e78a",
   "metadata": {
    "scrolled": true
   },
   "outputs": [
    {
     "name": "stdout",
     "output_type": "stream",
     "text": [
      "DEBUG: 1\n",
      "Not K-Fold Experiment\n",
      "Return Potential: False\n",
      "Loading checkpoint: result/exp-32/42/panns/best_checkpoint.pt\n",
      "Model Sucessful Load !\n",
      "++++++++++++++++++++++++++++++++++++++++\n",
      "Control Files Classified incorrectly:\n",
      "Num. Files: 18\n",
      "['test_005.wav' 'test_003.wav' 'test_060.wav' 'test_142.wav'\n",
      " 'test_027.wav' 'test_126.wav' 'test_100.wav' 'test_198.wav'\n",
      " 'test_038.wav' 'test_007.wav' 'test_033.wav' 'test_004.wav'\n",
      " 'test_054.wav' 'test_168.wav' 'test_061.wav' 'test_008.wav'\n",
      " 'test_017.wav' 'test_185.wav']\n",
      "++++++++++++++++++++++++++++++++++++++++\n",
      "----------------------------------------\n",
      "Patient Files Classified incorrectly:\n",
      "Num. Files: 15\n",
      "['test_124.wav' 'test_102.wav' 'test_046.wav' 'test_156.wav'\n",
      " 'test_093.wav' 'test_085.wav' 'test_107.wav' 'test_011.wav'\n",
      " 'test_058.wav' 'test_135.wav' 'test_039.wav' 'test_206.wav'\n",
      " 'test_056.wav' 'test_067.wav' 'test_155.wav']\n",
      "----------------------------------------\n",
      "======== Confusion Matrix ==========\n",
      "Predicted  0.0  1.0  All\n",
      "Target                  \n",
      "0          151   18  169\n",
      "1           15   24   39\n",
      "All        166   42  208\n",
      "Test\n",
      "  Acurracy:  0.8413461538461539 Acurracy Control:  0.893491124260355 Acurracy Patient:  0.6153846153846154\n",
      "F1: 0.5925925925925927 UAR: 0.7544378698224852\n"
     ]
    },
    {
     "data": {
      "text/plain": [
       "0"
      ]
     },
     "execution_count": 14,
     "metadata": {},
     "output_type": "execute_result"
    }
   ],
   "source": [
    "import os\n",
    "\n",
    "data = 'csv_files/experiment_data/test.csv'\n",
    "folder = 'dataset/Merge-Data/'\n",
    "experiment_dir = 'result/exp-32/'\n",
    "command = f\"python script/test_all_seeds.py -t {data} -r {folder} --experiment_dir {experiment_dir}\"\n",
    "os.system(command)"
   ]
  },
  {
   "cell_type": "code",
   "execution_count": 16,
   "id": "bf0fa49a",
   "metadata": {},
   "outputs": [
    {
     "name": "stdout",
     "output_type": "stream",
     "text": [
      "DEBUG: 1\n",
      "Not K-Fold Experiment\n",
      "Return Potential: False\n",
      "Loading checkpoint: result/exp-34/42/panns/best_checkpoint.pt\n",
      "Model Sucessful Load !\n",
      "++++++++++++++++++++++++++++++++++++++++\n",
      "Control Files Classified incorrectly:\n",
      "Num. Files: 18\n",
      "['test_005.wav' 'test_003.wav' 'test_060.wav' 'test_142.wav'\n",
      " 'test_027.wav' 'test_126.wav' 'test_100.wav' 'test_198.wav'\n",
      " 'test_038.wav' 'test_007.wav' 'test_033.wav' 'test_004.wav'\n",
      " 'test_054.wav' 'test_168.wav' 'test_061.wav' 'test_008.wav'\n",
      " 'test_017.wav' 'test_185.wav']\n",
      "++++++++++++++++++++++++++++++++++++++++\n",
      "----------------------------------------\n",
      "Patient Files Classified incorrectly:\n",
      "Num. Files: 15\n",
      "['test_124.wav' 'test_102.wav' 'test_046.wav' 'test_156.wav'\n",
      " 'test_093.wav' 'test_085.wav' 'test_107.wav' 'test_011.wav'\n",
      " 'test_058.wav' 'test_135.wav' 'test_039.wav' 'test_206.wav'\n",
      " 'test_056.wav' 'test_067.wav' 'test_155.wav']\n",
      "----------------------------------------\n",
      "======== Confusion Matrix ==========\n",
      "Predicted  0.0  1.0  All\n",
      "Target                  \n",
      "0          151   18  169\n",
      "1           15   24   39\n",
      "All        166   42  208\n",
      "Test\n",
      "  Acurracy:  0.8413461538461539 Acurracy Control:  0.893491124260355 Acurracy Patient:  0.6153846153846154\n",
      "F1: 0.5925925925925927 UAR: 0.7544378698224852\n"
     ]
    },
    {
     "data": {
      "text/plain": [
       "0"
      ]
     },
     "execution_count": 16,
     "metadata": {},
     "output_type": "execute_result"
    }
   ],
   "source": [
    "import os\n",
    "\n",
    "data = 'csv_files/experiment_data/test.csv'\n",
    "folder = 'dataset/Merge-Data/'\n",
    "experiment_dir = 'result/exp-34/'\n",
    "command = f\"python script/test_all_seeds.py -t {data} -r {folder} --experiment_dir {experiment_dir}\"\n",
    "os.system(command)"
   ]
  },
  {
   "cell_type": "code",
   "execution_count": 11,
   "id": "b8ef8bab",
   "metadata": {},
   "outputs": [
    {
     "name": "stdout",
     "output_type": "stream",
     "text": [
      "Insert noise ? False\n",
      " > Partial model initialization.\n",
      " | > Layer missing in the model definition: spectrogram_extractor.stft.conv_real.weight\n",
      " | > Layer missing in the model definition: spectrogram_extractor.stft.conv_imag.weight\n",
      " | > Layer missing in the model definition: logmel_extractor.melW\n",
      " | > 81 / 81 layers are restored.\n",
      "Partial Pretrained checkpoint loaded:  Cnn14_16k_mAP=0.438.pth\n",
      "Loading checkpoint: result/exp-35/50/panns/best_checkpoint.pt\n",
      "Model Sucessful Load !\n",
      "++++++++++++++++++++++++++++++++++++++++\n",
      "Control Files Classified incorrectly:\n",
      "Num. Files: 19\n",
      "['test_065.wav' 'test_140.wav' 'test_178.wav' 'test_179.wav'\n",
      " 'test_126.wav' 'test_130.wav' 'test_166.wav' 'test_014.wav'\n",
      " 'test_079.wav' 'test_081.wav' 'test_049.wav' 'test_002.wav'\n",
      " 'test_033.wav' 'test_054.wav' 'test_101.wav' 'test_168.wav'\n",
      " 'test_061.wav' 'test_017.wav' 'test_018.wav']\n",
      "++++++++++++++++++++++++++++++++++++++++\n",
      "----------------------------------------\n",
      "Patient Files Classified incorrectly:\n",
      "Num. Files: 23\n",
      "['test_124.wav' 'test_103.wav' 'test_064.wav' 'test_074.wav'\n",
      " 'test_043.wav' 'test_062.wav' 'test_046.wav' 'test_156.wav'\n",
      " 'test_093.wav' 'test_085.wav' 'test_011.wav' 'test_058.wav'\n",
      " 'test_200.wav' 'test_092.wav' 'test_086.wav' 'test_135.wav'\n",
      " 'test_039.wav' 'test_206.wav' 'test_159.wav' 'test_047.wav'\n",
      " 'test_056.wav' 'test_067.wav' 'test_155.wav']\n",
      "----------------------------------------\n",
      "======== Confusion Matrix ==========\n",
      "Predicted    0   1  All\n",
      "Target                 \n",
      "0          150  19  169\n",
      "1           23  16   39\n",
      "All        173  35  208\n",
      "Test\n",
      "  Acurracy:  0.7980769230769231 Acurracy Control:  0.8875739644970414 Acurracy Patient:  0.41025641025641024 Acurracy Balanced 0.6489151873767258\n",
      "Loss: 0.5260330599087936 Loss Control: 0.43787311943325063 Loss Patient: 0.9080595419957087 Loss balanced:  0.6729663307144796\n",
      "F1: 0.4324324324324324 UAR: 0.6489151873767258\n"
     ]
    },
    {
     "data": {
      "text/plain": [
       "0"
      ]
     },
     "execution_count": 11,
     "metadata": {},
     "output_type": "execute_result"
    }
   ],
   "source": [
    "import os\n",
    "\n",
    "data = 'csv_files/experiment_data/test.csv'\n",
    "folder = 'dataset/Merge-Data/'\n",
    "config_dir = 'result/exp-35/50/panns/config.json'\n",
    "checkpoint = 'result/exp-35/50/panns/best_checkpoint.pt'\n",
    "command = f\"python script/test.py -t {data} -r {folder} -c {config_dir} --checkpoint_path {checkpoint}\"\n",
    "os.system(command)"
   ]
  },
  {
   "cell_type": "code",
   "execution_count": 14,
   "id": "399dce46",
   "metadata": {},
   "outputs": [
    {
     "name": "stdout",
     "output_type": "stream",
     "text": [
      "DEBUG: 1\n",
      "Not K-Fold Experiment\n",
      "Return Potential: False\n",
      "Loading checkpoint: result/exp-3/30/panns/best_checkpoint.pt\n",
      "Model Sucessful Load !\n",
      "Loading checkpoint: result/exp-3/41/panns/best_checkpoint.pt\n",
      "Model Sucessful Load !\n",
      "Loading checkpoint: result/exp-3/42/panns/best_checkpoint.pt\n",
      "Model Sucessful Load !\n",
      "Loading checkpoint: result/exp-3/46/panns/best_checkpoint.pt\n",
      "Model Sucessful Load !\n",
      "Loading checkpoint: result/exp-3/9/panns/best_checkpoint.pt\n",
      "Model Sucessful Load !\n",
      "++++++++++++++++++++++++++++++++++++++++\n",
      "Control Files Classified incorrectly:\n",
      "Num. Files: 20\n",
      "['test_013.wav' 'test_158.wav' 'test_061.wav' 'test_017.wav'\n",
      " 'test_204.wav' 'test_150.wav' 'test_065.wav' 'test_191.wav'\n",
      " 'test_054.wav' 'test_101.wav' 'test_100.wav' 'test_133.wav'\n",
      " 'test_038.wav' 'test_002.wav' 'test_029.wav' 'test_143.wav'\n",
      " 'test_203.wav' 'test_077.wav' 'test_178.wav' 'test_007.wav']\n",
      "++++++++++++++++++++++++++++++++++++++++\n",
      "----------------------------------------\n",
      "Patient Files Classified incorrectly:\n",
      "Num. Files: 24\n",
      "['test_039.wav' 'test_011.wav' 'test_044.wav' 'test_163.wav'\n",
      " 'test_184.wav' 'test_047.wav' 'test_200.wav' 'test_062.wav'\n",
      " 'test_159.wav' 'test_135.wav' 'test_086.wav' 'test_124.wav'\n",
      " 'test_067.wav' 'test_043.wav' 'test_102.wav' 'test_074.wav'\n",
      " 'test_155.wav' 'test_156.wav' 'test_085.wav' 'test_093.wav'\n",
      " 'test_092.wav' 'test_206.wav' 'test_103.wav' 'test_056.wav']\n",
      "----------------------------------------\n",
      "======== Confusion Matrix ==========\n",
      "Predicted  0.0  1.0  All\n",
      "Target                  \n",
      "0          149   20  169\n",
      "1           24   15   39\n",
      "All        173   35  208\n",
      "Test\n",
      "  Acurracy:  0.7884615384615384 Acurracy Control:  0.8816568047337278 Acurracy Patient:  0.38461538461538464\n",
      "F1: 0.4054054054054054 UAR: 0.6331360946745562\n"
     ]
    },
    {
     "data": {
      "text/plain": [
       "0"
      ]
     },
     "execution_count": 14,
     "metadata": {},
     "output_type": "execute_result"
    }
   ],
   "source": [
    "import os\n",
    "\n",
    "data = 'csv_files/experiment_data/test.csv'\n",
    "folder = 'dataset/Merge-Data/'\n",
    "experiment_dir = 'result/exp-3/'\n",
    "command = f\"python script/test_all_seeds.py -t {data} -r {folder} --experiment_dir {experiment_dir} --simples_vote False\"\n",
    "os.system(command)"
   ]
  },
  {
   "cell_type": "code",
   "execution_count": 17,
   "id": "5c205f96",
   "metadata": {},
   "outputs": [
    {
     "name": "stdout",
     "output_type": "stream",
     "text": [
      "DEBUG: 1\n",
      "Not K-Fold Experiment\n",
      "Return Potential: False\n",
      "Loading checkpoint: result/exp-4/27/panns/best_checkpoint.pt\n",
      "Model Sucessful Load !\n",
      "Loading checkpoint: result/exp-4/31/panns/best_checkpoint.pt\n",
      "Model Sucessful Load !\n",
      "Loading checkpoint: result/exp-4/35/panns/best_checkpoint.pt\n",
      "Model Sucessful Load !\n",
      "Loading checkpoint: result/exp-4/39/panns/best_checkpoint.pt\n",
      "Model Sucessful Load !\n",
      "Loading checkpoint: result/exp-4/46/panns/best_checkpoint.pt\n",
      "Model Sucessful Load !\n",
      "++++++++++++++++++++++++++++++++++++++++\n",
      "Control Files Classified incorrectly:\n",
      "Num. Files: 25\n",
      "['test_013.wav' 'test_158.wav' 'test_061.wav' 'test_059.wav'\n",
      " 'test_017.wav' 'test_073.wav' 'test_065.wav' 'test_191.wav'\n",
      " 'test_088.wav' 'test_054.wav' 'test_110.wav' 'test_072.wav'\n",
      " 'test_100.wav' 'test_133.wav' 'test_038.wav' 'test_105.wav'\n",
      " 'test_029.wav' 'test_143.wav' 'test_121.wav' 'test_075.wav'\n",
      " 'test_148.wav' 'test_203.wav' 'test_071.wav' 'test_178.wav'\n",
      " 'test_007.wav']\n",
      "++++++++++++++++++++++++++++++++++++++++\n",
      "----------------------------------------\n",
      "Patient Files Classified incorrectly:\n",
      "Num. Files: 25\n",
      "['test_039.wav' 'test_011.wav' 'test_044.wav' 'test_163.wav'\n",
      " 'test_184.wav' 'test_047.wav' 'test_200.wav' 'test_062.wav'\n",
      " 'test_159.wav' 'test_124.wav' 'test_067.wav' 'test_043.wav'\n",
      " 'test_102.wav' 'test_074.wav' 'test_046.wav' 'test_155.wav'\n",
      " 'test_156.wav' 'test_085.wav' 'test_093.wav' 'test_092.wav'\n",
      " 'test_058.wav' 'test_206.wav' 'test_103.wav' 'test_176.wav'\n",
      " 'test_056.wav']\n",
      "----------------------------------------\n",
      "======== Confusion Matrix ==========\n",
      "Predicted  0.0  1.0  All\n",
      "Target                  \n",
      "0          144   25  169\n",
      "1           25   14   39\n",
      "All        169   39  208\n",
      "Test\n",
      "  Acurracy:  0.7596153846153846 Acurracy Control:  0.8520710059171598 Acurracy Patient:  0.358974358974359\n",
      "F1: 0.358974358974359 UAR: 0.6055226824457594\n"
     ]
    },
    {
     "data": {
      "text/plain": [
       "0"
      ]
     },
     "execution_count": 17,
     "metadata": {},
     "output_type": "execute_result"
    }
   ],
   "source": [
    "import os\n",
    "\n",
    "data = 'csv_files/experiment_data/test.csv'\n",
    "folder = 'dataset/Merge-Data/'\n",
    "experiment_dir = 'result/exp-4/'\n",
    "command = f\"python script/test_all_seeds.py -t {data} -r {folder} --experiment_dir {experiment_dir} --simples_vote False\"\n",
    "os.system(command)"
   ]
  },
  {
   "cell_type": "code",
   "execution_count": 18,
   "id": "7ac898b7",
   "metadata": {},
   "outputs": [
    {
     "name": "stdout",
     "output_type": "stream",
     "text": [
      "DEBUG: 1\n",
      "Not K-Fold Experiment\n",
      "Return Potential: False\n",
      "Loading checkpoint: result/exp-4/27/panns/best_checkpoint.pt\n",
      "Model Sucessful Load !\n",
      "Loading checkpoint: result/exp-4/30/panns/best_checkpoint.pt\n",
      "Model Sucessful Load !\n",
      "Loading checkpoint: result/exp-4/31/panns/best_checkpoint.pt\n",
      "Model Sucessful Load !\n",
      "Loading checkpoint: result/exp-4/35/panns/best_checkpoint.pt\n",
      "Model Sucessful Load !\n",
      "Loading checkpoint: result/exp-4/39/panns/best_checkpoint.pt\n",
      "Model Sucessful Load !\n",
      "Loading checkpoint: result/exp-4/41/panns/best_checkpoint.pt\n",
      "Model Sucessful Load !\n",
      "Loading checkpoint: result/exp-4/42/panns/best_checkpoint.pt\n",
      "Model Sucessful Load !\n",
      "Loading checkpoint: result/exp-4/46/panns/best_checkpoint.pt\n",
      "Model Sucessful Load !\n",
      "Loading checkpoint: result/exp-4/9/panns/best_checkpoint.pt\n",
      "Model Sucessful Load !\n",
      "++++++++++++++++++++++++++++++++++++++++\n",
      "Control Files Classified incorrectly:\n",
      "Num. Files: 19\n",
      "['test_013.wav' 'test_158.wav' 'test_061.wav' 'test_017.wav'\n",
      " 'test_065.wav' 'test_191.wav' 'test_054.wav' 'test_110.wav'\n",
      " 'test_100.wav' 'test_133.wav' 'test_038.wav' 'test_105.wav'\n",
      " 'test_029.wav' 'test_143.wav' 'test_075.wav' 'test_148.wav'\n",
      " 'test_203.wav' 'test_178.wav' 'test_007.wav']\n",
      "++++++++++++++++++++++++++++++++++++++++\n",
      "----------------------------------------\n",
      "Patient Files Classified incorrectly:\n",
      "Num. Files: 27\n",
      "['test_039.wav' 'test_011.wav' 'test_044.wav' 'test_163.wav'\n",
      " 'test_184.wav' 'test_047.wav' 'test_200.wav' 'test_062.wav'\n",
      " 'test_159.wav' 'test_135.wav' 'test_086.wav' 'test_124.wav'\n",
      " 'test_067.wav' 'test_043.wav' 'test_102.wav' 'test_074.wav'\n",
      " 'test_046.wav' 'test_155.wav' 'test_156.wav' 'test_085.wav'\n",
      " 'test_093.wav' 'test_092.wav' 'test_058.wav' 'test_206.wav'\n",
      " 'test_103.wav' 'test_176.wav' 'test_056.wav']\n",
      "----------------------------------------\n",
      "======== Confusion Matrix ==========\n",
      "Predicted  0.0  1.0  All\n",
      "Target                  \n",
      "0          150   19  169\n",
      "1           27   12   39\n",
      "All        177   31  208\n",
      "Test\n",
      "  Acurracy:  0.7788461538461539 Acurracy Control:  0.8875739644970414 Acurracy Patient:  0.3076923076923077\n",
      "F1: 0.34285714285714286 UAR: 0.5976331360946745\n"
     ]
    },
    {
     "data": {
      "text/plain": [
       "0"
      ]
     },
     "execution_count": 18,
     "metadata": {},
     "output_type": "execute_result"
    }
   ],
   "source": [
    "import os\n",
    "\n",
    "data = 'csv_files/experiment_data/test.csv'\n",
    "folder = 'dataset/Merge-Data/'\n",
    "experiment_dir = 'result/exp-4/'\n",
    "command = f\"python script/test_all_seeds.py -t {data} -r {folder} --experiment_dir {experiment_dir} --simples_vote False\"\n",
    "os.system(command)"
   ]
  },
  {
   "cell_type": "code",
   "execution_count": 6,
   "id": "28daf9fd",
   "metadata": {
    "scrolled": true
   },
   "outputs": [
    {
     "name": "stdout",
     "output_type": "stream",
     "text": [
      "DEBUG: 1\n",
      "Not K-Fold Experiment\n",
      "Return Potential: False\n",
      "Loading checkpoint: result/exp-5/30/panns/best_checkpoint.pt\n",
      "Model Sucessful Load !\n",
      "Loading checkpoint: result/exp-5/41/panns/best_checkpoint.pt\n",
      "Model Sucessful Load !\n",
      "Loading checkpoint: result/exp-5/42/panns/best_checkpoint.pt\n",
      "Model Sucessful Load !\n",
      "Loading checkpoint: result/exp-5/46/panns/best_checkpoint.pt\n",
      "Model Sucessful Load !\n",
      "Loading checkpoint: result/exp-5/9/panns/best_checkpoint.pt\n",
      "Model Sucessful Load !\n",
      "++++++++++++++++++++++++++++++++++++++++\n",
      "Control Files Classified incorrectly:\n",
      "Num. Files: 30\n",
      "['test_148.wav' 'test_008.wav' 'test_054.wav' 'test_142.wav'\n",
      " 'test_061.wav' 'test_153.wav' 'test_203.wav' 'test_192.wav'\n",
      " 'test_038.wav' 'test_059.wav' 'test_178.wav' 'test_100.wav'\n",
      " 'test_104.wav' 'test_070.wav' 'test_033.wav' 'test_126.wav'\n",
      " 'test_081.wav' 'test_027.wav' 'test_017.wav' 'test_005.wav'\n",
      " 'test_198.wav' 'test_161.wav' 'test_101.wav' 'test_087.wav'\n",
      " 'test_115.wav' 'test_143.wav' 'test_029.wav' 'test_146.wav'\n",
      " 'test_105.wav' 'test_007.wav']\n",
      "++++++++++++++++++++++++++++++++++++++++\n",
      "----------------------------------------\n",
      "Patient Files Classified incorrectly:\n",
      "Num. Files: 18\n",
      "['test_102.wav' 'test_103.wav' 'test_092.wav' 'test_074.wav'\n",
      " 'test_067.wav' 'test_047.wav' 'test_124.wav' 'test_043.wav'\n",
      " 'test_086.wav' 'test_085.wav' 'test_058.wav' 'test_046.wav'\n",
      " 'test_163.wav' 'test_062.wav' 'test_156.wav' 'test_135.wav'\n",
      " 'test_056.wav' 'test_206.wav']\n",
      "----------------------------------------\n",
      "======== Confusion Matrix ==========\n",
      "Predicted  0.0  1.0  All\n",
      "Target                  \n",
      "0          139   30  169\n",
      "1           18   21   39\n",
      "All        157   51  208\n",
      "Test\n",
      "  Acurracy:  0.7692307692307693 Acurracy Control:  0.8224852071005917 Acurracy Patient:  0.5384615384615384\n",
      "F1: 0.4666666666666667 UAR: 0.680473372781065\n"
     ]
    },
    {
     "data": {
      "text/plain": [
       "0"
      ]
     },
     "execution_count": 6,
     "metadata": {},
     "output_type": "execute_result"
    }
   ],
   "source": [
    "import os\n",
    "\n",
    "data = 'csv_files/experiment_data/test.csv'\n",
    "folder = 'dataset/Merge-Data/'\n",
    "experiment_dir = 'result/exp-5/'\n",
    "command = f\"python script/test_all_seeds.py -t {data} -r {folder} --experiment_dir {experiment_dir} --simples_vote False\"\n",
    "os.system(command)"
   ]
  },
  {
   "cell_type": "code",
   "execution_count": 15,
   "id": "ecff39d6",
   "metadata": {},
   "outputs": [
    {
     "name": "stdout",
     "output_type": "stream",
     "text": [
      "DEBUG: 1\n",
      "Not K-Fold Experiment\n",
      "Return Potential: False\n",
      "Loading checkpoint: result/exp-6/27/panns/best_checkpoint.pt\n",
      "Model Sucessful Load !\n",
      "Loading checkpoint: result/exp-6/31/panns/best_checkpoint.pt\n",
      "Model Sucessful Load !\n",
      "Loading checkpoint: result/exp-6/35/panns/best_checkpoint.pt\n",
      "Model Sucessful Load !\n",
      "Loading checkpoint: result/exp-6/39/panns/best_checkpoint.pt\n",
      "Model Sucessful Load !\n",
      "Loading checkpoint: result/exp-6/46/panns/best_checkpoint.pt\n",
      "Model Sucessful Load !\n",
      "++++++++++++++++++++++++++++++++++++++++\n",
      "Control Files Classified incorrectly:\n",
      "Num. Files: 25\n",
      "['test_008.wav' 'test_054.wav' 'test_142.wav' 'test_060.wav'\n",
      " 'test_203.wav' 'test_192.wav' 'test_059.wav' 'test_073.wav'\n",
      " 'test_178.wav' 'test_168.wav' 'test_100.wav' 'test_050.wav'\n",
      " 'test_004.wav' 'test_081.wav' 'test_169.wav' 'test_101.wav'\n",
      " 'test_177.wav' 'test_115.wav' 'test_013.wav' 'test_003.wav'\n",
      " 'test_164.wav' 'test_029.wav' 'test_146.wav' 'test_105.wav'\n",
      " 'test_007.wav']\n",
      "++++++++++++++++++++++++++++++++++++++++\n",
      "----------------------------------------\n",
      "Patient Files Classified incorrectly:\n",
      "Num. Files: 22\n",
      "['test_102.wav' 'test_200.wav' 'test_092.wav' 'test_074.wav'\n",
      " 'test_067.wav' 'test_047.wav' 'test_155.wav' 'test_176.wav'\n",
      " 'test_159.wav' 'test_124.wav' 'test_043.wav' 'test_086.wav'\n",
      " 'test_085.wav' 'test_058.wav' 'test_046.wav' 'test_163.wav'\n",
      " 'test_062.wav' 'test_156.wav' 'test_039.wav' 'test_135.wav'\n",
      " 'test_056.wav' 'test_206.wav']\n",
      "----------------------------------------\n",
      "======== Confusion Matrix ==========\n",
      "Predicted  0.0  1.0  All\n",
      "Target                  \n",
      "0          144   25  169\n",
      "1           22   17   39\n",
      "All        166   42  208\n",
      "Test\n",
      "  Acurracy:  0.7740384615384616 Acurracy Control:  0.8520710059171598 Acurracy Patient:  0.4358974358974359\n",
      "F1: 0.4197530864197531 UAR: 0.6439842209072979\n"
     ]
    },
    {
     "data": {
      "text/plain": [
       "0"
      ]
     },
     "execution_count": 15,
     "metadata": {},
     "output_type": "execute_result"
    }
   ],
   "source": [
    "import os\n",
    "\n",
    "data = 'csv_files/experiment_data/test.csv'\n",
    "folder = 'dataset/Merge-Data/'\n",
    "experiment_dir = 'result/exp-6/'\n",
    "command = f\"python script/test_all_seeds.py -t {data} -r {folder} --experiment_dir {experiment_dir} --simples_vote False\"\n",
    "os.system(command)"
   ]
  },
  {
   "cell_type": "code",
   "execution_count": 25,
   "id": "cfb03c20",
   "metadata": {},
   "outputs": [
    {
     "name": "stdout",
     "output_type": "stream",
     "text": [
      "DEBUG: 1\n",
      "Not K-Fold Experiment\n",
      "Return Potential: False\n",
      "Loading checkpoint: result/exp-7/27/panns/best_checkpoint.pt\n",
      "Model Sucessful Load !\n",
      "Loading checkpoint: result/exp-7/30/panns/best_checkpoint.pt\n",
      "Model Sucessful Load !\n",
      "Loading checkpoint: result/exp-7/31/panns/best_checkpoint.pt\n",
      "Model Sucessful Load !\n",
      "Loading checkpoint: result/exp-7/41/panns/best_checkpoint.pt\n",
      "Model Sucessful Load !\n",
      "Loading checkpoint: result/exp-7/46/panns/best_checkpoint.pt\n",
      "Model Sucessful Load !\n",
      "++++++++++++++++++++++++++++++++++++++++\n",
      "Control Files Classified incorrectly:\n",
      "Num. Files: 30\n",
      "['test_008.wav' 'test_054.wav' 'test_142.wav' 'test_060.wav'\n",
      " 'test_028.wav' 'test_203.wav' 'test_192.wav' 'test_038.wav'\n",
      " 'test_059.wav' 'test_073.wav' 'test_178.wav' 'test_168.wav'\n",
      " 'test_100.wav' 'test_050.wav' 'test_070.wav' 'test_033.wav'\n",
      " 'test_126.wav' 'test_027.wav' 'test_017.wav' 'test_198.wav'\n",
      " 'test_161.wav' 'test_101.wav' 'test_177.wav' 'test_115.wav'\n",
      " 'test_143.wav' 'test_003.wav' 'test_029.wav' 'test_146.wav'\n",
      " 'test_105.wav' 'test_007.wav']\n",
      "++++++++++++++++++++++++++++++++++++++++\n",
      "----------------------------------------\n",
      "Patient Files Classified incorrectly:\n",
      "Num. Files: 18\n",
      "['test_102.wav' 'test_200.wav' 'test_103.wav' 'test_092.wav'\n",
      " 'test_074.wav' 'test_067.wav' 'test_047.wav' 'test_124.wav'\n",
      " 'test_043.wav' 'test_086.wav' 'test_085.wav' 'test_058.wav'\n",
      " 'test_046.wav' 'test_163.wav' 'test_062.wav' 'test_156.wav'\n",
      " 'test_135.wav' 'test_056.wav']\n",
      "----------------------------------------\n",
      "======== Confusion Matrix ==========\n",
      "Predicted  0.0  1.0  All\n",
      "Target                  \n",
      "0          139   30  169\n",
      "1           18   21   39\n",
      "All        157   51  208\n",
      "Test\n",
      "  Acurracy:  0.7692307692307693 Acurracy Control:  0.8224852071005917 Acurracy Patient:  0.5384615384615384\n",
      "F1: 0.4666666666666667 UAR: 0.680473372781065\n"
     ]
    },
    {
     "data": {
      "text/plain": [
       "0"
      ]
     },
     "execution_count": 25,
     "metadata": {},
     "output_type": "execute_result"
    }
   ],
   "source": [
    "import os\n",
    "\n",
    "data = 'csv_files/experiment_data/test.csv'\n",
    "folder = 'dataset/Merge-Data/'\n",
    "experiment_dir = 'result/exp-7/'\n",
    "command = f\"python script/test_all_seeds.py -t {data} -r {folder} --experiment_dir {experiment_dir} --simples_vote False\"\n",
    "os.system(command)"
   ]
  },
  {
   "cell_type": "code",
   "execution_count": 31,
   "id": "a3f57474",
   "metadata": {},
   "outputs": [
    {
     "name": "stdout",
     "output_type": "stream",
     "text": [
      "DEBUG: 1\n",
      "Not K-Fold Experiment\n",
      "Return Potential: False\n",
      "Loading checkpoint: result/exp-8/31/panns/best_checkpoint.pt\n",
      "Model Sucessful Load !\n",
      "Loading checkpoint: result/exp-8/41/panns/best_checkpoint.pt\n",
      "Model Sucessful Load !\n",
      "Loading checkpoint: result/exp-8/46/panns/best_checkpoint.pt\n",
      "Model Sucessful Load !\n",
      "++++++++++++++++++++++++++++++++++++++++\n",
      "Control Files Classified incorrectly:\n",
      "Num. Files: 27\n",
      "['test_008.wav' 'test_054.wav' 'test_203.wav' 'test_192.wav'\n",
      " 'test_038.wav' 'test_059.wav' 'test_073.wav' 'test_178.wav'\n",
      " 'test_168.wav' 'test_100.wav' 'test_104.wav' 'test_050.wav'\n",
      " 'test_070.wav' 'test_033.wav' 'test_126.wav' 'test_002.wav'\n",
      " 'test_027.wav' 'test_017.wav' 'test_005.wav' 'test_198.wav'\n",
      " 'test_161.wav' 'test_101.wav' 'test_115.wav' 'test_003.wav'\n",
      " 'test_029.wav' 'test_146.wav' 'test_007.wav']\n",
      "++++++++++++++++++++++++++++++++++++++++\n",
      "----------------------------------------\n",
      "Patient Files Classified incorrectly:\n",
      "Num. Files: 17\n",
      "['test_102.wav' 'test_200.wav' 'test_103.wav' 'test_092.wav'\n",
      " 'test_074.wav' 'test_067.wav' 'test_124.wav' 'test_043.wav'\n",
      " 'test_086.wav' 'test_085.wav' 'test_058.wav' 'test_046.wav'\n",
      " 'test_163.wav' 'test_156.wav' 'test_135.wav' 'test_056.wav'\n",
      " 'test_206.wav']\n",
      "----------------------------------------\n",
      "======== Confusion Matrix ==========\n",
      "Predicted  0.0  1.0  All\n",
      "Target                  \n",
      "0          142   27  169\n",
      "1           17   22   39\n",
      "All        159   49  208\n",
      "Test\n",
      "  Acurracy:  0.7884615384615384 Acurracy Control:  0.8402366863905325 Acurracy Patient:  0.5641025641025641\n",
      "F1: 0.5 UAR: 0.7021696252465484\n"
     ]
    },
    {
     "data": {
      "text/plain": [
       "0"
      ]
     },
     "execution_count": 31,
     "metadata": {},
     "output_type": "execute_result"
    }
   ],
   "source": [
    "import os\n",
    "\n",
    "data = 'csv_files/experiment_data/test.csv'\n",
    "folder = 'dataset/Merge-Data/'\n",
    "experiment_dir = 'result/exp-8/'\n",
    "command = f\"python script/test_all_seeds.py -t {data} -r {folder} --experiment_dir {experiment_dir} --simples_vote False\"\n",
    "os.system(command)"
   ]
  },
  {
   "cell_type": "code",
   "execution_count": 29,
   "id": "2f08a566",
   "metadata": {},
   "outputs": [
    {
     "name": "stdout",
     "output_type": "stream",
     "text": [
      "DEBUG: 1\n",
      "Not K-Fold Experiment\n",
      "Return Potential: False\n",
      "Loading checkpoint: result/exp-9/30/panns/best_checkpoint.pt\n",
      "Model Sucessful Load !\n",
      "Loading checkpoint: result/exp-9/41/panns/best_checkpoint.pt\n",
      "Model Sucessful Load !\n",
      "Loading checkpoint: result/exp-9/46/panns/best_checkpoint.pt\n",
      "Model Sucessful Load !\n",
      "++++++++++++++++++++++++++++++++++++++++\n",
      "Control Files Classified incorrectly:\n",
      "Num. Files: 30\n",
      "['test_148.wav' 'test_008.wav' 'test_054.wav' 'test_061.wav'\n",
      " 'test_153.wav' 'test_203.wav' 'test_192.wav' 'test_038.wav'\n",
      " 'test_059.wav' 'test_073.wav' 'test_178.wav' 'test_100.wav'\n",
      " 'test_104.wav' 'test_070.wav' 'test_033.wav' 'test_126.wav'\n",
      " 'test_027.wav' 'test_017.wav' 'test_005.wav' 'test_198.wav'\n",
      " 'test_161.wav' 'test_101.wav' 'test_177.wav' 'test_087.wav'\n",
      " 'test_115.wav' 'test_143.wav' 'test_029.wav' 'test_146.wav'\n",
      " 'test_105.wav' 'test_007.wav']\n",
      "++++++++++++++++++++++++++++++++++++++++\n",
      "----------------------------------------\n",
      "Patient Files Classified incorrectly:\n",
      "Num. Files: 15\n",
      "['test_102.wav' 'test_103.wav' 'test_092.wav' 'test_074.wav'\n",
      " 'test_067.wav' 'test_124.wav' 'test_043.wav' 'test_086.wav'\n",
      " 'test_085.wav' 'test_058.wav' 'test_046.wav' 'test_163.wav'\n",
      " 'test_156.wav' 'test_135.wav' 'test_056.wav']\n",
      "----------------------------------------\n",
      "======== Confusion Matrix ==========\n",
      "Predicted  0.0  1.0  All\n",
      "Target                  \n",
      "0          139   30  169\n",
      "1           15   24   39\n",
      "All        154   54  208\n",
      "Test\n",
      "  Acurracy:  0.7836538461538461 Acurracy Control:  0.8224852071005917 Acurracy Patient:  0.6153846153846154\n",
      "F1: 0.5161290322580646 UAR: 0.7189349112426036\n"
     ]
    },
    {
     "data": {
      "text/plain": [
       "0"
      ]
     },
     "execution_count": 29,
     "metadata": {},
     "output_type": "execute_result"
    }
   ],
   "source": [
    "import os\n",
    "\n",
    "data = 'csv_files/experiment_data/test.csv'\n",
    "folder = 'dataset/Merge-Data/'\n",
    "experiment_dir = 'result/exp-9/'\n",
    "command = f\"python script/test_all_seeds.py -t {data} -r {folder} --experiment_dir {experiment_dir} --simples_vote True\"\n",
    "os.system(command)"
   ]
  },
  {
   "cell_type": "code",
   "execution_count": 37,
   "id": "b3bd7f5d",
   "metadata": {},
   "outputs": [
    {
     "name": "stdout",
     "output_type": "stream",
     "text": [
      "DEBUG: 1\n",
      "Not K-Fold Experiment\n",
      "Return Potential: False\n",
      "Loading checkpoint: result/exp-10/41/panns/best_checkpoint.pt\n",
      "Model Sucessful Load !\n",
      "Loading checkpoint: result/exp-10/46/panns/best_checkpoint.pt\n",
      "Model Sucessful Load !\n",
      "++++++++++++++++++++++++++++++++++++++++\n",
      "Control Files Classified incorrectly:\n",
      "Num. Files: 22\n",
      "['test_008.wav' 'test_054.wav' 'test_203.wav' 'test_192.wav'\n",
      " 'test_038.wav' 'test_059.wav' 'test_073.wav' 'test_178.wav'\n",
      " 'test_100.wav' 'test_104.wav' 'test_070.wav' 'test_033.wav'\n",
      " 'test_126.wav' 'test_027.wav' 'test_017.wav' 'test_005.wav'\n",
      " 'test_198.wav' 'test_161.wav' 'test_101.wav' 'test_115.wav'\n",
      " 'test_029.wav' 'test_007.wav']\n",
      "++++++++++++++++++++++++++++++++++++++++\n",
      "----------------------------------------\n",
      "Patient Files Classified incorrectly:\n",
      "Num. Files: 18\n",
      "['test_102.wav' 'test_200.wav' 'test_103.wav' 'test_092.wav'\n",
      " 'test_074.wav' 'test_067.wav' 'test_176.wav' 'test_124.wav'\n",
      " 'test_043.wav' 'test_086.wav' 'test_085.wav' 'test_058.wav'\n",
      " 'test_046.wav' 'test_163.wav' 'test_156.wav' 'test_135.wav'\n",
      " 'test_056.wav' 'test_206.wav']\n",
      "----------------------------------------\n",
      "======== Confusion Matrix ==========\n",
      "Predicted  0.0  1.0  All\n",
      "Target                  \n",
      "0          147   22  169\n",
      "1           18   21   39\n",
      "All        165   43  208\n",
      "Test\n",
      "  Acurracy:  0.8076923076923077 Acurracy Control:  0.8698224852071006 Acurracy Patient:  0.5384615384615384\n",
      "F1: 0.5121951219512196 UAR: 0.7041420118343196\n"
     ]
    },
    {
     "data": {
      "text/plain": [
       "0"
      ]
     },
     "execution_count": 37,
     "metadata": {},
     "output_type": "execute_result"
    }
   ],
   "source": [
    "import os\n",
    "\n",
    "data = 'csv_files/experiment_data/test.csv'\n",
    "folder = 'dataset/Merge-Data/'\n",
    "experiment_dir = 'result/exp-10/'\n",
    "command = f\"python script/test_all_seeds.py -t {data} -r {folder} --experiment_dir {experiment_dir} --simples_vote True\"\n",
    "os.system(command)"
   ]
  },
  {
   "cell_type": "code",
   "execution_count": null,
   "id": "77ba4a2d",
   "metadata": {},
   "outputs": [],
   "source": []
  }
 ],
 "metadata": {
  "kernelspec": {
   "display_name": "Python 3 (ipykernel)",
   "language": "python",
   "name": "python3"
  },
  "language_info": {
   "codemirror_mode": {
    "name": "ipython",
    "version": 3
   },
   "file_extension": ".py",
   "mimetype": "text/x-python",
   "name": "python",
   "nbconvert_exporter": "python",
   "pygments_lexer": "ipython3",
   "version": "3.9.7"
  }
 },
 "nbformat": 4,
 "nbformat_minor": 5
}
