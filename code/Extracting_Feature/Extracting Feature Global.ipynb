{
 "cells": [
  {
   "cell_type": "code",
   "execution_count": 1,
   "metadata": {
    "colab": {
     "base_uri": "https://localhost:8080/"
    },
    "executionInfo": {
     "elapsed": 25,
     "status": "ok",
     "timestamp": 1628680413579,
     "user": {
      "displayName": "Zanjabila _",
      "photoUrl": "",
      "userId": "18022974806779372296"
     },
     "user_tz": -420
    },
    "id": "GsF7-2imSQjl",
    "outputId": "7f9637f0-88b7-4635-fde4-332844321b54"
   },
   "outputs": [],
   "source": [
    "import numpy as np\n",
    "import os\n",
    "from os import listdir\n",
    "import librosa as lb\n",
    "import pandas as pd\n",
    "from collections import Counter\n",
    "from imblearn.over_sampling import SMOTE\n",
    "from sklearn.preprocessing import MinMaxScaler, StandardScaler"
   ]
  },
  {
   "cell_type": "code",
   "execution_count": 2,
   "metadata": {
    "id": "v2oAn2vlSfiy"
   },
   "outputs": [],
   "source": [
    "if os.path.exists('data')==False:\n",
    "    os.mkdir('data')"
   ]
  },
  {
   "cell_type": "markdown",
   "metadata": {},
   "source": [
    "## Making a Experiment Folder"
   ]
  },
  {
   "cell_type": "code",
   "execution_count": 33,
   "metadata": {},
   "outputs": [],
   "source": [
    "exp = 'exp-9'"
   ]
  },
  {
   "cell_type": "code",
   "execution_count": 34,
   "metadata": {},
   "outputs": [],
   "source": [
    "if os.path.exists(os.path.join('data',exp))==False:\n",
    "    os.mkdir(os.path.join('data',exp))\n",
    "else:\n",
    "    print('Folder is exists')"
   ]
  },
  {
   "cell_type": "code",
   "execution_count": 35,
   "metadata": {},
   "outputs": [],
   "source": [
    "dataset = 'dataset/Merge-Data/'"
   ]
  },
  {
   "cell_type": "markdown",
   "metadata": {},
   "source": [
    "## Extracting Coswara Data Feature"
   ]
  },
  {
   "cell_type": "code",
   "execution_count": 36,
   "metadata": {},
   "outputs": [
    {
     "data": {
      "text/html": [
       "<div>\n",
       "<style scoped>\n",
       "    .dataframe tbody tr th:only-of-type {\n",
       "        vertical-align: middle;\n",
       "    }\n",
       "\n",
       "    .dataframe tbody tr th {\n",
       "        vertical-align: top;\n",
       "    }\n",
       "\n",
       "    .dataframe thead th {\n",
       "        text-align: right;\n",
       "    }\n",
       "</style>\n",
       "<table border=\"1\" class=\"dataframe\">\n",
       "  <thead>\n",
       "    <tr style=\"text-align: right;\">\n",
       "      <th></th>\n",
       "      <th>filename</th>\n",
       "      <th>label</th>\n",
       "    </tr>\n",
       "  </thead>\n",
       "  <tbody>\n",
       "    <tr>\n",
       "      <th>0</th>\n",
       "      <td>ir3jqGSKT2ManVTAAzj6Ew7orBD2_heavy.wav</td>\n",
       "      <td>positive</td>\n",
       "    </tr>\n",
       "    <tr>\n",
       "      <th>1</th>\n",
       "      <td>ZzKpUtFGzsVEK7E1wsVGRftKdx93.wav</td>\n",
       "      <td>positive</td>\n",
       "    </tr>\n",
       "    <tr>\n",
       "      <th>2</th>\n",
       "      <td>TkOj2GRygbe2J9HxfMWk02A4e7v1.wav</td>\n",
       "      <td>positive</td>\n",
       "    </tr>\n",
       "    <tr>\n",
       "      <th>3</th>\n",
       "      <td>ottC8aetxhRQfKD00RCJc5LWS622_heavy.wav</td>\n",
       "      <td>positive</td>\n",
       "    </tr>\n",
       "    <tr>\n",
       "      <th>4</th>\n",
       "      <td>IFMid2LmeCTSQAFaL8wTSUg20No2.wav</td>\n",
       "      <td>positive</td>\n",
       "    </tr>\n",
       "  </tbody>\n",
       "</table>\n",
       "</div>"
      ],
      "text/plain": [
       "                                 filename     label\n",
       "0  ir3jqGSKT2ManVTAAzj6Ew7orBD2_heavy.wav  positive\n",
       "1        ZzKpUtFGzsVEK7E1wsVGRftKdx93.wav  positive\n",
       "2        TkOj2GRygbe2J9HxfMWk02A4e7v1.wav  positive\n",
       "3  ottC8aetxhRQfKD00RCJc5LWS622_heavy.wav  positive\n",
       "4        IFMid2LmeCTSQAFaL8wTSUg20No2.wav  positive"
      ]
     },
     "execution_count": 36,
     "metadata": {},
     "output_type": "execute_result"
    }
   ],
   "source": [
    "df_coswara = pd.read_csv('csv_files/normalized_data/Coswara_dataset.csv')\n",
    "df_coswara.head()"
   ]
  },
  {
   "cell_type": "code",
   "execution_count": null,
   "metadata": {
    "colab": {
     "base_uri": "https://localhost:8080/"
    },
    "executionInfo": {
     "elapsed": 2238695,
     "status": "ok",
     "timestamp": 1628673126612,
     "user": {
      "displayName": "Zanjabila _",
      "photoUrl": "",
      "userId": "18022974806779372296"
     },
     "user_tz": -420
    },
    "id": "va8S6zjzTpvr",
    "outputId": "e17ca223-54b9-4c5a-d447-1caf8b353f59",
    "scrolled": true
   },
   "outputs": [
    {
     "name": "stdout",
     "output_type": "stream",
     "text": [
      "ir3jqGSKT2ManVTAAzj6Ew7orBD2_heavy.wav positive\n",
      "ZzKpUtFGzsVEK7E1wsVGRftKdx93.wav positive\n",
      "TkOj2GRygbe2J9HxfMWk02A4e7v1.wav positive\n",
      "ottC8aetxhRQfKD00RCJc5LWS622_heavy.wav positive\n",
      "IFMid2LmeCTSQAFaL8wTSUg20No2.wav positive\n",
      "xYCukI9rgMeslwjIYWheFtyZ6zk1_heavy.wav positive\n",
      "Iz9X0QRimVT2R7AGhD6jZM0ryPp1.wav positive\n",
      "CGXh77ubexNuv0UUmOHVCnAgurY2.wav positive\n",
      "BDygu23lyUbBq2NlqfzRxGoMm9B2_heavy.wav positive\n",
      "cd57GKgW74bBSqmusnCkc8bXujs2.wav positive\n",
      "2lsppspH44WH3Scc1ojisHaXJzp1_heavy.wav positive\n",
      "Hge7rEPBdLcy4ckCtvUFfl4p0Ne2_heavy.wav positive\n",
      "EUjlCZyR0xMbOH31Je8knI3UdKO2.wav positive\n",
      "LF7wSEDpWafkz5bwtxnFuho9iWz1.wav positive\n",
      "y0TkG5sfyhadW3VSct50RTl3HN02.wav positive\n",
      "t5wo2qvXdBehDj8JuF9pGWbb3Rt1.wav positive\n",
      "rB4ewmXSc9P5IPhLffnBasjYU1s2.wav positive\n",
      "h4T9i8JwCEbfw4hzNowalt393Wp1_heavy.wav positive\n",
      "rAWA4P9I7iYPCIvEheITe8FCRKP2_heavy.wav positive\n",
      "BRVYzpZ9X1TGGLnjYEHIn3VEJ5j1_heavy.wav positive\n",
      "lVHnQ9UNkAYmjNm7wL885LzpsOk2_heavy.wav positive\n",
      "pWFMPFBys1bBerYz5Si4Gb8brGn1.wav positive\n",
      "Z8ulmLPAsmhYfYuqUAmm6aGy5r53.wav positive\n",
      "eY44bQRKksTntBarwq9fRkPkA8N2_heavy.wav positive\n",
      "eR2gfqeYAjdgzpwtCDXUqts9yIc2.wav positive\n"
     ]
    },
    {
     "name": "stderr",
     "output_type": "stream",
     "text": [
      "/home/viblab/.local/lib/python3.9/site-packages/librosa/core/pitch.py:153: UserWarning: Trying to estimate tuning from empty frequency set.\n",
      "  warnings.warn(\"Trying to estimate tuning from empty frequency set.\")\n",
      "/home/viblab/.local/lib/python3.9/site-packages/librosa/core/pitch.py:153: UserWarning: Trying to estimate tuning from empty frequency set.\n",
      "  warnings.warn(\"Trying to estimate tuning from empty frequency set.\")\n"
     ]
    },
    {
     "name": "stdout",
     "output_type": "stream",
     "text": [
      "vXpopcJJEugOInwUtJkEnHgoVhk1.wav positive\n",
      "IgwjLDmZRyTv03Mq7VdUYL6O5fV2.wav positive\n",
      "Fh3hBZZRh2UXXicTNGMei8ikbSu2_heavy.wav positive\n",
      "uRtWGtWi3eVHJ0JhF0ycETkX0ms2.wav positive\n",
      "4qLi2eWkYGasKhmmPPiyFAGUqBr2_heavy.wav positive\n",
      "xyNunpsL01N3hkRYCo7pfIkSDgf2_heavy.wav positive\n",
      "x8PvE190nSZUtv8raWxfg76ek6p2_heavy.wav positive\n",
      "gpreuyMvtSa8HJhGaliJ6E1Hwx53_heavy.wav positive\n",
      "tdqx6pwgAaeiofZLQHT82VZcUf33.wav positive\n",
      "ptuwF1pj4ibIoVuZmt4nKb5naiZ2_heavy.wav positive\n",
      "0pqMnxeSybfQnGV9nHW3P69FSzE3_heavy.wav positive\n",
      "W9VOaBOebvQ2uxduqV8wZF4ue572.wav positive\n",
      "RtRqhfGUUffisj4mpxA9nTYe2cw2.wav positive\n",
      "YE3Hs5yD9BeIzT8cctZEBKGJIXN2.wav positive\n"
     ]
    },
    {
     "name": "stderr",
     "output_type": "stream",
     "text": [
      "/home/viblab/.local/lib/python3.9/site-packages/librosa/core/pitch.py:153: UserWarning: Trying to estimate tuning from empty frequency set.\n",
      "  warnings.warn(\"Trying to estimate tuning from empty frequency set.\")\n",
      "/home/viblab/.local/lib/python3.9/site-packages/librosa/core/pitch.py:153: UserWarning: Trying to estimate tuning from empty frequency set.\n",
      "  warnings.warn(\"Trying to estimate tuning from empty frequency set.\")\n"
     ]
    },
    {
     "name": "stdout",
     "output_type": "stream",
     "text": [
      "HATVkqrdXhV2eIiwy5iIP7V0bjo2_heavy.wav positive\n",
      "5SHNxnq02ygR1L7LRTR3gASXpHb2_heavy.wav positive\n",
      "8PvWScAB6UbnfrkQrpbqLpu7O0z1_heavy.wav positive\n",
      "RUnaVFVJiLh22WD0dBl3TeJgmMI3_heavy.wav positive\n",
      "H9aG9NV6Wae3ATv7xapsyAYdIJy2.wav positive\n",
      "AlM8enXWaFZ96vN2KM98agcXJvx2.wav positive\n",
      "euld60aqc2OtnNoKYx9P4WDzVM92.wav positive\n",
      "iYM9uJMyO1UoXTo1tc7rXvsI4bm1_heavy.wav positive\n",
      "3qA9Ym3caTbMsegKE0yUvLdapHi1_heavy.wav positive\n",
      "W9VOaBOebvQ2uxduqV8wZF4ue572_heavy.wav positive\n",
      "Tvdak0zflIVWdvWsNj7l9Ur0k3m1.wav positive\n",
      "gxbBHDQWiSWdAnKyqT0BMuH9T2k1.wav positive\n",
      "0Js6ZUZQ9NUnu568Fh7B6mZ1R8o1.wav positive\n"
     ]
    },
    {
     "name": "stderr",
     "output_type": "stream",
     "text": [
      "/home/viblab/.local/lib/python3.9/site-packages/librosa/core/pitch.py:153: UserWarning: Trying to estimate tuning from empty frequency set.\n",
      "  warnings.warn(\"Trying to estimate tuning from empty frequency set.\")\n",
      "/home/viblab/.local/lib/python3.9/site-packages/librosa/core/pitch.py:153: UserWarning: Trying to estimate tuning from empty frequency set.\n",
      "  warnings.warn(\"Trying to estimate tuning from empty frequency set.\")\n"
     ]
    },
    {
     "name": "stdout",
     "output_type": "stream",
     "text": [
      "UhYCvhOCn2erbzJc5faN4ek3D1I2.wav positive\n",
      "tDjXrO1dI4O35JJXPL3ihLvnAzl1.wav positive\n",
      "6aOGyUJRIcXSEWNRCkzUodJimux1.wav positive\n",
      "xgdd8l7OfrMOkvrskW5s6fxk3mg2.wav positive\n",
      "Y635Ri3QFMcOKC0ckXgW2r0xJ422_heavy.wav positive\n",
      "lQ1cBTWdazLLa7xWAiSCOmZ709s1_heavy.wav positive\n",
      "OCFaQR2Fa4S8cFiEJE2HueZH0TH3_heavy.wav positive\n",
      "iYwmYc9CdlSuzqGwIlXNWI6eFpm1.wav positive\n",
      "3CwioNQVDBQ6CttLyFVRJpMpVHk2.wav positive\n",
      "8fdUOI5UtkZBCVFXNT1a4hl3rX33_heavy.wav positive\n",
      "MBFsLtO6sIf2SGCEfNT2K91gLcy1_heavy.wav positive\n",
      "xH2X6KXzfefgZFURY27gKT30ysR2_heavy.wav positive\n",
      "uAEOVPr487bFnks4dvytsxJQZP02_heavy.wav positive\n",
      "AVbhXf3KiUf9ZmkjvWzDOxevAPH2.wav positive\n",
      "pi4VnHGXBRXiKcAd1ukYE0d7As42_heavy.wav positive\n",
      "iS29Ewab4XQHypUcZLygL7AYH6J2_heavy.wav positive\n",
      "s1x2Ze9iVZNf6oFZDAZ4S9x3Cky2_heavy.wav positive\n",
      "v4G9xCIR9DdWAiFRSNd4XbwPUP32.wav positive\n",
      "1aPZz1jeoBcw9B046d504mn4cq82.wav positive\n",
      "2vH4QMrMaMMm5oZYScY0b36Z8MC3.wav positive\n",
      "GoGf76VxSgOiEBDUkcP7LONacII2_heavy.wav positive\n",
      "AlM8enXWaFZ96vN2KM98agcXJvx2_heavy.wav positive\n",
      "rCsX9988lSeyFudpTucks6czFo32.wav positive\n",
      "ZaTgRbDWn9d1MMPanam0NCupVCl1.wav positive\n",
      "RUnaVFVJiLh22WD0dBl3TeJgmMI3.wav positive\n",
      "00xKcQMmcAhX8CODgBBLOe7Dm0T2_heavy.wav positive\n",
      "Okal6T0guFZi4Slm4k4MEyuCnyv1_heavy.wav positive\n",
      "tdqx6pwgAaeiofZLQHT82VZcUf33_heavy.wav positive\n",
      "oPLTYiEHMFTuruwTXpbRPnlz2mr1.wav positive\n",
      "Y0K7dqxP7WWsIjth3NfIHU9ayKO2.wav positive\n",
      "u7b9tNSshrPFYAno8H85DgImH1B3.wav positive\n",
      "0MVnLUuWMBdzmvRDgLvi4TRl4Zf1.wav positive\n",
      "F5zeWi4QqdP2EMOX8P1LacSKaAD2.wav positive\n",
      "jAP3y51Zjcd3gkB80PuRAfSXTGa2.wav positive\n",
      "Ft82dZ2O4PMuq64dPIEVik9upMr2_heavy.wav positive\n",
      "QFxGVP17oxZUKUsuaW0O32qFdoT2.wav positive\n",
      "dDvHec65MWh2REqq5mABZJvmlXI3.wav positive\n",
      "wFhImPjbZkWVRY7xDoz2PmS5X8R2.wav positive\n"
     ]
    },
    {
     "name": "stderr",
     "output_type": "stream",
     "text": [
      "/home/viblab/.local/lib/python3.9/site-packages/librosa/core/pitch.py:153: UserWarning: Trying to estimate tuning from empty frequency set.\n",
      "  warnings.warn(\"Trying to estimate tuning from empty frequency set.\")\n",
      "/home/viblab/.local/lib/python3.9/site-packages/librosa/core/pitch.py:153: UserWarning: Trying to estimate tuning from empty frequency set.\n",
      "  warnings.warn(\"Trying to estimate tuning from empty frequency set.\")\n"
     ]
    },
    {
     "name": "stdout",
     "output_type": "stream",
     "text": [
      "EUjlCZyR0xMbOH31Je8knI3UdKO2_heavy.wav positive\n",
      "QwS7dzEJ48f6hh4eQny6ywozazg2_heavy.wav positive\n",
      "fX1IzMBBKwXISMTgnZUFQa6o5Rh2.wav positive\n",
      "fWuphwJwitW9dSX0gNJBZX7YnN52_heavy.wav positive\n",
      "uwgjET5xm8NHkfQt7LsUpV0xC1W2.wav positive\n",
      "CGXh77ubexNuv0UUmOHVCnAgurY2_heavy.wav positive\n",
      "q9AJkEfjEtQYaUFVbbFl1cN7TKH3.wav positive\n",
      "Uju7jUdiN7VA8j1dI3MQoktzzIV2.wav positive\n",
      "hCix5UmABWZVW40elRFgkGabPa52_heavy.wav positive\n",
      "UXhG3vgoxkWtd4Meky1nm0sRgMV2_heavy.wav positive\n",
      "NAL6D2MCyQbiZUGtdQixl39IH3X2.wav positive\n",
      "dQEgRb1WIAOmomgTx4amrxbQ2513_heavy.wav positive\n",
      "FzJhVfH5jFOJ4hf1CWLSQOo8csD3_heavy.wav positive\n",
      "Iz9X0QRimVT2R7AGhD6jZM0ryPp1_heavy.wav positive\n",
      "LF7wSEDpWafkz5bwtxnFuho9iWz1_heavy.wav positive\n",
      "Fx2gbIoPlJXrK5OD8FMeepOGlLa2_heavy.wav positive\n",
      "YpViFd6bZEaMT5i5DUd18Qh6NQI3_heavy.wav positive\n",
      "9sAOoNazDOXPars5nzlLzOwuYVW2.wav positive\n",
      "vKxrwOtywRNOu6bZQTR8sGj0tbv2_heavy.wav positive\n",
      "y0TkG5sfyhadW3VSct50RTl3HN02_heavy.wav positive\n",
      "uAEOVPr487bFnks4dvytsxJQZP02.wav positive\n",
      "Kj5Pw7GpqlhOhtfYKysgdFZcijG3_heavy.wav positive\n",
      "DqztVX8gWrOi4il3xouSTV4FwyC3_heavy.wav positive\n",
      "xVC8kMuWNme6VSFOvNVT0j21Qw12_heavy.wav positive\n",
      "cLcriOknOebRZSFfeQlcUNYzbZL2_heavy.wav positive\n",
      "6Tn00kNMgrhXRNTtafxIoOoodgm2.wav positive\n",
      "AVuwckF8igNbIhGwa7Ly8nxvIAi2_heavy.wav positive\n",
      "iYM9uJMyO1UoXTo1tc7rXvsI4bm1.wav positive\n",
      "XULw9m5p4Xb2eWMoWDhX0AqRCfB3.wav positive\n",
      "eAH6zemkWAfsP96K8tMyZJIDvgR2_heavy.wav positive\n",
      "dFtGnzYqh1NVAwQUQ3wkysqAe3n1_heavy.wav positive\n",
      "0drfnqVwccT6UmgVLQEuyVglDC23_heavy.wav positive\n",
      "HdrqqQ7ijlPhesMLkVgZlG81nba2.wav positive\n",
      "EuEoeANAhadcy5vzBikn3LxlGKh1.wav positive\n",
      "8PvWScAB6UbnfrkQrpbqLpu7O0z1.wav positive\n",
      "GBwlY1I67YdQ47ceNFdpK87kEr33_heavy.wav positive\n",
      "TaoyZAahOzRoDQRxb0DtDZh8Opa2_heavy.wav positive\n",
      "tFXAov3QpbTvPL6gzCSwAsTSFT93_heavy.wav positive\n",
      "HATVkqrdXhV2eIiwy5iIP7V0bjo2.wav positive\n",
      "ir3jqGSKT2ManVTAAzj6Ew7orBD2.wav positive\n",
      "fxKtohOugAVxds721TRXR8GVmn02.wav positive\n"
     ]
    },
    {
     "name": "stderr",
     "output_type": "stream",
     "text": [
      "/home/viblab/.local/lib/python3.9/site-packages/librosa/core/pitch.py:153: UserWarning: Trying to estimate tuning from empty frequency set.\n",
      "  warnings.warn(\"Trying to estimate tuning from empty frequency set.\")\n",
      "/home/viblab/.local/lib/python3.9/site-packages/librosa/core/pitch.py:153: UserWarning: Trying to estimate tuning from empty frequency set.\n",
      "  warnings.warn(\"Trying to estimate tuning from empty frequency set.\")\n"
     ]
    },
    {
     "name": "stdout",
     "output_type": "stream",
     "text": [
      "CUCqq4q5SQa3fDkpraekej7fNza2.wav positive\n",
      "S0ZhYGoCVfXWMHzPGZ41PvHYiw12.wav positive\n",
      "rR7IyyhZigMCIvfd2q2cjaGAIXY2_heavy.wav positive\n",
      "6kMlitGRc3XF2Nt13Wl3LOs4wMl1_heavy.wav positive\n",
      "aDAVgxAXQOdOakIroRdHwpL867v2.wav positive\n",
      "H9aG9NV6Wae3ATv7xapsyAYdIJy2_heavy.wav positive\n",
      "i0EyWP227GaL7ZQRqCS0iysTxcf2_heavy.wav positive\n",
      "RUZ93kkyD0hJ1v7awXutr6RgF943_heavy.wav positive\n",
      "0nP3dtfFxhMihttAMq1eoho5KaU2.wav positive\n",
      "E3nlERKGBPcSO2PjEDJ6GrRKiy73_heavy.wav positive\n",
      "IjI3eQUHkrYdJSB4nWeXeNoryNl2.wav positive\n",
      "OUFazbHbbtRTQcRP5BWBKzeZpvw1_heavy.wav positive\n",
      "txGfgoOqEuPeMPnrjxaRU8i7XjU2.wav positive\n",
      "G5wWAa7nvkOR9QvfsAt7tsd5qa82.wav positive\n",
      "2tjg2NfgJPaYdgTZRDUBhWm8F133.wav positive\n",
      "IFMid2LmeCTSQAFaL8wTSUg20No2_heavy.wav positive\n",
      "C1h80BY2J5eZgP3UMb4PTJXyKWy2.wav positive\n",
      "EuEoeANAhadcy5vzBikn3LxlGKh1_heavy.wav positive\n",
      "6T43bddKoKfG7MwnJWvrPZSsyrc2.wav positive\n",
      "BDygu23lyUbBq2NlqfzRxGoMm9B2.wav positive\n",
      "lpohIzcDNEg3DR38ku43WHiCkC42_heavy.wav positive\n",
      "7lfdqN3JS8ZUOw42lMsIHbyCajA3_heavy.wav positive\n",
      "B3QbrMswB6RosVMO4OtvlHi73Ec2.wav positive\n",
      "RtRqhfGUUffisj4mpxA9nTYe2cw2_heavy.wav positive\n",
      "OXtf0PsobreM3phUk9HmzPGaGZA3_heavy.wav positive\n",
      "akdaeGnDlhgMKnIjAhpslMiMJO43.wav positive\n",
      "Y0K7dqxP7WWsIjth3NfIHU9ayKO2_heavy.wav positive\n",
      "etg5L3iyQ3fQAyyn4uZ9jYuoUf13.wav positive\n",
      "t0IcY0l4PcU8VicMlC1xC3taL2E2.wav positive\n",
      "OCFaQR2Fa4S8cFiEJE2HueZH0TH3.wav positive\n",
      "quF8xZxqK8NnszkwktXovmZ9fBT2_heavy.wav positive\n",
      "HYGtUoMDukOlfkkQ7rgRPhuKorA3_heavy.wav positive\n",
      "loK2K444HrZUD8Plzr6q3i8y4Xg1_heavy.wav positive\n",
      "Y9vdHTL7XdWJVBGtktKW9gkw7yS2.wav positive\n",
      "7IeLM4Wp0tOmjNfel0c9yK9gYVV2_heavy.wav positive\n",
      "gDBsK8LcY0Om4DujIs4lFSsktWu1.wav positive\n",
      "fnNx5YGGVbZ4H8HtWucxTmQlt7y1.wav positive\n",
      "0KSi2atlmsXNcGMfpDNzIjJSvC23.wav positive\n",
      "JCUp9v6I7uNudJfxbx2MVKIJsn42_heavy.wav positive\n"
     ]
    },
    {
     "name": "stderr",
     "output_type": "stream",
     "text": [
      "/home/viblab/.local/lib/python3.9/site-packages/librosa/core/pitch.py:153: UserWarning: Trying to estimate tuning from empty frequency set.\n",
      "  warnings.warn(\"Trying to estimate tuning from empty frequency set.\")\n",
      "/home/viblab/.local/lib/python3.9/site-packages/librosa/core/pitch.py:153: UserWarning: Trying to estimate tuning from empty frequency set.\n",
      "  warnings.warn(\"Trying to estimate tuning from empty frequency set.\")\n"
     ]
    },
    {
     "name": "stdout",
     "output_type": "stream",
     "text": [
      "BG1rEPoPYKUAHCYVzPrcB3I6VUn2.wav positive\n",
      "aHJPsm6esHeW5apkd8KAFdia9zj2.wav positive\n",
      "ptuwF1pj4ibIoVuZmt4nKb5naiZ2.wav positive\n",
      "EbWP0XeMpnbrTsljro0dOGKIell1_heavy.wav positive\n",
      "Ued1DKV2NkUnzWjJcPMxA6Q261r1_heavy.wav positive\n",
      "ZaeW7vuikQgf7984JVqXYOtUQMs2.wav positive\n",
      "gDBsK8LcY0Om4DujIs4lFSsktWu1_heavy.wav positive\n",
      "M9CdGPOCUFPWV7KnLgvStPgjLrF3_heavy.wav positive\n",
      "GBwlY1I67YdQ47ceNFdpK87kEr33.wav positive\n",
      "RmWwhKI8kjPi5qN9H740rfm0jHA2_heavy.wav positive\n",
      "Fi2lLmV3LHR5brvXs0z1JSKDvnI2.wav positive\n",
      "8JuoYlwoiUgaSSUUKQnB7F7fG5S2_heavy.wav positive\n",
      "KFQ0ksPwkDcLUUjbVBYWGWr9ei62_heavy.wav positive\n",
      "DRoZujDy6CWVFL0UefbHEgCcD2l2.wav positive\n",
      "o8LJfYAChnd5Jv0WVa6Ni7jpHf92.wav positive\n",
      "75OYElXmxdQTQne9breAIqnSo7Z2_heavy.wav positive\n",
      "rB4ewmXSc9P5IPhLffnBasjYU1s2_heavy.wav positive\n",
      "NVzhTN4CXebH2lQVFkBTyl6ue5h2_heavy.wav positive\n",
      "BVcBPtxcv3cqEdIkhjM6YenlWtb2.wav positive\n",
      "46bIeJk9J8XrD4ND2IPRMQzjJBt2_heavy.wav positive\n",
      "HK3FfcI5SyXc7CtQMaQiMQ2ia1n2_heavy.wav positive\n",
      "saaw7uHQJQesN9AmgKyXNFAaXB82.wav positive\n",
      "etg5L3iyQ3fQAyyn4uZ9jYuoUf13_heavy.wav positive\n",
      "g8Ytx04UPzQxX4RH4ADltVtHsuO2_heavy.wav positive\n",
      "Tvdak0zflIVWdvWsNj7l9Ur0k3m1_heavy.wav positive\n",
      "zbIXdZwHjgb2uDtKqIgcSnr7pyD2_heavy.wav positive\n",
      "2oEWhawfKmanWlvgQfkdkmgoJ9k1.wav positive\n",
      "0drfnqVwccT6UmgVLQEuyVglDC23.wav positive\n",
      "ygiPwZYsKFetOejhxWXB6rKSHAf2.wav positive\n",
      "Eg87yvzTcTOSRHlObK3w0ju4Ej82.wav positive\n",
      "cGsyomvRhzLiAzPk98QyHu8988q2_heavy.wav positive\n",
      "aDAVgxAXQOdOakIroRdHwpL867v2_heavy.wav positive\n",
      "D9EEvq1ksqN6PEWzIAy7Mu5e8jJ3_heavy.wav positive\n",
      "YRiIODBG3RXPbDttwztMhsXg1rv2.wav positive\n",
      "gFmySpqfQ7YrYqMrmrMPO7AzmBm1_heavy.wav positive\n",
      "W42AKc6SZlNz1NOBAJrCpa3Io0E2_heavy.wav positive\n",
      "AutXsDVtEcVH9ZQ58NqDunDcqZv1.wav positive\n",
      "YpViFd6bZEaMT5i5DUd18Qh6NQI3.wav positive\n",
      "8JuoYlwoiUgaSSUUKQnB7F7fG5S2.wav positive\n",
      "IimA0GnOm7ZR4nEr8k0kG4eaR7A3.wav positive\n",
      "IgwjLDmZRyTv03Mq7VdUYL6O5fV2_heavy.wav positive\n",
      "hCix5UmABWZVW40elRFgkGabPa52.wav positive\n",
      "rjCqyoFoReUh6bjdZ7DTaRZLpt13.wav positive\n",
      "YA7NFQZSqwUZUJGPAh5tRe22woB2_heavy.wav positive\n",
      "dDvHec65MWh2REqq5mABZJvmlXI3_heavy.wav positive\n",
      "OXtf0PsobreM3phUk9HmzPGaGZA3.wav positive\n",
      "tFXAov3QpbTvPL6gzCSwAsTSFT93.wav positive\n",
      "AutXsDVtEcVH9ZQ58NqDunDcqZv1_heavy.wav positive\n",
      "8UdvlhiJqYY2AWjGtBu0Vd3SSTP2_heavy.wav positive\n",
      "Fx2gbIoPlJXrK5OD8FMeepOGlLa2.wav positive\n",
      "qwN4ODyxmhSTFKJvyukaejL3Pa53.wav positive\n",
      "UZKdFMia0JWykTWi6T2PoXmS3nt2_heavy.wav positive\n",
      "ADUIall6exYvek5ktU2P6pHWnza2.wav positive\n",
      "Zmjv6hT2Q1VfJhGdGh9VkGmpHL03.wav positive\n",
      "MtXoTPXYhUaIX0skM8V3roaz2B22.wav positive\n",
      "RmWwhKI8kjPi5qN9H740rfm0jHA2.wav positive\n",
      "BfkSf0P6WcOlQW1jfLuLKEPusF82_heavy.wav positive\n",
      "FC4RKq4W8uRrjmin8n2BXC4SrnU2_heavy.wav positive\n",
      "1aPZz1jeoBcw9B046d504mn4cq82_heavy.wav positive\n",
      "YKF05wLba6MKfUPRzQLyMYeCpgr2_heavy.wav positive\n",
      "GKupow0m24SgP8whGGJBZrPbS9k2_heavy.wav positive\n"
     ]
    },
    {
     "name": "stderr",
     "output_type": "stream",
     "text": [
      "/home/viblab/.local/lib/python3.9/site-packages/librosa/core/pitch.py:153: UserWarning: Trying to estimate tuning from empty frequency set.\n",
      "  warnings.warn(\"Trying to estimate tuning from empty frequency set.\")\n",
      "/home/viblab/.local/lib/python3.9/site-packages/librosa/core/pitch.py:153: UserWarning: Trying to estimate tuning from empty frequency set.\n",
      "  warnings.warn(\"Trying to estimate tuning from empty frequency set.\")\n"
     ]
    },
    {
     "name": "stdout",
     "output_type": "stream",
     "text": [
      "AWMx6dOBlFPdjWa86wkLjsGZ6by2.wav positive\n",
      "HK3FfcI5SyXc7CtQMaQiMQ2ia1n2.wav positive\n",
      "6ZovArshO1MTe2tpxFWrHmORa2R2_heavy.wav positive\n",
      "FC4RKq4W8uRrjmin8n2BXC4SrnU2.wav positive\n",
      "zbIXdZwHjgb2uDtKqIgcSnr7pyD2.wav positive\n",
      "x89c2X4Q5LdiRvU9XWVkU1XXLE13.wav positive\n",
      "S0ZhYGoCVfXWMHzPGZ41PvHYiw12_heavy.wav positive\n",
      "4bnHQCj8tnSEx37AR5HiQAH2vB32_heavy.wav positive\n",
      "M43FaHpw1ScIi97eG6LBx2fBaJ92.wav positive\n",
      "IimA0GnOm7ZR4nEr8k0kG4eaR7A3_heavy.wav positive\n",
      "d7w3B2YcJ3TLx58ryhiASEtwaAu1.wav positive\n",
      "ffrNAGEUQEfL39VAP9Eau1a3UUX2.wav positive\n",
      "a96ovf71KqfbVIG8ZF5m6DaRE9Z2.wav positive\n",
      "0Js6ZUZQ9NUnu568Fh7B6mZ1R8o1_heavy.wav positive\n"
     ]
    },
    {
     "name": "stderr",
     "output_type": "stream",
     "text": [
      "/home/viblab/.local/lib/python3.9/site-packages/librosa/core/pitch.py:153: UserWarning: Trying to estimate tuning from empty frequency set.\n",
      "  warnings.warn(\"Trying to estimate tuning from empty frequency set.\")\n",
      "/home/viblab/.local/lib/python3.9/site-packages/librosa/core/pitch.py:153: UserWarning: Trying to estimate tuning from empty frequency set.\n",
      "  warnings.warn(\"Trying to estimate tuning from empty frequency set.\")\n"
     ]
    },
    {
     "name": "stdout",
     "output_type": "stream",
     "text": [
      "saaw7uHQJQesN9AmgKyXNFAaXB82_heavy.wav positive\n",
      "8Vz9jwmadkRfjbwrHwGZ2MsUtcz1_heavy.wav positive\n",
      "nSVDxo9HNmPPggf6WSuAGg9XU6p1_heavy.wav positive\n",
      "Y7RB11Ha8VNbBDjGoYVuIxnpYKA2_heavy.wav positive\n",
      "fX1IzMBBKwXISMTgnZUFQa6o5Rh2_heavy.wav positive\n",
      "31euepHD0deCxTd2nJ1wzXCk5EF3_heavy.wav positive\n",
      "YHHZYBxPHsUWYITjtMRAixs3DX42.wav positive\n",
      "YE3Hs5yD9BeIzT8cctZEBKGJIXN2_heavy.wav positive\n"
     ]
    },
    {
     "name": "stderr",
     "output_type": "stream",
     "text": [
      "/home/viblab/.local/lib/python3.9/site-packages/librosa/core/pitch.py:153: UserWarning: Trying to estimate tuning from empty frequency set.\n",
      "  warnings.warn(\"Trying to estimate tuning from empty frequency set.\")\n",
      "/home/viblab/.local/lib/python3.9/site-packages/librosa/core/pitch.py:153: UserWarning: Trying to estimate tuning from empty frequency set.\n",
      "  warnings.warn(\"Trying to estimate tuning from empty frequency set.\")\n"
     ]
    },
    {
     "name": "stdout",
     "output_type": "stream",
     "text": [
      "LTk52ATmpEVOJSTjuNtEZHJx6943.wav positive\n",
      "JUTgBmtV3PabkG7XQANi7iHlUBy2_heavy.wav positive\n",
      "C1jXleNkfzaI6sbPJL883EGGRLj2.wav positive\n",
      "bx564wHvi9d0HyJTtdi0haZuU493.wav positive\n",
      "Cd7fkliPM2ZUM1skytvoU2vD8jK2.wav positive\n",
      "9sAOoNazDOXPars5nzlLzOwuYVW2_heavy.wav positive\n",
      "2j5I1dnLtBN8hyD149k2dZ19foE3_heavy.wav positive\n",
      "ebtxeRmhQhQ78ZtgSjN7g637e6v1.wav positive\n",
      "OaOT17qcMJhtsIymSrSJh12d4iE2_heavy.wav positive\n",
      "vXpopcJJEugOInwUtJkEnHgoVhk1_heavy.wav positive\n",
      "RRbKCE4xfybmt8BOImiVxHfbFjO2.wav positive\n",
      "VLrOagtGVFYxWiEnMVFn1BnSWHM2_heavy.wav positive\n",
      "n4iInpDT2BR5xr3Y6yNqOxvvFUm2_heavy.wav positive\n",
      "MwT3St0uIWhMDTJwcQIRmcFUwk62_heavy.wav positive\n",
      "EnEYPaPTh9SeTTD55fxFRNPItqI2_heavy.wav positive\n",
      "DGWrVMD5yZc5jcjMzblC4kaBLmK2_heavy.wav positive\n",
      "P25gmf6a64UuD7XtIDeL9VQMzXb2.wav positive\n",
      "1NQvmLMrJyTwrmbNwAm6wDT4wpz2_heavy.wav positive\n"
     ]
    },
    {
     "name": "stderr",
     "output_type": "stream",
     "text": [
      "/home/viblab/.local/lib/python3.9/site-packages/librosa/core/pitch.py:153: UserWarning: Trying to estimate tuning from empty frequency set.\n",
      "  warnings.warn(\"Trying to estimate tuning from empty frequency set.\")\n",
      "/home/viblab/.local/lib/python3.9/site-packages/librosa/core/pitch.py:153: UserWarning: Trying to estimate tuning from empty frequency set.\n",
      "  warnings.warn(\"Trying to estimate tuning from empty frequency set.\")\n"
     ]
    },
    {
     "name": "stdout",
     "output_type": "stream",
     "text": [
      "1NQvmLMrJyTwrmbNwAm6wDT4wpz2.wav positive\n"
     ]
    },
    {
     "name": "stderr",
     "output_type": "stream",
     "text": [
      "/home/viblab/.local/lib/python3.9/site-packages/librosa/core/pitch.py:153: UserWarning: Trying to estimate tuning from empty frequency set.\n",
      "  warnings.warn(\"Trying to estimate tuning from empty frequency set.\")\n",
      "/home/viblab/.local/lib/python3.9/site-packages/librosa/core/pitch.py:153: UserWarning: Trying to estimate tuning from empty frequency set.\n",
      "  warnings.warn(\"Trying to estimate tuning from empty frequency set.\")\n"
     ]
    },
    {
     "name": "stdout",
     "output_type": "stream",
     "text": [
      "Ny1eG1jTBwWIudUg5hGhCchHKXC2_heavy.wav positive\n",
      "Y9vdHTL7XdWJVBGtktKW9gkw7yS2_heavy.wav positive\n",
      "2vH4QMrMaMMm5oZYScY0b36Z8MC3_heavy.wav positive\n",
      "Zmjv6hT2Q1VfJhGdGh9VkGmpHL03_heavy.wav positive\n",
      "QjBZv868nydJzk0ZzwgKDHSG6Q82_heavy.wav positive\n",
      "lN6Y7317RFS0apVdnffs95djXIj1.wav positive\n",
      "ZIzrdWNQK1Xhn6o6jrzSVBMdphp2.wav positive\n",
      "3FC5FIdqx5S5mB69VSxhduD1q0H3.wav positive\n",
      "9hXEs9OejdVxG6JJGCyKQpqVvy43.wav positive\n",
      "IHOunHyVaoO7AR6Z0QJgIa31BvS2.wav positive\n",
      "eR2gfqeYAjdgzpwtCDXUqts9yIc2_heavy.wav positive\n"
     ]
    },
    {
     "name": "stderr",
     "output_type": "stream",
     "text": [
      "/home/viblab/.local/lib/python3.9/site-packages/librosa/core/pitch.py:153: UserWarning: Trying to estimate tuning from empty frequency set.\n",
      "  warnings.warn(\"Trying to estimate tuning from empty frequency set.\")\n",
      "/home/viblab/.local/lib/python3.9/site-packages/librosa/core/pitch.py:153: UserWarning: Trying to estimate tuning from empty frequency set.\n",
      "  warnings.warn(\"Trying to estimate tuning from empty frequency set.\")\n"
     ]
    },
    {
     "name": "stdout",
     "output_type": "stream",
     "text": [
      "joORHxc0iCTwgP7Uh5SM5N7rnnf2.wav positive\n",
      "E4JCh6HgOVRX04QDLVotx8SgXVp1_heavy.wav positive\n",
      "46bIeJk9J8XrD4ND2IPRMQzjJBt2.wav positive\n",
      "uRtWGtWi3eVHJ0JhF0ycETkX0ms2_heavy.wav positive\n",
      "MF5f99sONpcYl5fYsVzh32XwSmm2.wav positive\n",
      "2j5I1dnLtBN8hyD149k2dZ19foE3.wav positive\n",
      "Ny1eG1jTBwWIudUg5hGhCchHKXC2.wav positive\n",
      "RUZ93kkyD0hJ1v7awXutr6RgF943.wav positive\n",
      "0sIeyohqXMOGTqPA7RiiuyJ3AOt2.wav positive\n",
      "BRVYzpZ9X1TGGLnjYEHIn3VEJ5j1.wav positive\n",
      "0KSi2atlmsXNcGMfpDNzIjJSvC23_heavy.wav positive\n",
      "b7mMUQm5bObj1jwGFaNyaR07pt83_heavy.wav positive\n",
      "JsTOkdqknPeCRi6i63Cfu1ciuuh2.wav positive\n",
      "75OYElXmxdQTQne9breAIqnSo7Z2.wav positive\n",
      "ZaeW7vuikQgf7984JVqXYOtUQMs2_heavy.wav positive\n",
      "tkM8UQsV2hVGrkSwelg3AyFiXoy2.wav positive\n",
      "dFtGnzYqh1NVAwQUQ3wkysqAe3n1.wav positive\n",
      "lQ1cBTWdazLLa7xWAiSCOmZ709s1.wav positive\n",
      "kBFDtvAVY9QYbi7YHYgd7tNpsWx1.wav positive\n",
      "xce3uTKiuNSSnnAWLJMorxTjHzI2_heavy.wav positive\n",
      "UZKdFMia0JWykTWi6T2PoXmS3nt2.wav positive\n",
      "yL9QW3T2VueXfL3yvsmXsM2hL4v1_heavy.wav positive\n",
      "08tlSbvXpAggZavIGW994adhh1m1.wav positive\n",
      "6Tn00kNMgrhXRNTtafxIoOoodgm2_heavy.wav positive\n",
      "cQEUPCFkSBfwuTsWap02ban51g82.wav positive\n",
      "9qTEkN9zyqc9zYKt4qpsgatdTLo2_heavy.wav positive\n",
      "C1h80BY2J5eZgP3UMb4PTJXyKWy2_heavy.wav positive\n",
      "4qLi2eWkYGasKhmmPPiyFAGUqBr2.wav positive\n",
      "56HPUhHPM9UEksAVgCDbQZcxsuZ2.wav positive\n",
      "NAL6D2MCyQbiZUGtdQixl39IH3X2_heavy.wav positive\n",
      "UKrkCs1fdsVnZ7EfqWJCRxvIyZ22.wav positive\n"
     ]
    },
    {
     "name": "stderr",
     "output_type": "stream",
     "text": [
      "/home/viblab/.local/lib/python3.9/site-packages/librosa/core/pitch.py:153: UserWarning: Trying to estimate tuning from empty frequency set.\n",
      "  warnings.warn(\"Trying to estimate tuning from empty frequency set.\")\n",
      "/home/viblab/.local/lib/python3.9/site-packages/librosa/core/pitch.py:153: UserWarning: Trying to estimate tuning from empty frequency set.\n",
      "  warnings.warn(\"Trying to estimate tuning from empty frequency set.\")\n"
     ]
    },
    {
     "name": "stdout",
     "output_type": "stream",
     "text": [
      "CkBv7ZLYRIcugw93mPtPkbWxC412.wav positive\n",
      "zM5GsorprLYElGQ3uJwnU0g0Fwr1_heavy.wav positive\n",
      "lpohIzcDNEg3DR38ku43WHiCkC42.wav positive\n",
      "lN6Y7317RFS0apVdnffs95djXIj1_heavy.wav positive\n",
      "dvRr97gwv7Y34YqaccErnWcYRY53_heavy.wav positive\n",
      "h5e7Ff7hWON2RPULdDCxad7xpGv2_heavy.wav positive\n",
      "imaxvQ1daYhtvhpulzgQy4t6VMl2_heavy.wav positive\n",
      "qJvoAC408vP9fwBWQUAHHxKI39k1.wav positive\n",
      "333NjqA1TfZJuICEdXSkPhVz0LA3.wav positive\n",
      "XwPxN3JASwgk13QZUviNawM7k0v1.wav positive\n",
      "Qcliznd3z1VdWmJOZh9nvlstTYv1.wav positive\n",
      "wEMYsNrzUvXhlQHYnFAF6U5a0Py1_heavy.wav positive\n",
      "jyxqyMzm2IXXaETlfHjV1K6ju492.wav positive\n",
      "2tjg2NfgJPaYdgTZRDUBhWm8F133_heavy.wav positive\n",
      "QjBZv868nydJzk0ZzwgKDHSG6Q82.wav positive\n",
      "XFlqN1sDBKNXyuORhVagkJnr5V33.wav positive\n",
      "cLcriOknOebRZSFfeQlcUNYzbZL2.wav positive\n",
      "khBKxUEe1rQxPqpo4pGylAZjsEt1_heavy.wav positive\n",
      "Cd7fkliPM2ZUM1skytvoU2vD8jK2_heavy.wav positive\n",
      "YHHZYBxPHsUWYITjtMRAixs3DX42_heavy.wav positive\n",
      "euld60aqc2OtnNoKYx9P4WDzVM92_heavy.wav positive\n",
      "05acPS4aRGfvuOfku11Za8zve8i2.wav positive\n",
      "T190nKNqKoPk02FHlHYJTBDUnPA2_heavy.wav positive\n",
      "9OS5kJE2owbo0961Ni8cqM4KJL52_heavy.wav positive\n",
      "BTq6ZzkM2pdcUmgtOHVP4GG5wvZ2.wav positive\n",
      "AVuwckF8igNbIhGwa7Ly8nxvIAi2.wav positive\n",
      "H7CA9UCGWhXOL2ycjqtRBHNXMsk1_heavy.wav positive\n",
      "SxFxlGEvukdQzz8w08BlXJMR5E52_heavy.wav positive\n",
      "KFQ0ksPwkDcLUUjbVBYWGWr9ei62.wav positive\n",
      "6BT19A6gAlNjbtbe3EdgKQc4kkH3_heavy.wav positive\n",
      "56HPUhHPM9UEksAVgCDbQZcxsuZ2_heavy.wav positive\n",
      "imaxvQ1daYhtvhpulzgQy4t6VMl2.wav positive\n",
      "1PhqsVP6EhPzs1zx9XUsyj7nm823_heavy.wav positive\n",
      "LPP0njvvovO1Wi3wq9IcMxJVyau1.wav positive\n",
      "2p5hBaoMtUZmVVEH3uJLvGbe9cB3_heavy.wav positive\n",
      "Uju7jUdiN7VA8j1dI3MQoktzzIV2_heavy.wav positive\n",
      "nC130uADRFZF5vae8qZt2qmpbpi1_heavy.wav positive\n",
      "qwN4ODyxmhSTFKJvyukaejL3Pa53_heavy.wav positive\n",
      "RRbKCE4xfybmt8BOImiVxHfbFjO2_heavy.wav positive\n",
      "6yut3EO9tXPCCY8O0VDWA5PCWYN2_heavy.wav positive\n",
      "P25gmf6a64UuD7XtIDeL9VQMzXb2_heavy.wav positive\n",
      "ELTqUBJoR4MPBzMZH3yL6yLMc283_heavy.wav positive\n",
      "G5kUP2QOpVSyjK6Q9rzblmTU9vW2.wav positive\n",
      "UhYCvhOCn2erbzJc5faN4ek3D1I2_heavy.wav positive\n",
      "dRk3UOvfOMXyuSEddsNcpIqqN8u2_heavy.wav positive\n",
      "oPLTYiEHMFTuruwTXpbRPnlz2mr1_heavy.wav positive\n",
      "gwg5V9vEkMYvDqW38tY5b82qYoi2.wav positive\n",
      "b7mMUQm5bObj1jwGFaNyaR07pt83.wav positive\n",
      "RcKXXiJlW3ZJC73zJPmEsrxSJVV2_heavy.wav positive\n",
      "kJgpo7TKalNlTkZBRs2KHyPc4us1_heavy.wav positive\n",
      "BG1rEPoPYKUAHCYVzPrcB3I6VUn2_heavy.wav positive\n",
      "M9CdGPOCUFPWV7KnLgvStPgjLrF3.wav positive\n",
      "4sjgUTKdPXcgwHbPcqEtB6WA7XB3.wav positive\n",
      "hVZQcrz6cfaOMfL3jpRqJBUiumF2.wav positive\n",
      "TLuM4QmyP5QZyFdkcbXWeNhWlsj1.wav positive\n",
      "333NjqA1TfZJuICEdXSkPhVz0LA3_heavy.wav positive\n",
      "vFBX63V7KXfdR1mQPqaL5I33Yhb2.wav positive\n",
      "8Ul16g4L9nP9lcp16BKh1X6cfhb2_heavy.wav positive\n",
      "gcBPC2UzklTmymsRwuBcQlCsb7k2_heavy.wav positive\n",
      "MF5f99sONpcYl5fYsVzh32XwSmm2_heavy.wav positive\n",
      "OSva8KJZQuZDquBrWQRFdEOtKFc2.wav positive\n",
      "qyoosYbdlucXoQ1cKkN9wzV6vru2.wav positive\n",
      "OUFazbHbbtRTQcRP5BWBKzeZpvw1.wav positive\n",
      "ymX9t6DWDHZTs28MODDSxDaOj4n2.wav positive\n",
      "40NRJEGpU9Vg2IFXcuqCQLiKLVz1.wav positive\n",
      "ffXE7VADnca3RAVTmQd60PrIRfk2_heavy.wav positive\n",
      "ByJgkN2PApVkDJfUN5wp1gUuxt52_heavy.wav positive\n",
      "MBs72wy9MATqbupZbIaYYCzj7dg1.wav positive\n",
      "nsKPMVQ77PdvSk4XO3Ri21f1YeH2.wav positive\n",
      "Eg9ruIHboWO7h59MkqSHGAjgZyz1_heavy.wav positive\n",
      "BVcBPtxcv3cqEdIkhjM6YenlWtb2_heavy.wav positive\n",
      "Kj5Pw7GpqlhOhtfYKysgdFZcijG3.wav positive\n",
      "TkOj2GRygbe2J9HxfMWk02A4e7v1_heavy.wav positive\n",
      "kJgpo7TKalNlTkZBRs2KHyPc4us1.wav positive\n",
      "JsTOkdqknPeCRi6i63Cfu1ciuuh2_heavy.wav positive\n",
      "00xKcQMmcAhX8CODgBBLOe7Dm0T2.wav positive\n",
      "XpMEOhbTdsSYUjo2zsmVjnVOsoK2_heavy.wav positive\n",
      "cGsyomvRhzLiAzPk98QyHu8988q2.wav positive\n",
      "A31HJzr8ryMTgwJihXSI9PCot4j1_heavy.wav positive\n",
      "MaJ7xxBo22SHULIdQjnWzrc6uCf1_heavy.wav positive\n",
      "jQDuUZiOBuOuEfF28lMPmnCV0OO2.wav positive\n",
      "yL9QW3T2VueXfL3yvsmXsM2hL4v1.wav positive\n",
      "6yut3EO9tXPCCY8O0VDWA5PCWYN2.wav positive\n",
      "8Vz9jwmadkRfjbwrHwGZ2MsUtcz1.wav positive\n",
      "ffXE7VADnca3RAVTmQd60PrIRfk2.wav positive\n",
      "qyoosYbdlucXoQ1cKkN9wzV6vru2_heavy.wav positive\n",
      "lVHnQ9UNkAYmjNm7wL885LzpsOk2.wav positive\n",
      "8UdvlhiJqYY2AWjGtBu0Vd3SSTP2.wav positive\n",
      "gpcoorcyfuXQZxcUFTxthUKOua03.wav positive\n",
      "o8LJfYAChnd5Jv0WVa6Ni7jpHf92_heavy.wav positive\n",
      "iZa9QuNqinWMeMTdwFstfYRpw4J3.wav positive\n",
      "foSqAW8uRvWn3SsriOdFCLpNKY13_heavy.wav positive\n",
      "lTIRUd1DocXniRDsCNkgaWMAwjI2_heavy.wav positive\n",
      "0pqMnxeSybfQnGV9nHW3P69FSzE3.wav positive\n",
      "ZaTgRbDWn9d1MMPanam0NCupVCl1_heavy.wav positive\n",
      "QwS7dzEJ48f6hh4eQny6ywozazg2.wav positive\n",
      "Qcliznd3z1VdWmJOZh9nvlstTYv1_heavy.wav positive\n",
      "139P5XQHCAPJlxTo53QLd6FviL82_heavy.wav positive\n",
      "NY6jgqIgJtUPBYpsbpO3qhmpdft1.wav positive\n",
      "vQA8WvDgUxM5wRLMuY92tqJCZgT2_heavy.wav positive\n",
      "gpreuyMvtSa8HJhGaliJ6E1Hwx53.wav positive\n",
      "yHDFkOJHVZTgJAab31hQ0cq9rUb2.wav positive\n",
      "pi4VnHGXBRXiKcAd1ukYE0d7As42.wav positive\n",
      "9Wkd6QJdpBNEosMpzYhFwZjBJX92_heavy.wav positive\n",
      "T190nKNqKoPk02FHlHYJTBDUnPA2.wav positive\n",
      "vKxrwOtywRNOu6bZQTR8sGj0tbv2.wav positive\n",
      "SmtHDspJwGYS9FYtjXd1IwsYRZc2_heavy.wav positive\n",
      "FJJZziCGb0bv5h7JlSKaOSXDdOH2_heavy.wav positive\n",
      "BTq6ZzkM2pdcUmgtOHVP4GG5wvZ2_heavy.wav positive\n",
      "LTk52ATmpEVOJSTjuNtEZHJx6943_heavy.wav positive\n",
      "9ES7TwETrndwNvdJMCShXkXT7qw1_heavy.wav positive\n",
      "h4T9i8JwCEbfw4hzNowalt393Wp1.wav positive\n",
      "MBs72wy9MATqbupZbIaYYCzj7dg1_heavy.wav positive\n",
      "IkdWn0v3dAU9eWzsf3rY8Dwgf0V2_heavy.wav positive\n",
      "D9EEvq1ksqN6PEWzIAy7Mu5e8jJ3.wav positive\n",
      "2lsppspH44WH3Scc1ojisHaXJzp1.wav positive\n",
      "SxFxlGEvukdQzz8w08BlXJMR5E52.wav positive\n",
      "padXEGczMRRKmLRVc68rEKI142B3.wav positive\n",
      "gwg5V9vEkMYvDqW38tY5b82qYoi2_heavy.wav positive\n",
      "u4k3fup3JdfVBjA86vjrMVth3063.wav positive\n",
      "owZvvdKAOXPqHD3yXUpkORYsV0H3_heavy.wav positive\n",
      "zjVy4fN2ICMeFuBCFztx80kVtU32_heavy.wav positive\n",
      "ZpsUydPUXygszeJSVtTFjbsqoNQ2_heavy.wav positive\n",
      "3qA9Ym3caTbMsegKE0yUvLdapHi1.wav positive\n",
      "PkfBnCa4dFYuRjEZpsvTAerF2fS2.wav positive\n",
      "dRk3UOvfOMXyuSEddsNcpIqqN8u2.wav positive\n",
      "xRTpzeZwMiQaC5YCnlXZeDwgcvL2.wav positive\n",
      "WskcfVs2drN8OfH5xhpJUzm8bA02_heavy.wav positive\n",
      "A58WTjeBHaSeuC3PPfLPo3RiEgt2.wav positive\n"
     ]
    },
    {
     "name": "stderr",
     "output_type": "stream",
     "text": [
      "/home/viblab/.local/lib/python3.9/site-packages/librosa/core/pitch.py:153: UserWarning: Trying to estimate tuning from empty frequency set.\n",
      "  warnings.warn(\"Trying to estimate tuning from empty frequency set.\")\n",
      "/home/viblab/.local/lib/python3.9/site-packages/librosa/core/pitch.py:153: UserWarning: Trying to estimate tuning from empty frequency set.\n",
      "  warnings.warn(\"Trying to estimate tuning from empty frequency set.\")\n"
     ]
    },
    {
     "name": "stdout",
     "output_type": "stream",
     "text": [
      "iOx0zPyPiMZjCWXuf3RGu8HKq8k1.wav positive\n",
      "0MVnLUuWMBdzmvRDgLvi4TRl4Zf1_heavy.wav positive\n",
      "ZpsUydPUXygszeJSVtTFjbsqoNQ2.wav positive\n",
      "AVbhXf3KiUf9ZmkjvWzDOxevAPH2_heavy.wav positive\n",
      "Ojcz6oRGwLdnOTR7ptVULuG4s8b2_heavy.wav positive\n",
      "PoxsEOv7MmbHaY4qT3wNcK8GWrV2_heavy.wav positive\n",
      "1e8i6Q47ewbzrTiKqIeOLEvPv2Z2_heavy.wav positive\n",
      "BZHvK60v1LY9cBfLvYkBkJxdfNz2.wav positive\n",
      "dvRr97gwv7Y34YqaccErnWcYRY53.wav positive\n",
      "nRH1xhm8zjOVzAPYuBMgGMQtes22.wav positive\n",
      "SmtHDspJwGYS9FYtjXd1IwsYRZc2.wav positive\n",
      "H7CA9UCGWhXOL2ycjqtRBHNXMsk1.wav positive\n",
      "kcQhvQN6eeS8DUCNmpADYBr33h93.wav positive\n",
      "ZzKpUtFGzsVEK7E1wsVGRftKdx93_heavy.wav positive\n",
      "poQ11Wmw16VIjjkc6dAPeAWzf962.wav positive\n",
      "QBWDBFqhumZl3w2sxMa87Qm8bVt1.wav positive\n",
      "Okal6T0guFZi4Slm4k4MEyuCnyv1.wav positive\n",
      "E3nlERKGBPcSO2PjEDJ6GrRKiy73.wav positive\n",
      "jAP3y51Zjcd3gkB80PuRAfSXTGa2_heavy.wav positive\n",
      "DqztVX8gWrOi4il3xouSTV4FwyC3.wav positive\n",
      "TeWit59ewCYq9lQyAu8gAdUoqQc2_heavy.wav positive\n",
      "XjrvY8BduPbProBlAHGDHpD2iPa2_heavy.wav positive\n",
      "OaOT17qcMJhtsIymSrSJh12d4iE2.wav positive\n",
      "zGjGkKCAjkdA9S3aSreocxkWf0C2_heavy.wav positive\n",
      "h5e7Ff7hWON2RPULdDCxad7xpGv2.wav positive\n",
      "WW9oVXsc3XdK0oO5RdE6WiQcz4k2_heavy.wav positive\n",
      "4SjSzRW7o2P3lHyxHBfNRfooMun2_heavy.wav positive\n",
      "az5zELVN7ObicxGrBLMoX8ki1LF2_heavy.wav positive\n",
      "iOx0zPyPiMZjCWXuf3RGu8HKq8k1_heavy.wav positive\n",
      "u4k3fup3JdfVBjA86vjrMVth3063_heavy.wav positive\n",
      "reAwzcyQUkglluwsQnjzUymZ3f02.wav positive\n",
      "VFeVSfoV7pM9kzFjHMA0R4rs3XB2_heavy.wav positive\n",
      "0nP3dtfFxhMihttAMq1eoho5KaU2_heavy.wav positive\n",
      "BT453L7uDzL5IH0BOlDRJhWZWEL2.wav positive\n",
      "hLVaY0Dox1bLCTAqoq0wKKOqBjc2_heavy.wav positive\n",
      "t0IcY0l4PcU8VicMlC1xC3taL2E2_heavy.wav positive\n",
      "HS29AHf2AIhz8129o1BTxPfaFPT2_heavy.wav positive\n",
      "iS29Ewab4XQHypUcZLygL7AYH6J2.wav positive\n",
      "TQCxi7zzXCTlowvfaJyctxGYNUx1.wav positive\n",
      "MwT3St0uIWhMDTJwcQIRmcFUwk62.wav positive\n",
      "ag9tjfqb9jVJmaWz8GnbBxsuKm92_heavy.wav positive\n",
      "2p5hBaoMtUZmVVEH3uJLvGbe9cB3.wav positive\n",
      "iaLzL5BAVHXg0Ng0Phw6WMZHEkg2.wav positive\n",
      "wT7dq6w2AogoT6LyFNeKDhNSpzN2_heavy.wav positive\n",
      "kSpAg8AzirdsL3U6KOWUFDj0pny1.wav positive\n",
      "FJJZziCGb0bv5h7JlSKaOSXDdOH2.wav positive\n",
      "ozsqDaVIN5V2T3sCtOfpBxQm3IA2.wav positive\n",
      "Tpz3FMkc1NPmXLufylt9YVf9NQG3_heavy.wav positive\n",
      "xH2X6KXzfefgZFURY27gKT30ysR2.wav positive\n",
      "8Ul16g4L9nP9lcp16BKh1X6cfhb2.wav positive\n",
      "poQ11Wmw16VIjjkc6dAPeAWzf962_heavy.wav positive\n",
      "NdKb06TNBJf7YHQwfJ9O6eT7fP72_heavy.wav positive\n",
      "bH6WQVvClVRDer6iOFvaGiz0luf1_heavy.wav positive\n",
      "fnNx5YGGVbZ4H8HtWucxTmQlt7y1_heavy.wav positive\n",
      "h5dpLhaJtJbFGAGIaxq3z2KYv1u1.wav positive\n",
      "TQCxi7zzXCTlowvfaJyctxGYNUx1_heavy.wav positive\n",
      "HS29AHf2AIhz8129o1BTxPfaFPT2.wav positive\n",
      "gpcoorcyfuXQZxcUFTxthUKOua03_heavy.wav positive\n",
      "pTWb2MrlwEVwkDAQkOFb1uh5Ddy2.wav positive\n",
      "KcO2p01LdYga7563y95BkKII9Dh1.wav positive\n",
      "joORHxc0iCTwgP7Uh5SM5N7rnnf2_heavy.wav positive\n",
      "M43FaHpw1ScIi97eG6LBx2fBaJ92_heavy.wav positive\n",
      "kAYxLXdLuqVZoyETBSaa7OKurtb2.wav positive\n",
      "xRTpzeZwMiQaC5YCnlXZeDwgcvL2_heavy.wav positive\n",
      "GoGf76VxSgOiEBDUkcP7LONacII2.wav positive\n",
      "cRKKIIXiXQUgy3HHRhOoXl3Cfn93_heavy.wav positive\n",
      "foSqAW8uRvWn3SsriOdFCLpNKY13.wav positive\n",
      "BVDJ00JbBEeF6oAOYJzebbGLlGY2.wav positive\n",
      "gxbBHDQWiSWdAnKyqT0BMuH9T2k1_heavy.wav positive\n",
      "jQDuUZiOBuOuEfF28lMPmnCV0OO2_heavy.wav positive\n",
      "dQEgRb1WIAOmomgTx4amrxbQ2513.wav positive\n",
      "d6tJkKV7x1TFBe8WNnLhvLuoXgd2.wav positive\n",
      "zGjGkKCAjkdA9S3aSreocxkWf0C2.wav positive\n",
      "8EVaH2QxukMhhg0ALCubXVa3Bsl2_heavy.wav positive\n",
      "MtXoTPXYhUaIX0skM8V3roaz2B22_heavy.wav positive\n",
      "PSMPpfYMQ0MPLFeOAbb43DrmiNm2_heavy.wav positive\n",
      "7IeLM4Wp0tOmjNfel0c9yK9gYVV2.wav positive\n",
      "dpA0EeRrtJUeKJjEuf7BL0AeTJZ2_heavy.wav positive\n",
      "6ZovArshO1MTe2tpxFWrHmORa2R2.wav positive\n",
      "vFBX63V7KXfdR1mQPqaL5I33Yhb2_heavy.wav positive\n",
      "xgdd8l7OfrMOkvrskW5s6fxk3mg2_heavy.wav positive\n",
      "4ySGp3wKh0dbtEap33yRsDv3LE73.wav positive\n",
      "tDjXrO1dI4O35JJXPL3ihLvnAzl1_heavy.wav positive\n"
     ]
    }
   ],
   "source": [
    "img_coswara = []\n",
    "label_coswara = []\n",
    "filename_coswara = []\n",
    "\n",
    "to_hot_one = {'positive':0, 'negative':1}\n",
    "\n",
    "for index,row in df_coswara.iterrows():\n",
    "    name = row['filename']\n",
    "    label = row['label']\n",
    "    filename = os.path.join(dataset,name)\n",
    "    scaler = MinMaxScaler()\n",
    "    \n",
    "    try:\n",
    "        print(name, label)\n",
    "        sound, sample_rate = lb.load(filename, sr=None)\n",
    "        sound = lb.util.pad_center(sound, 30*sample_rate)\n",
    "        stft = np.abs(lb.stft(sound))\n",
    "\n",
    "        mfccs = np.mean(lb.feature.mfcc(y=sound, sr=sample_rate, n_mfcc=40),axis=1)\n",
    "        mfccs_norm = scaler.fit_transform(np.reshape(mfccs,[mfccs.shape[0],1]))\n",
    "\n",
    "        chroma = np.mean(lb.feature.chroma_stft(S=stft, sr=sample_rate),axis=1)\n",
    "        chroma_norm = scaler.fit_transform(np.reshape(chroma,[chroma.shape[0],1]))\n",
    "\n",
    "        mel = np.mean(lb.feature.melspectrogram(sound, sr=sample_rate),axis=1)\n",
    "        mel_norm = scaler.fit_transform(np.reshape(mel,[mel.shape[0],1]))\n",
    "\n",
    "        contrast = np.mean(lb.feature.spectral_contrast(S=stft, sr=sample_rate),axis=1)\n",
    "        contrast_norm = scaler.fit_transform(np.reshape(contrast,[contrast.shape[0],1]))\n",
    "\n",
    "        tonnetz = np.mean(lb.feature.tonnetz(y=lb.effects.harmonic(sound), sr=sample_rate),axis=1)\n",
    "        tonnetz_norm = scaler.fit_transform(np.reshape(tonnetz,[tonnetz.shape[0],1]))\n",
    "\n",
    "        concat = np.concatenate((mfccs,chroma,mel,contrast,tonnetz))\n",
    "\n",
    "        img_coswara.append(concat)\n",
    "        label_coswara.append(to_hot_one[label])\n",
    "        filename_coswara.append(name)\n",
    "    except:\n",
    "        None"
   ]
  },
  {
   "cell_type": "code",
   "execution_count": null,
   "metadata": {},
   "outputs": [],
   "source": [
    "np.save(os.path.join('data',exp,'img_coswara.npy'),img_coswara)\n",
    "np.save(os.path.join('data',exp,'label_coswara.npy'),label_coswara)\n",
    "np.save(os.path.join('data',exp,'filename_coswara.npy'),filename_coswara)"
   ]
  },
  {
   "cell_type": "markdown",
   "metadata": {},
   "source": [
    "## Extracting Coughvid Data Feature"
   ]
  },
  {
   "cell_type": "code",
   "execution_count": null,
   "metadata": {
    "scrolled": true
   },
   "outputs": [],
   "source": [
    "df_coughvid = pd.read_csv('csv_files/normalized_data/Coughvid_dataset.csv')\n",
    "df_coughvid.head()"
   ]
  },
  {
   "cell_type": "code",
   "execution_count": null,
   "metadata": {
    "colab": {
     "base_uri": "https://localhost:8080/"
    },
    "executionInfo": {
     "elapsed": 566012,
     "status": "ok",
     "timestamp": 1628674595921,
     "user": {
      "displayName": "Zanjabila _",
      "photoUrl": "",
      "userId": "18022974806779372296"
     },
     "user_tz": -420
    },
    "id": "CPTFm7VuV9GI",
    "outputId": "4d961fdc-a9fc-4f1b-80ea-08f3f6c341d8",
    "scrolled": true
   },
   "outputs": [],
   "source": [
    "img_coughvid = []\n",
    "label_coughvid = []\n",
    "filename_coughvid = []\n",
    "\n",
    "to_hot_one = {'positive':0, 'negative':1}\n",
    "\n",
    "for index,row in df_coughvid.iterrows():\n",
    "    name = row['filename']\n",
    "    label = row['label']\n",
    "    filename = os.path.join(dataset,name)\n",
    "    scaler = MinMaxScaler()\n",
    "    \n",
    "    try:\n",
    "        print(name, label)\n",
    "        sound, sample_rate = lb.load(filename, sr=None)\n",
    "        sound = lb.util.pad_center(sound, 30*sample_rate)\n",
    "        stft = np.abs(lb.stft(sound))\n",
    "\n",
    "        mfccs = np.mean(lb.feature.mfcc(y=sound, sr=sample_rate, n_mfcc=40),axis=1)\n",
    "        mfccs_norm = scaler.fit_transform(np.reshape(mfccs,[mfccs.shape[0],1]))\n",
    "\n",
    "        chroma = np.mean(lb.feature.chroma_stft(S=stft, sr=sample_rate),axis=1)\n",
    "        chroma_norm = scaler.fit_transform(np.reshape(chroma,[chroma.shape[0],1]))\n",
    "\n",
    "        mel = np.mean(lb.feature.melspectrogram(sound, sr=sample_rate),axis=1)\n",
    "        mel_norm = scaler.fit_transform(np.reshape(mel,[mel.shape[0],1]))\n",
    "\n",
    "        contrast = np.mean(lb.feature.spectral_contrast(S=stft, sr=sample_rate),axis=1)\n",
    "        contrast_norm = scaler.fit_transform(np.reshape(contrast,[contrast.shape[0],1]))\n",
    "\n",
    "        tonnetz = np.mean(lb.feature.tonnetz(y=lb.effects.harmonic(sound), sr=sample_rate),axis=1)\n",
    "        tonnetz_norm = scaler.fit_transform(np.reshape(tonnetz,[tonnetz.shape[0],1]))\n",
    "\n",
    "        concat = np.concatenate((mfccs,chroma,mel,contrast,tonnetz))\n",
    "\n",
    "        img_coughvid.append(concat)\n",
    "        label_coughvid.append(to_hot_one[label])\n",
    "        filename_coughvid.append(name)\n",
    "    \n",
    "    except:\n",
    "        None"
   ]
  },
  {
   "cell_type": "code",
   "execution_count": null,
   "metadata": {},
   "outputs": [],
   "source": [
    "np.save(os.path.join('data',exp,'img_coughvid.npy'),img_coughvid)\n",
    "np.save(os.path.join('data',exp,'label_coughvid.npy'),label_coughvid)\n",
    "np.save(os.path.join('data',exp,'filename_coughvid.npy'),filename_coughvid)"
   ]
  },
  {
   "cell_type": "markdown",
   "metadata": {},
   "source": [
    "## Extracting Compare Data Feature "
   ]
  },
  {
   "cell_type": "code",
   "execution_count": null,
   "metadata": {},
   "outputs": [],
   "source": [
    "df_compare = pd.read_csv('csv_files/normalized_data/Compare_dataset.csv')\n",
    "df_compare.head()"
   ]
  },
  {
   "cell_type": "code",
   "execution_count": null,
   "metadata": {
    "scrolled": true
   },
   "outputs": [],
   "source": [
    "img_compare = []\n",
    "label_compare = []\n",
    "filename_compare = []\n",
    "\n",
    "to_hot_one = {'positive':0, 'negative':1}\n",
    "\n",
    "for index,row in df_compare.iterrows():\n",
    "    name = row['filename']\n",
    "    label = row['label']\n",
    "    filename = os.path.join(dataset,name)\n",
    "    scaler = MinMaxScaler()\n",
    "    \n",
    "    try:\n",
    "        print(name, label)\n",
    "        sound, sample_rate = lb.load(filename, sr=None)\n",
    "        sound = lb.util.pad_center(sound, 30*sample_rate)\n",
    "        stft = np.abs(lb.stft(sound))\n",
    "\n",
    "        mfccs = np.mean(lb.feature.mfcc(y=sound, sr=sample_rate, n_mfcc=40),axis=1)\n",
    "        mfccs_norm = scaler.fit_transform(np.reshape(mfccs,[mfccs.shape[0],1]))\n",
    "\n",
    "        chroma = np.mean(lb.feature.chroma_stft(S=stft, sr=sample_rate),axis=1)\n",
    "        chroma_norm = scaler.fit_transform(np.reshape(chroma,[chroma.shape[0],1]))\n",
    "\n",
    "        mel = np.mean(lb.feature.melspectrogram(sound, sr=sample_rate),axis=1)\n",
    "        mel_norm = scaler.fit_transform(np.reshape(mel,[mel.shape[0],1]))\n",
    "\n",
    "        contrast = np.mean(lb.feature.spectral_contrast(S=stft, sr=sample_rate),axis=1)\n",
    "        contrast_norm = scaler.fit_transform(np.reshape(contrast,[contrast.shape[0],1]))\n",
    "\n",
    "        tonnetz = np.mean(lb.feature.tonnetz(y=lb.effects.harmonic(sound), sr=sample_rate),axis=1)\n",
    "        tonnetz_norm = scaler.fit_transform(np.reshape(tonnetz,[tonnetz.shape[0],1]))\n",
    "\n",
    "        concat = np.concatenate((mfccs,chroma,mel,contrast,tonnetz))\n",
    "        \n",
    "        img_compare.append(concat)\n",
    "        label_compare.append(to_hot_one[label])\n",
    "        filename_compare.append(name)\n",
    "    except:\n",
    "        print('None')"
   ]
  },
  {
   "cell_type": "code",
   "execution_count": null,
   "metadata": {},
   "outputs": [],
   "source": [
    "np.save(os.path.join('data',exp,'img_compare.npy'),img_compare)\n",
    "np.save(os.path.join('data',exp,'label_compare.npy'),label_compare)\n",
    "np.save(os.path.join('data',exp,'filename_compare.npy'),filename_compare)"
   ]
  },
  {
   "cell_type": "markdown",
   "metadata": {},
   "source": [
    "## Load Data"
   ]
  },
  {
   "cell_type": "code",
   "execution_count": 15,
   "metadata": {},
   "outputs": [],
   "source": [
    "img_coswara = np.load(os.path.join('data',exp,'img_coswara.npy'))\n",
    "label_coswara = np.load(os.path.join('data',exp,'label_coswara.npy'))\n",
    "filename_coswara = np.load(os.path.join('data',exp,'filename_coswara.npy'))\n",
    "\n",
    "img_coughvid = np.load(os.path.join('data',exp,'img_coughvid.npy'))\n",
    "label_coughvid = np.load(os.path.join('data',exp,'label_coughvid.npy'))\n",
    "filename_coughvid= np.load(os.path.join('data',exp,'filename_coughvid.npy'))\n",
    "\n",
    "img_compare = np.load(os.path.join('data',exp,'img_compare.npy'))\n",
    "label_compare = np.load(os.path.join('data',exp,'label_compare.npy'))\n",
    "filename_compare= np.load(os.path.join('data',exp,'filename_compare.npy'))"
   ]
  },
  {
   "cell_type": "markdown",
   "metadata": {},
   "source": [
    "## Normalize"
   ]
  },
  {
   "cell_type": "code",
   "execution_count": 16,
   "metadata": {},
   "outputs": [],
   "source": [
    "filename = np.concatenate((filename_coswara,filename_coughvid,filename_compare))\n",
    "img = np.concatenate((img_coswara,img_coughvid,img_compare))\n",
    "label = np.concatenate((label_coswara,label_coughvid,label_compare))"
   ]
  },
  {
   "cell_type": "code",
   "execution_count": 17,
   "metadata": {},
   "outputs": [],
   "source": [
    "scaler = StandardScaler()"
   ]
  },
  {
   "cell_type": "code",
   "execution_count": 18,
   "metadata": {},
   "outputs": [],
   "source": [
    "img = scaler.fit_transform(img)"
   ]
  },
  {
   "cell_type": "markdown",
   "metadata": {},
   "source": [
    "## Convert to Array"
   ]
  },
  {
   "cell_type": "code",
   "execution_count": 19,
   "metadata": {
    "executionInfo": {
     "elapsed": 382,
     "status": "ok",
     "timestamp": 1628679377021,
     "user": {
      "displayName": "Zanjabila _",
      "photoUrl": "",
      "userId": "18022974806779372296"
     },
     "user_tz": -420
    },
    "id": "4nNh0gcWiXWZ"
   },
   "outputs": [],
   "source": [
    "img = np.array(img)\n",
    "label = np.array(label)\n",
    "filename = np.array(filename)"
   ]
  },
  {
   "cell_type": "code",
   "execution_count": 20,
   "metadata": {},
   "outputs": [
    {
     "name": "stdout",
     "output_type": "stream",
     "text": [
      "(2569, 193)\n"
     ]
    }
   ],
   "source": [
    "print(img.shape)"
   ]
  },
  {
   "cell_type": "markdown",
   "metadata": {},
   "source": [
    "## Split data to Train, Devel, & Test data"
   ]
  },
  {
   "cell_type": "code",
   "execution_count": 21,
   "metadata": {},
   "outputs": [],
   "source": [
    "df_train = pd.read_csv('csv_files/experiment_data/train.csv')\n",
    "img_train = []\n",
    "label_train = []\n",
    "\n",
    "for index, row in df_train.iterrows():\n",
    "    name = row['filename']\n",
    "    index, = np.where(filename == name)\n",
    "    num = list(index)\n",
    "    if num != []:\n",
    "        num = num[0]\n",
    "        img_train.append(img[num])\n",
    "        label_train.append(label[num])"
   ]
  },
  {
   "cell_type": "code",
   "execution_count": 22,
   "metadata": {
    "scrolled": true
   },
   "outputs": [],
   "source": [
    "img_train = np.array(img_train)\n",
    "label_train = np.array(label_train)"
   ]
  },
  {
   "cell_type": "code",
   "execution_count": 23,
   "metadata": {},
   "outputs": [],
   "source": [
    "df_devel = pd.read_csv('csv_files/experiment_data/devel.csv')\n",
    "img_devel = []\n",
    "label_devel = []\n",
    "\n",
    "for index, row in df_devel.iterrows():\n",
    "    name = row['filename']\n",
    "    index, = np.where(filename == name)\n",
    "    num = list(index)\n",
    "    if num != []:\n",
    "        num = num[0]\n",
    "        img_devel.append(img[num])\n",
    "        label_devel.append(label[num])"
   ]
  },
  {
   "cell_type": "code",
   "execution_count": 24,
   "metadata": {},
   "outputs": [],
   "source": [
    "img_devel = np.array(img_devel)\n",
    "label_devel = np.array(label_devel)"
   ]
  },
  {
   "cell_type": "code",
   "execution_count": 25,
   "metadata": {},
   "outputs": [],
   "source": [
    "df_test = pd.read_csv('csv_files/experiment_data/test.csv')\n",
    "img_test = []\n",
    "label_test = []\n",
    "\n",
    "for index, row in df_test.iterrows():\n",
    "    name = row['filename']\n",
    "    index, = np.where(filename == name)\n",
    "    num = list(index)\n",
    "    if num != []:\n",
    "        num = num[0]\n",
    "        img_test.append(img[num])\n",
    "        label_test.append(label[num])"
   ]
  },
  {
   "cell_type": "code",
   "execution_count": 26,
   "metadata": {},
   "outputs": [],
   "source": [
    "img_test = np.array(img_test)\n",
    "label_test = np.array(label_test)"
   ]
  },
  {
   "cell_type": "markdown",
   "metadata": {},
   "source": [
    "## Save data array"
   ]
  },
  {
   "cell_type": "code",
   "execution_count": 27,
   "metadata": {
    "executionInfo": {
     "elapsed": 495,
     "status": "ok",
     "timestamp": 1628680244012,
     "user": {
      "displayName": "Zanjabila _",
      "photoUrl": "",
      "userId": "18022974806779372296"
     },
     "user_tz": -420
    },
    "id": "386DEUyS52IW"
   },
   "outputs": [],
   "source": [
    "if os.path.exists(os.path.join('data',exp,'array'))==False:\n",
    "    os.mkdir(os.path.join('data',exp,'array'))"
   ]
  },
  {
   "cell_type": "code",
   "execution_count": 28,
   "metadata": {
    "executionInfo": {
     "elapsed": 328,
     "status": "ok",
     "timestamp": 1628680382548,
     "user": {
      "displayName": "Zanjabila _",
      "photoUrl": "",
      "userId": "18022974806779372296"
     },
     "user_tz": -420
    },
    "id": "wvxF8ZCy6F0L"
   },
   "outputs": [],
   "source": [
    "np.save(os.path.join('data',exp,'array','img_train.npy'),img_train)\n",
    "np.save(os.path.join('data',exp,'array','label_train.npy'),label_train)\n",
    "\n",
    "np.save(os.path.join('data',exp,'array','img_devel.npy'),img_devel)\n",
    "np.save(os.path.join('data',exp,'array','label_devel.npy'),label_devel)\n",
    "\n",
    "np.save(os.path.join('data',exp,'array','img_test.npy'),img_test)\n",
    "np.save(os.path.join('data',exp,'array','label_test.npy'),label_test)"
   ]
  },
  {
   "cell_type": "code",
   "execution_count": 29,
   "metadata": {},
   "outputs": [],
   "source": [
    "img_train = np.load(os.path.join('data',exp,'array','img_train.npy'))\n",
    "label_train = np.load(os.path.join('data',exp,'array','label_train.npy'))\n",
    "\n",
    "img_val = np.load(os.path.join('data',exp,'array','img_devel.npy'))\n",
    "label_val = np.load(os.path.join('data',exp,'array','label_devel.npy'))\n",
    "\n",
    "img_test = np.load(os.path.join('data',exp,'array','img_test.npy'))\n",
    "label_test = np.load(os.path.join('data',exp,'array','label_test.npy'))"
   ]
  },
  {
   "cell_type": "markdown",
   "metadata": {},
   "source": [
    "## Augmented using SMOTE"
   ]
  },
  {
   "cell_type": "code",
   "execution_count": 30,
   "metadata": {
    "colab": {
     "base_uri": "https://localhost:8080/"
    },
    "executionInfo": {
     "elapsed": 479,
     "status": "ok",
     "timestamp": 1628680500226,
     "user": {
      "displayName": "Zanjabila _",
      "photoUrl": "",
      "userId": "18022974806779372296"
     },
     "user_tz": -420
    },
    "id": "U38q_ZjD30JM",
    "outputId": "70898572-a362-4806-bfe1-6aa926f1e521"
   },
   "outputs": [],
   "source": [
    "oversample = SMOTE()\n",
    "img_train_smote, label_train_smote = oversample.fit_resample(img_train, label_train)"
   ]
  },
  {
   "cell_type": "code",
   "execution_count": 31,
   "metadata": {
    "colab": {
     "base_uri": "https://localhost:8080/"
    },
    "executionInfo": {
     "elapsed": 401,
     "status": "ok",
     "timestamp": 1628680630399,
     "user": {
      "displayName": "Zanjabila _",
      "photoUrl": "",
      "userId": "18022974806779372296"
     },
     "user_tz": -420
    },
    "id": "tGXlEUp97ZoT",
    "outputId": "0e30e3c3-7f09-4bee-ce3b-a33edf430f48"
   },
   "outputs": [],
   "source": [
    "oversample = SMOTE()\n",
    "img_val_smote, label_val_smote = oversample.fit_resample(np.reshape(img_val,[img_val.shape[0],img_val.shape[1]]), label_val)"
   ]
  },
  {
   "cell_type": "code",
   "execution_count": 32,
   "metadata": {
    "executionInfo": {
     "elapsed": 430,
     "status": "ok",
     "timestamp": 1628680690014,
     "user": {
      "displayName": "Zanjabila _",
      "photoUrl": "",
      "userId": "18022974806779372296"
     },
     "user_tz": -420
    },
    "id": "So_lDrAY7lmt"
   },
   "outputs": [],
   "source": [
    "np.save(os.path.join('data',exp,'array','img_train_smote.npy'),img_train_smote)\n",
    "np.save(os.path.join('data',exp,'array','label_train_smote.npy'),label_train_smote)\n",
    "\n",
    "np.save(os.path.join('data',exp,'array','img_devel_smote.npy'),img_val_smote)\n",
    "np.save(os.path.join('data',exp,'array','label_devel_smote.npy'),label_val_smote)"
   ]
  },
  {
   "cell_type": "code",
   "execution_count": null,
   "metadata": {},
   "outputs": [],
   "source": []
  }
 ],
 "metadata": {
  "colab": {
   "authorship_tag": "ABX9TyMFOqOD6QIOjFc4WidsGqZi",
   "name": "MFCC_1D",
   "provenance": []
  },
  "kernelspec": {
   "display_name": "Python 3 (ipykernel)",
   "language": "python",
   "name": "python3"
  },
  "language_info": {
   "codemirror_mode": {
    "name": "ipython",
    "version": 3
   },
   "file_extension": ".py",
   "mimetype": "text/x-python",
   "name": "python",
   "nbconvert_exporter": "python",
   "pygments_lexer": "ipython3",
   "version": "3.9.7"
  }
 },
 "nbformat": 4,
 "nbformat_minor": 1
}
