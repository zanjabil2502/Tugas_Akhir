{
 "cells": [
  {
   "cell_type": "code",
   "execution_count": 185,
   "metadata": {
    "colab": {
     "base_uri": "https://localhost:8080/"
    },
    "executionInfo": {
     "elapsed": 25,
     "status": "ok",
     "timestamp": 1628680413579,
     "user": {
      "displayName": "Zanjabila _",
      "photoUrl": "",
      "userId": "18022974806779372296"
     },
     "user_tz": -420
    },
    "id": "GsF7-2imSQjl",
    "outputId": "7f9637f0-88b7-4635-fde4-332844321b54"
   },
   "outputs": [],
   "source": [
    "import numpy as np\n",
    "import os\n",
    "from os import listdir\n",
    "import librosa as lb\n",
    "import pandas as pd\n",
    "from collections import Counter\n",
    "from imblearn.over_sampling import SMOTE\n",
    "from sklearn.preprocessing import MinMaxScaler, StandardScaler\n",
    "import glob\n",
    "import random\n",
    "import torch"
   ]
  },
  {
   "cell_type": "code",
   "execution_count": 186,
   "metadata": {
    "id": "v2oAn2vlSfiy"
   },
   "outputs": [],
   "source": [
    "if os.path.exists('data')==False:\n",
    "    os.mkdir('data')"
   ]
  },
  {
   "cell_type": "markdown",
   "metadata": {},
   "source": [
    "## Making a Experiment Folder"
   ]
  },
  {
   "cell_type": "code",
   "execution_count": 187,
   "metadata": {},
   "outputs": [],
   "source": [
    "exp = 'exp-12'"
   ]
  },
  {
   "cell_type": "code",
   "execution_count": 188,
   "metadata": {},
   "outputs": [],
   "source": [
    "if os.path.exists(os.path.join('data',exp))==False:\n",
    "    os.mkdir(os.path.join('data',exp))\n",
    "else:\n",
    "    print('Folder is exists')"
   ]
  },
  {
   "cell_type": "code",
   "execution_count": 189,
   "metadata": {},
   "outputs": [],
   "source": [
    "dataset = 'dataset/Merge-Data/'"
   ]
  },
  {
   "cell_type": "markdown",
   "metadata": {},
   "source": [
    "## Noise Augmentation"
   ]
  },
  {
   "cell_type": "code",
   "execution_count": 190,
   "metadata": {},
   "outputs": [],
   "source": [
    "noisetypes = ['noise']\n",
    "musan_path = 'dataset/Musan-Data'\n",
    "\n",
    "noisesnr   = {'noise':[0,15],'speech':[13,20],'music':[5,15]}\n",
    "numnoise   = {'noise':[1,1], 'speech':[3,7],  'music':[1,1] }\n",
    "noiselist  = {}\n",
    "augment_files   = glob.glob(os.path.join(musan_path,'*/*/*.wav'));\n",
    "\n",
    "for file in augment_files:\n",
    "    if not file.split('/')[-3] in noiselist:\n",
    "        noiselist[file.split('/')[-3]] = []\n",
    "    noiselist[file.split('/')[-3]].append(file)"
   ]
  },
  {
   "cell_type": "code",
   "execution_count": 191,
   "metadata": {},
   "outputs": [],
   "source": [
    "def additive_noise(noisetypes, noiselist, noisesnr, numnoise, audio, noisecat=None):\n",
    "    if noisecat is None:\n",
    "        noisecat = noisetypes[0]\n",
    "\n",
    "    wav = audio.reshape(audio.shape[-1])\n",
    "    clean_db = 10 * np.log10(np.mean(wav ** 2)+1e-4) \n",
    "    numnoise = numnoise[noisecat]\n",
    "    noiselist = random.sample(noiselist[noisecat], random.randint(numnoise[0],numnoise[1]))\n",
    "\n",
    "    final_noise_audio = 0\n",
    "    for noise in noiselist:\n",
    "        noise_wav,sr = lb.load(noise)\n",
    "        noise_wav = noise_wav.reshape(noise_wav.shape[-1])\n",
    "        noise_wav_len = noise_wav.shape[0]\n",
    "        wav_len = wav.shape[0]\n",
    "        if noise_wav_len <= wav_len:\n",
    "            continue\n",
    "\n",
    "        noise_start_slice = random.randint(0,noise_wav_len-(wav_len+1))\n",
    "        noise_wav = noise_wav[noise_start_slice:noise_start_slice+wav_len]\n",
    "\n",
    "        noise_snr = random.uniform(noisesnr[noisecat][0],noisesnr[noisecat][1])\n",
    "        noise_db = 10 * np.log10(np.mean(noise_wav ** 2)+1e-4)\n",
    "        final_noise_audio = np.sqrt(10 ** ((clean_db - noise_db - noise_snr) / 10)) * noise_wav\n",
    "\n",
    "    out_audio = np.array(wav + final_noise_audio)\n",
    "    out_audio = out_audio.reshape(-1)\n",
    "    return out_audio"
   ]
  },
  {
   "cell_type": "markdown",
   "metadata": {},
   "source": [
    "## Normalization"
   ]
  },
  {
   "cell_type": "code",
   "execution_count": 192,
   "metadata": {},
   "outputs": [],
   "source": [
    "def normalization(sound,sr,scaler):\n",
    "    stft = np.abs(lb.stft(sound))\n",
    "\n",
    "    mfccs = np.mean(lb.feature.mfcc(y=sound, sr=sample_rate, n_mfcc=40),axis=1)\n",
    "    mfccs_norm = scaler.fit_transform(np.reshape(mfccs,[mfccs.shape[0],1]))\n",
    "\n",
    "    chroma = np.mean(lb.feature.chroma_stft(S=stft, sr=sample_rate),axis=1)\n",
    "    chroma_norm = scaler.fit_transform(np.reshape(chroma,[chroma.shape[0],1]))\n",
    "\n",
    "    mel = np.mean(lb.feature.melspectrogram(sound, sr=sample_rate),axis=1)\n",
    "    mel_norm = scaler.fit_transform(np.reshape(mel,[mel.shape[0],1]))\n",
    "\n",
    "    contrast = np.mean(lb.feature.spectral_contrast(S=stft, sr=sample_rate),axis=1)\n",
    "    contrast_norm = scaler.fit_transform(np.reshape(contrast,[contrast.shape[0],1]))\n",
    "\n",
    "    tonnetz = np.mean(lb.feature.tonnetz(y=lb.effects.harmonic(sound), sr=sample_rate),axis=1)\n",
    "    tonnetz_norm = scaler.fit_transform(np.reshape(tonnetz,[tonnetz.shape[0],1]))\n",
    "\n",
    "    concat = np.concatenate((mfccs,chroma,mel,contrast,tonnetz))\n",
    "    concat_norm = np.concatenate((mfccs_norm,chroma_norm,mel_norm,contrast_norm,tonnetz_norm))\n",
    "    \n",
    "    return concat,concat_norm"
   ]
  },
  {
   "cell_type": "code",
   "execution_count": 193,
   "metadata": {},
   "outputs": [],
   "source": [
    "scaler = StandardScaler()"
   ]
  },
  {
   "cell_type": "markdown",
   "metadata": {},
   "source": [
    "## Extracting Train Data Feature"
   ]
  },
  {
   "cell_type": "code",
   "execution_count": 194,
   "metadata": {},
   "outputs": [
    {
     "data": {
      "text/html": [
       "<div>\n",
       "<style scoped>\n",
       "    .dataframe tbody tr th:only-of-type {\n",
       "        vertical-align: middle;\n",
       "    }\n",
       "\n",
       "    .dataframe tbody tr th {\n",
       "        vertical-align: top;\n",
       "    }\n",
       "\n",
       "    .dataframe thead th {\n",
       "        text-align: right;\n",
       "    }\n",
       "</style>\n",
       "<table border=\"1\" class=\"dataframe\">\n",
       "  <thead>\n",
       "    <tr style=\"text-align: right;\">\n",
       "      <th></th>\n",
       "      <th>filename</th>\n",
       "      <th>label</th>\n",
       "    </tr>\n",
       "  </thead>\n",
       "  <tbody>\n",
       "    <tr>\n",
       "      <th>0</th>\n",
       "      <td>aHJPsm6esHeW5apkd8KAFdia9zj2.wav</td>\n",
       "      <td>positive</td>\n",
       "    </tr>\n",
       "    <tr>\n",
       "      <th>1</th>\n",
       "      <td>ptuwF1pj4ibIoVuZmt4nKb5naiZ2.wav</td>\n",
       "      <td>positive</td>\n",
       "    </tr>\n",
       "    <tr>\n",
       "      <th>2</th>\n",
       "      <td>EbWP0XeMpnbrTsljro0dOGKIell1_heavy.wav</td>\n",
       "      <td>positive</td>\n",
       "    </tr>\n",
       "    <tr>\n",
       "      <th>3</th>\n",
       "      <td>Ued1DKV2NkUnzWjJcPMxA6Q261r1_heavy.wav</td>\n",
       "      <td>positive</td>\n",
       "    </tr>\n",
       "    <tr>\n",
       "      <th>4</th>\n",
       "      <td>ZaeW7vuikQgf7984JVqXYOtUQMs2.wav</td>\n",
       "      <td>positive</td>\n",
       "    </tr>\n",
       "  </tbody>\n",
       "</table>\n",
       "</div>"
      ],
      "text/plain": [
       "                                 filename     label\n",
       "0        aHJPsm6esHeW5apkd8KAFdia9zj2.wav  positive\n",
       "1        ptuwF1pj4ibIoVuZmt4nKb5naiZ2.wav  positive\n",
       "2  EbWP0XeMpnbrTsljro0dOGKIell1_heavy.wav  positive\n",
       "3  Ued1DKV2NkUnzWjJcPMxA6Q261r1_heavy.wav  positive\n",
       "4        ZaeW7vuikQgf7984JVqXYOtUQMs2.wav  positive"
      ]
     },
     "execution_count": 194,
     "metadata": {},
     "output_type": "execute_result"
    }
   ],
   "source": [
    "df_train = pd.read_csv('csv_files/experiment_data/train.csv')\n",
    "df_train.head()"
   ]
  },
  {
   "cell_type": "code",
   "execution_count": null,
   "metadata": {
    "colab": {
     "base_uri": "https://localhost:8080/"
    },
    "executionInfo": {
     "elapsed": 2238695,
     "status": "ok",
     "timestamp": 1628673126612,
     "user": {
      "displayName": "Zanjabila _",
      "photoUrl": "",
      "userId": "18022974806779372296"
     },
     "user_tz": -420
    },
    "id": "va8S6zjzTpvr",
    "outputId": "e17ca223-54b9-4c5a-d447-1caf8b353f59",
    "scrolled": true
   },
   "outputs": [
    {
     "name": "stdout",
     "output_type": "stream",
     "text": [
      "aHJPsm6esHeW5apkd8KAFdia9zj2.wav positive\n",
      "ptuwF1pj4ibIoVuZmt4nKb5naiZ2.wav positive\n",
      "EbWP0XeMpnbrTsljro0dOGKIell1_heavy.wav positive\n",
      "Ued1DKV2NkUnzWjJcPMxA6Q261r1_heavy.wav positive\n",
      "ZaeW7vuikQgf7984JVqXYOtUQMs2.wav positive\n",
      "gDBsK8LcY0Om4DujIs4lFSsktWu1_heavy.wav positive\n",
      "M9CdGPOCUFPWV7KnLgvStPgjLrF3_heavy.wav positive\n",
      "GBwlY1I67YdQ47ceNFdpK87kEr33.wav positive\n",
      "RmWwhKI8kjPi5qN9H740rfm0jHA2_heavy.wav positive\n",
      "Fi2lLmV3LHR5brvXs0z1JSKDvnI2.wav positive\n",
      "8JuoYlwoiUgaSSUUKQnB7F7fG5S2_heavy.wav positive\n",
      "KFQ0ksPwkDcLUUjbVBYWGWr9ei62_heavy.wav positive\n",
      "DRoZujDy6CWVFL0UefbHEgCcD2l2.wav positive\n",
      "o8LJfYAChnd5Jv0WVa6Ni7jpHf92.wav positive\n",
      "75OYElXmxdQTQne9breAIqnSo7Z2_heavy.wav positive\n",
      "rB4ewmXSc9P5IPhLffnBasjYU1s2_heavy.wav positive\n",
      "NVzhTN4CXebH2lQVFkBTyl6ue5h2_heavy.wav positive\n",
      "BVcBPtxcv3cqEdIkhjM6YenlWtb2.wav positive\n",
      "46bIeJk9J8XrD4ND2IPRMQzjJBt2_heavy.wav positive\n",
      "HK3FfcI5SyXc7CtQMaQiMQ2ia1n2_heavy.wav positive\n",
      "saaw7uHQJQesN9AmgKyXNFAaXB82.wav positive\n",
      "etg5L3iyQ3fQAyyn4uZ9jYuoUf13_heavy.wav positive\n",
      "g8Ytx04UPzQxX4RH4ADltVtHsuO2_heavy.wav positive\n",
      "Tvdak0zflIVWdvWsNj7l9Ur0k3m1_heavy.wav positive\n",
      "zbIXdZwHjgb2uDtKqIgcSnr7pyD2_heavy.wav positive\n",
      "2oEWhawfKmanWlvgQfkdkmgoJ9k1.wav positive\n",
      "0drfnqVwccT6UmgVLQEuyVglDC23.wav positive\n",
      "ygiPwZYsKFetOejhxWXB6rKSHAf2.wav positive\n",
      "Eg87yvzTcTOSRHlObK3w0ju4Ej82.wav positive\n",
      "cGsyomvRhzLiAzPk98QyHu8988q2_heavy.wav positive\n",
      "aDAVgxAXQOdOakIroRdHwpL867v2_heavy.wav positive\n",
      "D9EEvq1ksqN6PEWzIAy7Mu5e8jJ3_heavy.wav positive\n",
      "YRiIODBG3RXPbDttwztMhsXg1rv2.wav positive\n",
      "gFmySpqfQ7YrYqMrmrMPO7AzmBm1_heavy.wav positive\n",
      "W42AKc6SZlNz1NOBAJrCpa3Io0E2_heavy.wav positive\n",
      "AutXsDVtEcVH9ZQ58NqDunDcqZv1.wav positive\n",
      "YpViFd6bZEaMT5i5DUd18Qh6NQI3.wav positive\n",
      "8JuoYlwoiUgaSSUUKQnB7F7fG5S2.wav positive\n",
      "IimA0GnOm7ZR4nEr8k0kG4eaR7A3.wav positive\n",
      "IgwjLDmZRyTv03Mq7VdUYL6O5fV2_heavy.wav positive\n",
      "hCix5UmABWZVW40elRFgkGabPa52.wav positive\n",
      "rjCqyoFoReUh6bjdZ7DTaRZLpt13.wav positive\n",
      "YA7NFQZSqwUZUJGPAh5tRe22woB2_heavy.wav positive\n",
      "dDvHec65MWh2REqq5mABZJvmlXI3_heavy.wav positive\n",
      "OXtf0PsobreM3phUk9HmzPGaGZA3.wav positive\n",
      "tFXAov3QpbTvPL6gzCSwAsTSFT93.wav positive\n",
      "AutXsDVtEcVH9ZQ58NqDunDcqZv1_heavy.wav positive\n",
      "8UdvlhiJqYY2AWjGtBu0Vd3SSTP2_heavy.wav positive\n",
      "Fx2gbIoPlJXrK5OD8FMeepOGlLa2.wav positive\n",
      "qwN4ODyxmhSTFKJvyukaejL3Pa53.wav positive\n",
      "UZKdFMia0JWykTWi6T2PoXmS3nt2_heavy.wav positive\n",
      "ADUIall6exYvek5ktU2P6pHWnza2.wav positive\n",
      "Zmjv6hT2Q1VfJhGdGh9VkGmpHL03.wav positive\n",
      "MtXoTPXYhUaIX0skM8V3roaz2B22.wav positive\n",
      "RmWwhKI8kjPi5qN9H740rfm0jHA2.wav positive\n",
      "BfkSf0P6WcOlQW1jfLuLKEPusF82_heavy.wav positive\n",
      "FC4RKq4W8uRrjmin8n2BXC4SrnU2_heavy.wav positive\n",
      "1aPZz1jeoBcw9B046d504mn4cq82_heavy.wav positive\n",
      "YKF05wLba6MKfUPRzQLyMYeCpgr2_heavy.wav positive\n",
      "GKupow0m24SgP8whGGJBZrPbS9k2_heavy.wav positive\n"
     ]
    },
    {
     "name": "stderr",
     "output_type": "stream",
     "text": [
      "/home/viblab/.local/lib/python3.9/site-packages/librosa/core/pitch.py:153: UserWarning: Trying to estimate tuning from empty frequency set.\n",
      "  warnings.warn(\"Trying to estimate tuning from empty frequency set.\")\n",
      "/home/viblab/.local/lib/python3.9/site-packages/librosa/core/pitch.py:153: UserWarning: Trying to estimate tuning from empty frequency set.\n",
      "  warnings.warn(\"Trying to estimate tuning from empty frequency set.\")\n"
     ]
    },
    {
     "name": "stdout",
     "output_type": "stream",
     "text": [
      "AWMx6dOBlFPdjWa86wkLjsGZ6by2.wav positive\n",
      "HK3FfcI5SyXc7CtQMaQiMQ2ia1n2.wav positive\n",
      "6ZovArshO1MTe2tpxFWrHmORa2R2_heavy.wav positive\n",
      "FC4RKq4W8uRrjmin8n2BXC4SrnU2.wav positive\n",
      "zbIXdZwHjgb2uDtKqIgcSnr7pyD2.wav positive\n",
      "x89c2X4Q5LdiRvU9XWVkU1XXLE13.wav positive\n",
      "S0ZhYGoCVfXWMHzPGZ41PvHYiw12_heavy.wav positive\n",
      "4bnHQCj8tnSEx37AR5HiQAH2vB32_heavy.wav positive\n",
      "M43FaHpw1ScIi97eG6LBx2fBaJ92.wav positive\n",
      "IimA0GnOm7ZR4nEr8k0kG4eaR7A3_heavy.wav positive\n",
      "d7w3B2YcJ3TLx58ryhiASEtwaAu1.wav positive\n",
      "ffrNAGEUQEfL39VAP9Eau1a3UUX2.wav positive\n",
      "a96ovf71KqfbVIG8ZF5m6DaRE9Z2.wav positive\n",
      "0Js6ZUZQ9NUnu568Fh7B6mZ1R8o1_heavy.wav positive\n"
     ]
    },
    {
     "name": "stderr",
     "output_type": "stream",
     "text": [
      "/home/viblab/.local/lib/python3.9/site-packages/librosa/core/pitch.py:153: UserWarning: Trying to estimate tuning from empty frequency set.\n",
      "  warnings.warn(\"Trying to estimate tuning from empty frequency set.\")\n",
      "/home/viblab/.local/lib/python3.9/site-packages/librosa/core/pitch.py:153: UserWarning: Trying to estimate tuning from empty frequency set.\n",
      "  warnings.warn(\"Trying to estimate tuning from empty frequency set.\")\n"
     ]
    },
    {
     "name": "stdout",
     "output_type": "stream",
     "text": [
      "saaw7uHQJQesN9AmgKyXNFAaXB82_heavy.wav positive\n",
      "8Vz9jwmadkRfjbwrHwGZ2MsUtcz1_heavy.wav positive\n",
      "nSVDxo9HNmPPggf6WSuAGg9XU6p1_heavy.wav positive\n",
      "Y7RB11Ha8VNbBDjGoYVuIxnpYKA2_heavy.wav positive\n",
      "fX1IzMBBKwXISMTgnZUFQa6o5Rh2_heavy.wav positive\n",
      "31euepHD0deCxTd2nJ1wzXCk5EF3_heavy.wav positive\n",
      "YHHZYBxPHsUWYITjtMRAixs3DX42.wav positive\n",
      "YE3Hs5yD9BeIzT8cctZEBKGJIXN2_heavy.wav positive\n"
     ]
    },
    {
     "name": "stderr",
     "output_type": "stream",
     "text": [
      "/home/viblab/.local/lib/python3.9/site-packages/librosa/core/pitch.py:153: UserWarning: Trying to estimate tuning from empty frequency set.\n",
      "  warnings.warn(\"Trying to estimate tuning from empty frequency set.\")\n",
      "/home/viblab/.local/lib/python3.9/site-packages/librosa/core/pitch.py:153: UserWarning: Trying to estimate tuning from empty frequency set.\n",
      "  warnings.warn(\"Trying to estimate tuning from empty frequency set.\")\n"
     ]
    },
    {
     "name": "stdout",
     "output_type": "stream",
     "text": [
      "LTk52ATmpEVOJSTjuNtEZHJx6943.wav positive\n",
      "JUTgBmtV3PabkG7XQANi7iHlUBy2_heavy.wav positive\n",
      "C1jXleNkfzaI6sbPJL883EGGRLj2.wav positive\n",
      "bx564wHvi9d0HyJTtdi0haZuU493.wav positive\n",
      "Cd7fkliPM2ZUM1skytvoU2vD8jK2.wav positive\n",
      "9sAOoNazDOXPars5nzlLzOwuYVW2_heavy.wav positive\n",
      "2j5I1dnLtBN8hyD149k2dZ19foE3_heavy.wav positive\n",
      "ebtxeRmhQhQ78ZtgSjN7g637e6v1.wav positive\n",
      "OaOT17qcMJhtsIymSrSJh12d4iE2_heavy.wav positive\n",
      "vXpopcJJEugOInwUtJkEnHgoVhk1_heavy.wav positive\n",
      "RRbKCE4xfybmt8BOImiVxHfbFjO2.wav positive\n",
      "VLrOagtGVFYxWiEnMVFn1BnSWHM2_heavy.wav positive\n",
      "n4iInpDT2BR5xr3Y6yNqOxvvFUm2_heavy.wav positive\n",
      "MwT3St0uIWhMDTJwcQIRmcFUwk62_heavy.wav positive\n",
      "EnEYPaPTh9SeTTD55fxFRNPItqI2_heavy.wav positive\n",
      "DGWrVMD5yZc5jcjMzblC4kaBLmK2_heavy.wav positive\n",
      "P25gmf6a64UuD7XtIDeL9VQMzXb2.wav positive\n",
      "1NQvmLMrJyTwrmbNwAm6wDT4wpz2_heavy.wav positive\n"
     ]
    },
    {
     "name": "stderr",
     "output_type": "stream",
     "text": [
      "/home/viblab/.local/lib/python3.9/site-packages/librosa/core/pitch.py:153: UserWarning: Trying to estimate tuning from empty frequency set.\n",
      "  warnings.warn(\"Trying to estimate tuning from empty frequency set.\")\n",
      "/home/viblab/.local/lib/python3.9/site-packages/librosa/core/pitch.py:153: UserWarning: Trying to estimate tuning from empty frequency set.\n",
      "  warnings.warn(\"Trying to estimate tuning from empty frequency set.\")\n",
      "/home/viblab/.local/lib/python3.9/site-packages/librosa/core/pitch.py:153: UserWarning: Trying to estimate tuning from empty frequency set.\n",
      "  warnings.warn(\"Trying to estimate tuning from empty frequency set.\")\n",
      "/home/viblab/.local/lib/python3.9/site-packages/librosa/core/pitch.py:153: UserWarning: Trying to estimate tuning from empty frequency set.\n",
      "  warnings.warn(\"Trying to estimate tuning from empty frequency set.\")\n"
     ]
    },
    {
     "name": "stdout",
     "output_type": "stream",
     "text": [
      "1NQvmLMrJyTwrmbNwAm6wDT4wpz2.wav positive\n"
     ]
    },
    {
     "name": "stderr",
     "output_type": "stream",
     "text": [
      "/home/viblab/.local/lib/python3.9/site-packages/librosa/core/pitch.py:153: UserWarning: Trying to estimate tuning from empty frequency set.\n",
      "  warnings.warn(\"Trying to estimate tuning from empty frequency set.\")\n",
      "/home/viblab/.local/lib/python3.9/site-packages/librosa/core/pitch.py:153: UserWarning: Trying to estimate tuning from empty frequency set.\n",
      "  warnings.warn(\"Trying to estimate tuning from empty frequency set.\")\n",
      "/home/viblab/.local/lib/python3.9/site-packages/librosa/core/pitch.py:153: UserWarning: Trying to estimate tuning from empty frequency set.\n",
      "  warnings.warn(\"Trying to estimate tuning from empty frequency set.\")\n",
      "/home/viblab/.local/lib/python3.9/site-packages/librosa/core/pitch.py:153: UserWarning: Trying to estimate tuning from empty frequency set.\n",
      "  warnings.warn(\"Trying to estimate tuning from empty frequency set.\")\n"
     ]
    },
    {
     "name": "stdout",
     "output_type": "stream",
     "text": [
      "Ny1eG1jTBwWIudUg5hGhCchHKXC2_heavy.wav positive\n",
      "Y9vdHTL7XdWJVBGtktKW9gkw7yS2_heavy.wav positive\n",
      "2vH4QMrMaMMm5oZYScY0b36Z8MC3_heavy.wav positive\n",
      "Zmjv6hT2Q1VfJhGdGh9VkGmpHL03_heavy.wav positive\n",
      "QjBZv868nydJzk0ZzwgKDHSG6Q82_heavy.wav positive\n",
      "lN6Y7317RFS0apVdnffs95djXIj1.wav positive\n",
      "ZIzrdWNQK1Xhn6o6jrzSVBMdphp2.wav positive\n",
      "3FC5FIdqx5S5mB69VSxhduD1q0H3.wav positive\n",
      "9hXEs9OejdVxG6JJGCyKQpqVvy43.wav positive\n",
      "IHOunHyVaoO7AR6Z0QJgIa31BvS2.wav positive\n",
      "eR2gfqeYAjdgzpwtCDXUqts9yIc2_heavy.wav positive\n"
     ]
    },
    {
     "name": "stderr",
     "output_type": "stream",
     "text": [
      "/home/viblab/.local/lib/python3.9/site-packages/librosa/core/pitch.py:153: UserWarning: Trying to estimate tuning from empty frequency set.\n",
      "  warnings.warn(\"Trying to estimate tuning from empty frequency set.\")\n",
      "/home/viblab/.local/lib/python3.9/site-packages/librosa/core/pitch.py:153: UserWarning: Trying to estimate tuning from empty frequency set.\n",
      "  warnings.warn(\"Trying to estimate tuning from empty frequency set.\")\n"
     ]
    },
    {
     "name": "stdout",
     "output_type": "stream",
     "text": [
      "joORHxc0iCTwgP7Uh5SM5N7rnnf2.wav positive\n",
      "E4JCh6HgOVRX04QDLVotx8SgXVp1_heavy.wav positive\n",
      "46bIeJk9J8XrD4ND2IPRMQzjJBt2.wav positive\n",
      "uRtWGtWi3eVHJ0JhF0ycETkX0ms2_heavy.wav positive\n",
      "MF5f99sONpcYl5fYsVzh32XwSmm2.wav positive\n",
      "2j5I1dnLtBN8hyD149k2dZ19foE3.wav positive\n",
      "Ny1eG1jTBwWIudUg5hGhCchHKXC2.wav positive\n",
      "RUZ93kkyD0hJ1v7awXutr6RgF943.wav positive\n",
      "0sIeyohqXMOGTqPA7RiiuyJ3AOt2.wav positive\n",
      "BRVYzpZ9X1TGGLnjYEHIn3VEJ5j1.wav positive\n",
      "0KSi2atlmsXNcGMfpDNzIjJSvC23_heavy.wav positive\n",
      "b7mMUQm5bObj1jwGFaNyaR07pt83_heavy.wav positive\n",
      "JsTOkdqknPeCRi6i63Cfu1ciuuh2.wav positive\n",
      "75OYElXmxdQTQne9breAIqnSo7Z2.wav positive\n",
      "ZaeW7vuikQgf7984JVqXYOtUQMs2_heavy.wav positive\n",
      "tkM8UQsV2hVGrkSwelg3AyFiXoy2.wav positive\n",
      "dFtGnzYqh1NVAwQUQ3wkysqAe3n1.wav positive\n",
      "lQ1cBTWdazLLa7xWAiSCOmZ709s1.wav positive\n",
      "kBFDtvAVY9QYbi7YHYgd7tNpsWx1.wav positive\n",
      "xce3uTKiuNSSnnAWLJMorxTjHzI2_heavy.wav positive\n",
      "UZKdFMia0JWykTWi6T2PoXmS3nt2.wav positive\n",
      "yL9QW3T2VueXfL3yvsmXsM2hL4v1_heavy.wav positive\n",
      "08tlSbvXpAggZavIGW994adhh1m1.wav positive\n",
      "6Tn00kNMgrhXRNTtafxIoOoodgm2_heavy.wav positive\n",
      "cQEUPCFkSBfwuTsWap02ban51g82.wav positive\n",
      "9qTEkN9zyqc9zYKt4qpsgatdTLo2_heavy.wav positive\n",
      "C1h80BY2J5eZgP3UMb4PTJXyKWy2_heavy.wav positive\n",
      "4qLi2eWkYGasKhmmPPiyFAGUqBr2.wav positive\n",
      "56HPUhHPM9UEksAVgCDbQZcxsuZ2.wav positive\n",
      "NAL6D2MCyQbiZUGtdQixl39IH3X2_heavy.wav positive\n",
      "UKrkCs1fdsVnZ7EfqWJCRxvIyZ22.wav positive\n"
     ]
    },
    {
     "name": "stderr",
     "output_type": "stream",
     "text": [
      "/home/viblab/.local/lib/python3.9/site-packages/librosa/core/pitch.py:153: UserWarning: Trying to estimate tuning from empty frequency set.\n",
      "  warnings.warn(\"Trying to estimate tuning from empty frequency set.\")\n",
      "/home/viblab/.local/lib/python3.9/site-packages/librosa/core/pitch.py:153: UserWarning: Trying to estimate tuning from empty frequency set.\n",
      "  warnings.warn(\"Trying to estimate tuning from empty frequency set.\")\n",
      "/home/viblab/.local/lib/python3.9/site-packages/librosa/core/pitch.py:153: UserWarning: Trying to estimate tuning from empty frequency set.\n",
      "  warnings.warn(\"Trying to estimate tuning from empty frequency set.\")\n",
      "/home/viblab/.local/lib/python3.9/site-packages/librosa/core/pitch.py:153: UserWarning: Trying to estimate tuning from empty frequency set.\n",
      "  warnings.warn(\"Trying to estimate tuning from empty frequency set.\")\n"
     ]
    },
    {
     "name": "stdout",
     "output_type": "stream",
     "text": [
      "CkBv7ZLYRIcugw93mPtPkbWxC412.wav positive\n",
      "zM5GsorprLYElGQ3uJwnU0g0Fwr1_heavy.wav positive\n",
      "lpohIzcDNEg3DR38ku43WHiCkC42.wav positive\n",
      "lN6Y7317RFS0apVdnffs95djXIj1_heavy.wav positive\n",
      "dvRr97gwv7Y34YqaccErnWcYRY53_heavy.wav positive\n",
      "h5e7Ff7hWON2RPULdDCxad7xpGv2_heavy.wav positive\n",
      "imaxvQ1daYhtvhpulzgQy4t6VMl2_heavy.wav positive\n",
      "qJvoAC408vP9fwBWQUAHHxKI39k1.wav positive\n",
      "333NjqA1TfZJuICEdXSkPhVz0LA3.wav positive\n",
      "XwPxN3JASwgk13QZUviNawM7k0v1.wav positive\n",
      "Qcliznd3z1VdWmJOZh9nvlstTYv1.wav positive\n",
      "wEMYsNrzUvXhlQHYnFAF6U5a0Py1_heavy.wav positive\n",
      "jyxqyMzm2IXXaETlfHjV1K6ju492.wav positive\n",
      "2tjg2NfgJPaYdgTZRDUBhWm8F133_heavy.wav positive\n",
      "QjBZv868nydJzk0ZzwgKDHSG6Q82.wav positive\n",
      "XFlqN1sDBKNXyuORhVagkJnr5V33.wav positive\n",
      "cLcriOknOebRZSFfeQlcUNYzbZL2.wav positive\n",
      "khBKxUEe1rQxPqpo4pGylAZjsEt1_heavy.wav positive\n",
      "Cd7fkliPM2ZUM1skytvoU2vD8jK2_heavy.wav positive\n",
      "YHHZYBxPHsUWYITjtMRAixs3DX42_heavy.wav positive\n",
      "euld60aqc2OtnNoKYx9P4WDzVM92_heavy.wav positive\n",
      "05acPS4aRGfvuOfku11Za8zve8i2.wav positive\n",
      "T190nKNqKoPk02FHlHYJTBDUnPA2_heavy.wav positive\n",
      "9OS5kJE2owbo0961Ni8cqM4KJL52_heavy.wav positive\n",
      "BTq6ZzkM2pdcUmgtOHVP4GG5wvZ2.wav positive\n",
      "AVuwckF8igNbIhGwa7Ly8nxvIAi2.wav positive\n",
      "H7CA9UCGWhXOL2ycjqtRBHNXMsk1_heavy.wav positive\n",
      "SxFxlGEvukdQzz8w08BlXJMR5E52_heavy.wav positive\n",
      "KFQ0ksPwkDcLUUjbVBYWGWr9ei62.wav positive\n"
     ]
    }
   ],
   "source": [
    "img_train = []\n",
    "label_train = []\n",
    "\n",
    "to_hot_one = {'positive':0, 'negative':1}\n",
    "\n",
    "for index,row in df_train.iterrows():\n",
    "    name = row['filename']\n",
    "    label = row['label']\n",
    "    filename = os.path.join(dataset,name)\n",
    "    \n",
    "    try:\n",
    "        print(name, label)\n",
    "        sound, sample_rate = lb.load(filename, sr=None)\n",
    "        sound = lb.util.pad_center(sound, 30*sample_rate)\n",
    "        sound_aug = additive_noise(noisetypes, noiselist, noisesnr, numnoise, audio=sound, noisecat=None)\n",
    "        \n",
    "        concat,concat_norm = normalization(sound,sr,scaler)\n",
    "        img_train.append(concat_norm)\n",
    "        label_train.append(to_hot_one[label])\n",
    "        \n",
    "        concat_aug,concat_aug_norm = normalization(sound_aug,sr,scaler)\n",
    "        img_train.append(concat_aug_norm)\n",
    "        label_train.append(to_hot_one[label])        \n",
    "\n",
    "    except:\n",
    "        print('None')"
   ]
  },
  {
   "cell_type": "code",
   "execution_count": null,
   "metadata": {},
   "outputs": [],
   "source": [
    "np.save(os.path.join('data',exp,'img_train.npy'),img_train)\n",
    "np.save(os.path.join('data',exp,'label_train.npy'),label_train)"
   ]
  },
  {
   "cell_type": "code",
   "execution_count": null,
   "metadata": {},
   "outputs": [],
   "source": [
    "img_train = np.load(os.path.join('data',exp,'img_train.npy'))\n",
    "label_train = np.load(os.path.join('data',exp,'label_train.npy'))"
   ]
  },
  {
   "cell_type": "code",
   "execution_count": null,
   "metadata": {},
   "outputs": [],
   "source": [
    "label_train.shape"
   ]
  },
  {
   "cell_type": "markdown",
   "metadata": {},
   "source": [
    "## Extracting Devel Data Feature"
   ]
  },
  {
   "cell_type": "code",
   "execution_count": null,
   "metadata": {
    "scrolled": true
   },
   "outputs": [],
   "source": [
    "df_devel = pd.read_csv('csv_files/experiment_data/devel.csv')\n",
    "df_devel.head()"
   ]
  },
  {
   "cell_type": "code",
   "execution_count": null,
   "metadata": {
    "colab": {
     "base_uri": "https://localhost:8080/"
    },
    "executionInfo": {
     "elapsed": 566012,
     "status": "ok",
     "timestamp": 1628674595921,
     "user": {
      "displayName": "Zanjabila _",
      "photoUrl": "",
      "userId": "18022974806779372296"
     },
     "user_tz": -420
    },
    "id": "CPTFm7VuV9GI",
    "outputId": "4d961fdc-a9fc-4f1b-80ea-08f3f6c341d8",
    "scrolled": true
   },
   "outputs": [],
   "source": [
    "img_devel = []\n",
    "label_devel = []\n",
    "\n",
    "to_hot_one = {'positive':0, 'negative':1}\n",
    "\n",
    "for index,row in df_devel.iterrows():\n",
    "    name = row['filename']\n",
    "    label = row['label']\n",
    "    filename = os.path.join(dataset,name)\n",
    "    \n",
    "    try:\n",
    "        print(name, label)\n",
    "        sound, sample_rate = lb.load(filename, sr=None)\n",
    "        sound = lb.util.pad_center(sound, 30*sample_rate)\n",
    "        sound_aug = additive_noise(noisetypes, noiselist, noisesnr, numnoise, audio=sound, noisecat=None)\n",
    "        \n",
    "        concat,concat_norm = normalization(sound,sr,scaler)\n",
    "        img_devel.append(concat_norm)\n",
    "        label_devel.append(to_hot_one[label])\n",
    "        \n",
    "        concat_aug,concat_aug_norm = normalization(sound_aug,sr,scaler)\n",
    "        img_devel.append(concat_aug_norm)\n",
    "        label_devel.append(to_hot_one[label])  \n",
    "    except:\n",
    "        print('None')"
   ]
  },
  {
   "cell_type": "code",
   "execution_count": null,
   "metadata": {},
   "outputs": [],
   "source": [
    "np.save(os.path.join('data',exp,'img_devel.npy'),img_devel)\n",
    "np.save(os.path.join('data',exp,'label_devel.npy'),label_devel)"
   ]
  },
  {
   "cell_type": "code",
   "execution_count": null,
   "metadata": {},
   "outputs": [],
   "source": [
    "img_devel = np.load(os.path.join('data',exp,'img_devel.npy'))\n",
    "label_devel = np.load(os.path.join('data',exp,'label_devel.npy'))"
   ]
  },
  {
   "cell_type": "markdown",
   "metadata": {},
   "source": [
    "## Extracting Test Data Feature "
   ]
  },
  {
   "cell_type": "code",
   "execution_count": null,
   "metadata": {},
   "outputs": [],
   "source": [
    "df_test = pd.read_csv('csv_files/experiment_data/test.csv')\n",
    "df_test.head()"
   ]
  },
  {
   "cell_type": "code",
   "execution_count": null,
   "metadata": {
    "scrolled": true
   },
   "outputs": [],
   "source": [
    "img_test = []\n",
    "label_test = []\n",
    "\n",
    "to_hot_one = {'positive':0, 'negative':1}\n",
    "\n",
    "for index,row in df_test.iterrows():\n",
    "    name = row['filename']\n",
    "    label = row['label']\n",
    "    filename = os.path.join(dataset,name)\n",
    "    \n",
    "    try:\n",
    "        print(name, label)\n",
    "        sound, sample_rate = lb.load(filename, sr=None)\n",
    "        sound = lb.util.pad_center(sound, 30*sample_rate)\n",
    "        \n",
    "        concat,concat_norm = normalization(sound,sr,scaler)\n",
    "        img_test.append(concat_norm)\n",
    "        label_test.append(to_hot_one[label])\n",
    "    except:\n",
    "        print('None')"
   ]
  },
  {
   "cell_type": "code",
   "execution_count": null,
   "metadata": {},
   "outputs": [],
   "source": [
    "np.save(os.path.join('data',exp,'img_test.npy'),img_test)\n",
    "np.save(os.path.join('data',exp,'label_test.npy'),label_test)"
   ]
  },
  {
   "cell_type": "code",
   "execution_count": null,
   "metadata": {},
   "outputs": [],
   "source": [
    "img_test = np.load(os.path.join('data',exp,'img_test.npy'))\n",
    "label_test = np.load(os.path.join('data',exp,'label_test.npy'))"
   ]
  },
  {
   "cell_type": "markdown",
   "metadata": {},
   "source": [
    "## Load Data"
   ]
  },
  {
   "cell_type": "code",
   "execution_count": null,
   "metadata": {},
   "outputs": [],
   "source": [
    "img_train = np.load(os.path.join('data',exp,'img_train.npy'))\n",
    "label_train = np.load(os.path.join('data',exp,'label_train.npy'))\n",
    "\n",
    "img_devel = np.load(os.path.join('data',exp,'img_devel.npy'))\n",
    "label_devel = np.load(os.path.join('data',exp,'label_devel.npy'))\n",
    "\n",
    "img_test = np.load(os.path.join('data',exp,'img_test.npy'))\n",
    "label_test = np.load(os.path.join('data',exp,'label_test.npy'))"
   ]
  },
  {
   "cell_type": "code",
   "execution_count": null,
   "metadata": {
    "executionInfo": {
     "elapsed": 382,
     "status": "ok",
     "timestamp": 1628679377021,
     "user": {
      "displayName": "Zanjabila _",
      "photoUrl": "",
      "userId": "18022974806779372296"
     },
     "user_tz": -420
    },
    "id": "4nNh0gcWiXWZ"
   },
   "outputs": [],
   "source": [
    "img_train = np.array(img_train)\n",
    "label_train = np.array(label_train)\n",
    "\n",
    "img_devel = np.array(img_devel)\n",
    "label_devel = np.array(label_devel)\n",
    "\n",
    "img_test = np.array(img_test)\n",
    "label_test = np.array(label_test)"
   ]
  },
  {
   "cell_type": "code",
   "execution_count": null,
   "metadata": {},
   "outputs": [],
   "source": [
    "print(img_train.shape)\n",
    "print(img_devel.shape)\n",
    "print(img_test.shape)"
   ]
  },
  {
   "cell_type": "code",
   "execution_count": null,
   "metadata": {
    "executionInfo": {
     "elapsed": 495,
     "status": "ok",
     "timestamp": 1628680244012,
     "user": {
      "displayName": "Zanjabila _",
      "photoUrl": "",
      "userId": "18022974806779372296"
     },
     "user_tz": -420
    },
    "id": "386DEUyS52IW"
   },
   "outputs": [],
   "source": [
    "if os.path.exists(os.path.join('data',exp,'array'))==False:\n",
    "    os.mkdir(os.path.join('data',exp,'array'))"
   ]
  },
  {
   "cell_type": "markdown",
   "metadata": {},
   "source": [
    "## Save data array\\"
   ]
  },
  {
   "cell_type": "code",
   "execution_count": null,
   "metadata": {
    "executionInfo": {
     "elapsed": 328,
     "status": "ok",
     "timestamp": 1628680382548,
     "user": {
      "displayName": "Zanjabila _",
      "photoUrl": "",
      "userId": "18022974806779372296"
     },
     "user_tz": -420
    },
    "id": "wvxF8ZCy6F0L"
   },
   "outputs": [],
   "source": [
    "np.save(os.path.join('data',exp,'array','img_train.npy'),img_train)\n",
    "np.save(os.path.join('data',exp,'array','label_train.npy'),label_train)\n",
    "\n",
    "np.save(os.path.join('data',exp,'array','img_devel.npy'),img_devel)\n",
    "np.save(os.path.join('data',exp,'array','label_devel.npy'),label_devel)\n",
    "\n",
    "np.save(os.path.join('data',exp,'array','img_test.npy'),img_test)\n",
    "np.save(os.path.join('data',exp,'array','label_test.npy'),label_test)"
   ]
  },
  {
   "cell_type": "code",
   "execution_count": null,
   "metadata": {},
   "outputs": [],
   "source": [
    "img_train = np.load(os.path.join('data',exp,'array','img_train.npy'))\n",
    "label_train = np.load(os.path.join('data',exp,'array','label_train.npy'))\n",
    "\n",
    "img_val = np.load(os.path.join('data',exp,'array','img_devel.npy'))\n",
    "label_val = np.load(os.path.join('data',exp,'array','label_devel.npy'))\n",
    "\n",
    "img_test = np.load(os.path.join('data',exp,'array','img_test.npy'))\n",
    "label_test = np.load(os.path.join('data',exp,'array','label_test.npy'))"
   ]
  },
  {
   "cell_type": "markdown",
   "metadata": {},
   "source": [
    "## Augmented using SMOTE"
   ]
  },
  {
   "cell_type": "code",
   "execution_count": null,
   "metadata": {
    "colab": {
     "base_uri": "https://localhost:8080/"
    },
    "executionInfo": {
     "elapsed": 479,
     "status": "ok",
     "timestamp": 1628680500226,
     "user": {
      "displayName": "Zanjabila _",
      "photoUrl": "",
      "userId": "18022974806779372296"
     },
     "user_tz": -420
    },
    "id": "U38q_ZjD30JM",
    "outputId": "70898572-a362-4806-bfe1-6aa926f1e521"
   },
   "outputs": [],
   "source": [
    "oversample = SMOTE()\n",
    "img_train_smote, label_train_smote = oversample.fit_resample(np.reshape(img_train,[img_train.shape[0],img_train.shape[1]]), label_train)"
   ]
  },
  {
   "cell_type": "code",
   "execution_count": null,
   "metadata": {
    "colab": {
     "base_uri": "https://localhost:8080/"
    },
    "executionInfo": {
     "elapsed": 401,
     "status": "ok",
     "timestamp": 1628680630399,
     "user": {
      "displayName": "Zanjabila _",
      "photoUrl": "",
      "userId": "18022974806779372296"
     },
     "user_tz": -420
    },
    "id": "tGXlEUp97ZoT",
    "outputId": "0e30e3c3-7f09-4bee-ce3b-a33edf430f48"
   },
   "outputs": [],
   "source": [
    "oversample = SMOTE()\n",
    "img_val_smote, label_val_smote = oversample.fit_resample(np.reshape(img_val,[img_val.shape[0],img_val.shape[1]]), label_val)"
   ]
  },
  {
   "cell_type": "code",
   "execution_count": null,
   "metadata": {
    "executionInfo": {
     "elapsed": 430,
     "status": "ok",
     "timestamp": 1628680690014,
     "user": {
      "displayName": "Zanjabila _",
      "photoUrl": "",
      "userId": "18022974806779372296"
     },
     "user_tz": -420
    },
    "id": "So_lDrAY7lmt"
   },
   "outputs": [],
   "source": [
    "np.save(os.path.join('data',exp,'array','img_train_smote.npy'),img_train_smote)\n",
    "np.save(os.path.join('data',exp,'array','label_train_smote.npy'),label_train_smote)\n",
    "\n",
    "np.save(os.path.join('data',exp,'array','img_devel_smote.npy'),img_val_smote)\n",
    "np.save(os.path.join('data',exp,'array','label_devel_smote.npy'),label_val_smote)"
   ]
  },
  {
   "cell_type": "code",
   "execution_count": null,
   "metadata": {},
   "outputs": [],
   "source": []
  }
 ],
 "metadata": {
  "colab": {
   "authorship_tag": "ABX9TyMFOqOD6QIOjFc4WidsGqZi",
   "name": "MFCC_1D",
   "provenance": []
  },
  "kernelspec": {
   "display_name": "Python 3 (ipykernel)",
   "language": "python",
   "name": "python3"
  },
  "language_info": {
   "codemirror_mode": {
    "name": "ipython",
    "version": 3
   },
   "file_extension": ".py",
   "mimetype": "text/x-python",
   "name": "python",
   "nbconvert_exporter": "python",
   "pygments_lexer": "ipython3",
   "version": "3.9.7"
  }
 },
 "nbformat": 4,
 "nbformat_minor": 1
}
