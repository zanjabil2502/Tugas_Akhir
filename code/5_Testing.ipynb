{
 "cells": [
  {
   "cell_type": "markdown",
   "id": "b15e59b1",
   "metadata": {},
   "source": [
    "## Testing 5 Seed"
   ]
  },
  {
   "cell_type": "code",
   "execution_count": 19,
   "id": "b67ea186",
   "metadata": {
    "scrolled": false
   },
   "outputs": [
    {
     "name": "stdout",
     "output_type": "stream",
     "text": [
      "DEBUG: 1\n",
      "Not K-Fold Experiment\n",
      "Return Potential: False\n",
      "Loading checkpoint: result/exp-1/30/panns/best_checkpoint.pt\n",
      "Model Sucessful Load !\n",
      "Loading checkpoint: result/exp-1/41/panns/best_checkpoint.pt\n",
      "Model Sucessful Load !\n",
      "Loading checkpoint: result/exp-1/42/panns/best_checkpoint.pt\n",
      "Model Sucessful Load !\n",
      "Loading checkpoint: result/exp-1/46/panns/best_checkpoint.pt\n",
      "Model Sucessful Load !\n",
      "Loading checkpoint: result/exp-1/9/panns/best_checkpoint.pt\n",
      "Model Sucessful Load !\n",
      "++++++++++++++++++++++++++++++++++++++++\n",
      "Control Files Classified incorrectly:\n",
      "Num. Files: 2\n",
      "['test_007.wav' 'test_133.wav']\n",
      "++++++++++++++++++++++++++++++++++++++++\n",
      "----------------------------------------\n",
      "Patient Files Classified incorrectly:\n",
      "Num. Files: 23\n",
      "['test_067.wav' 'test_062.wav' 'test_074.wav' 'test_093.wav'\n",
      " 'test_124.wav' 'test_135.wav' 'test_085.wav' 'test_103.wav'\n",
      " 'test_159.wav' 'test_156.wav' 'test_107.wav' 'test_200.wav'\n",
      " 'test_047.wav' 'test_206.wav' 'test_058.wav' 'test_011.wav'\n",
      " 'test_046.wav' 'test_092.wav' 'test_043.wav' 'test_102.wav'\n",
      " 'test_155.wav' 'test_039.wav' 'test_056.wav']\n",
      "----------------------------------------\n",
      "======== Confusion Matrix ==========\n",
      "Predicted  0.0  1.0  All\n",
      "Target                  \n",
      "0          167    2  169\n",
      "1           23   16   39\n",
      "All        190   18  208\n",
      "Test\n",
      "  Acurracy:  0.8798076923076923 Acurracy Control:  0.9881656804733728 Acurracy Patient:  0.41025641025641024\n",
      "F1: 0.5614035087719298 UAR: 0.6992110453648915\n"
     ]
    },
    {
     "data": {
      "text/plain": [
       "0"
      ]
     },
     "execution_count": 19,
     "metadata": {},
     "output_type": "execute_result"
    }
   ],
   "source": [
    "import os\n",
    "\n",
    "data = 'csv_files/experiment_data/test.csv'\n",
    "folder = 'dataset/Merge-Data/'\n",
    "experiment_dir = 'result/'\n",
    "command = f\"python script/test_all_seeds.py -t {data} -r {folder} --experiment_dir {experiment_dir} --simples_vote True\"\n",
    "os.system(command)"
   ]
  }
 ],
 "metadata": {
  "kernelspec": {
   "display_name": "Python 3 (ipykernel)",
   "language": "python",
   "name": "python3"
  },
  "language_info": {
   "codemirror_mode": {
    "name": "ipython",
    "version": 3
   },
   "file_extension": ".py",
   "mimetype": "text/x-python",
   "name": "python",
   "nbconvert_exporter": "python",
   "pygments_lexer": "ipython3",
   "version": "3.9.8"
  }
 },
 "nbformat": 4,
 "nbformat_minor": 5
}
