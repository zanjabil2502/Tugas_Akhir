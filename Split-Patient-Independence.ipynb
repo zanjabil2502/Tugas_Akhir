{
 "cells": [
  {
   "cell_type": "code",
   "execution_count": 1,
   "metadata": {
    "executionInfo": {
     "elapsed": 18,
     "status": "ok",
     "timestamp": 1629189508993,
     "user": {
      "displayName": "Zanjabila _",
      "photoUrl": "",
      "userId": "18022974806779372296"
     },
     "user_tz": -420
    },
    "id": "A9jyV_df_i-W"
   },
   "outputs": [],
   "source": [
    "import splitfolders\n",
    "import os\n",
    "import pandas as pd"
   ]
  },
  {
   "cell_type": "code",
   "execution_count": 4,
   "metadata": {},
   "outputs": [],
   "source": [
    "os.makedirs('data_split/')"
   ]
  },
  {
   "cell_type": "code",
   "execution_count": 5,
   "metadata": {
    "colab": {
     "base_uri": "https://localhost:8080/"
    },
    "executionInfo": {
     "elapsed": 428385,
     "status": "ok",
     "timestamp": 1629168715857,
     "user": {
      "displayName": "Zanjabila _",
      "photoUrl": "",
      "userId": "18022974806779372296"
     },
     "user_tz": -420
    },
    "id": "aE5zC5Eu_rSQ",
    "outputId": "b8618e21-fbba-4e48-efb2-686591279512"
   },
   "outputs": [],
   "source": [
    "audio_loc = 'split_test/'\n",
    "splitfolders.ratio(audio_loc, output='data_split', seed=1337, ratio=(0.8, 0.2))"
   ]
  },
  {
   "cell_type": "code",
   "execution_count": null,
   "metadata": {},
   "outputs": [],
   "source": []
  }
 ],
 "metadata": {
  "colab": {
   "authorship_tag": "ABX9TyNNBP48Sqb1KNbWRiZv73OG",
   "name": "Split",
   "provenance": []
  },
  "kernelspec": {
   "display_name": "Python 3",
   "language": "python",
   "name": "python3"
  },
  "language_info": {
   "codemirror_mode": {
    "name": "ipython",
    "version": 3
   },
   "file_extension": ".py",
   "mimetype": "text/x-python",
   "name": "python",
   "nbconvert_exporter": "python",
   "pygments_lexer": "ipython3",
   "version": "3.9.5"
  }
 },
 "nbformat": 4,
 "nbformat_minor": 1
}
